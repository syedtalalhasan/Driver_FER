{
 "cells": [
  {
   "cell_type": "code",
   "execution_count": 38,
   "metadata": {
    "id": "TYMUcQ_mTnGC"
   },
   "outputs": [],
   "source": [
    "import glob\n",
    "import os\n",
    "import cv2\n",
    "import numpy as np\n",
    "import torch\n",
    "import torch.nn as nn\n",
    "from torch.utils.data import Dataset, DataLoader , random_split\n",
    "from torchsummary import summary\n",
    "import matplotlib.pyplot as plt\n",
    "from random import randint\n",
    "from tqdm import tqdm\n",
    "from tqdm.notebook import trange, tqdm\n",
    "import tensorflow as tf\n",
    "import keras\n",
    "import torch.nn.functional as F\n",
    "from sklearn.metrics import f1_score, accuracy_score"
   ]
  },
  {
   "cell_type": "code",
   "execution_count": 3,
   "metadata": {},
   "outputs": [
    {
     "name": "stdout",
     "output_type": "stream",
     "text": [
      "2.18.0\n"
     ]
    }
   ],
   "source": [
    "print(tf.__version__)"
   ]
  },
  {
   "cell_type": "code",
   "execution_count": 3,
   "metadata": {
    "id": "qjudcIKfUJAv"
   },
   "outputs": [],
   "source": [
    "#Data Loader for the FER training data conforming to PyTorch format\n",
    "\n",
    "class FerTrain(Dataset):\n",
    "    def __init__(self): # add additional parameters needed to load the dataset e.g dataset path\n",
    "        self.train_images  = np.load('train_images.npy')\n",
    "        self.train_labels = np.load('train_labels.npy')\n",
    "        len(self.train_images)\n",
    "\n",
    "\n",
    "    def __len__(self):\n",
    "        return len(self.train_images)\n",
    "\n",
    "    def __getitem__(self, idx):\n",
    "        # your code here\n",
    "        img = self.train_images[idx,:]\n",
    "        #Upscale each image to 256x256\n",
    "        img = cv2.resize(img, (256, 256), interpolation = cv2.INTER_LINEAR)\n",
    "        img= img.reshape(256,256,1)\n",
    "        img=img.astype(np.float32)\n",
    "        img=img.T\n",
    "        img_tensor = torch.from_numpy(img)\n",
    "\n",
    "        label= torch.from_numpy(self.train_labels[idx]).to(torch.float32)\n",
    "\n",
    "        return img_tensor, label"
   ]
  },
  {
   "cell_type": "code",
   "execution_count": 4,
   "metadata": {
    "id": "uol6cSQwE8ZW"
   },
   "outputs": [],
   "source": [
    "#Data Loader for the FER testing data conforming to PyTorch format\n",
    "\n",
    "class FerTest(Dataset):\n",
    "  def __init__(self): # add additional parameters needed to load the dataset e.g dataset path\n",
    "        self.test_images  = np.load('test_images.npy')\n",
    "        self.test_labels = np.load('test_labels.npy')\n",
    "\n",
    "\n",
    "  def __len__(self):\n",
    "\n",
    "        return self.test_images.shape[0]\n",
    "\n",
    "  def __getitem__(self, idx):\n",
    "      # your code here\n",
    "      img = self.test_images[idx]\n",
    "      img = cv2.resize(img, (256, 256), interpolation = cv2.INTER_LANCZOS4)\n",
    "      img= img.reshape(256,256,1)\n",
    "      img=img.astype(np.float32)\n",
    "      img=img.T\n",
    "      img_tensor = torch.from_numpy(img)\n",
    "\n",
    "      label= torch.from_numpy(self.test_labels[idx]).to(torch.float32)\n",
    "\n",
    "      return img_tensor, label"
   ]
  },
  {
   "cell_type": "code",
   "execution_count": 5,
   "metadata": {
    "colab": {
     "base_uri": "https://localhost:8080/"
    },
    "id": "vrfXgQgaKq1u",
    "outputId": "31e81f83-9e6f-4a40-f858-3a959fee55c1"
   },
   "outputs": [
    {
     "data": {
      "text/plain": [
       "(tensor([[[0.2784, 0.2784, 0.2784,  ..., 0.7137, 0.7137, 0.7137],\n",
       "          [0.2784, 0.2784, 0.2784,  ..., 0.7137, 0.7137, 0.7137],\n",
       "          [0.2784, 0.2784, 0.2784,  ..., 0.7137, 0.7137, 0.7137],\n",
       "          ...,\n",
       "          [0.0627, 0.0627, 0.0627,  ..., 0.5098, 0.5098, 0.5098],\n",
       "          [0.0627, 0.0627, 0.0627,  ..., 0.5098, 0.5098, 0.5098],\n",
       "          [0.0627, 0.0627, 0.0627,  ..., 0.5098, 0.5098, 0.5098]]]),\n",
       " tensor([0., 1., 0.]))"
      ]
     },
     "execution_count": 5,
     "metadata": {},
     "output_type": "execute_result"
    }
   ],
   "source": [
    "fer = FerTrain()\n",
    "fer.__getitem__(6708)\n"
   ]
  },
  {
   "cell_type": "code",
   "execution_count": 6,
   "metadata": {
    "id": "odEmRkh7QLDW"
   },
   "outputs": [],
   "source": [
    "class EmotionDetectionNet(nn.Module):\n",
    "    def __init__(self):\n",
    "        super(EmotionDetectionNet, self).__init__()\n",
    "\n",
    "        # Convolutional Layers\n",
    "        self.conv = nn.Sequential(\n",
    "            nn.Conv2d(1, 256, kernel_size=3, stride=1, padding=1),  # 255x255 -> 255x255\n",
    "            nn.BatchNorm2d(256),\n",
    "            nn.ReLU(inplace=True),\n",
    "            nn.Conv2d(256, 128, kernel_size=3, stride=2, padding=1),  # 255x255 -> 128x128\n",
    "            nn.BatchNorm2d(128),\n",
    "            nn.ReLU(inplace=True),\n",
    "            nn.Conv2d(128, 64, kernel_size=3, stride=2, padding=1),  # 128x128 -> 64x64\n",
    "            nn.BatchNorm2d(64),\n",
    "            nn.ReLU(inplace=True),\n",
    "            nn.Conv2d(64, 32, kernel_size=3, stride=2, padding=1),  # 64x64 -> 32x32\n",
    "            nn.BatchNorm2d(32),\n",
    "            nn.ReLU(inplace=True),\n",
    "            nn.Conv2d(32, 32, kernel_size=3, stride=2, padding=1),  # 32x32 -> 16x16\n",
    "            nn.BatchNorm2d(32),\n",
    "            nn.ReLU(inplace=True),\n",
    "            nn.Conv2d(32, 32, kernel_size=3, stride=2, padding=1),  # 16x16 -> 8x8\n",
    "            nn.BatchNorm2d(32),\n",
    "            nn.ReLU(inplace=True)\n",
    "        )\n",
    "\n",
    "        # Fully Connected Layers\n",
    "        self.fc = nn.Sequential(\n",
    "            nn.Linear(32 * 8 * 8, 1024),  # Flattened feature size -> 1024\n",
    "            nn.ReLU(inplace=True),\n",
    "            nn.Dropout(0.5),\n",
    "            nn.Linear(1024, 512),\n",
    "            nn.ReLU(inplace=True),\n",
    "            nn.Dropout(0.5),\n",
    "            nn.Linear(512, 3),  # 3 classes for classification\n",
    "            nn.Softmax(dim=1)\n",
    "        )\n",
    "\n",
    "    def forward(self, x):\n",
    "        # Pass through convolutional layers\n",
    "        x = self.conv(x)\n",
    "        # Flatten the tensor for fully connected layers\n",
    "        x = torch.flatten(x, start_dim=1)\n",
    "        # Pass through fully connected layers\n",
    "        x = self.fc(x)\n",
    "        return x"
   ]
  },
  {
   "cell_type": "code",
   "execution_count": 7,
   "metadata": {
    "colab": {
     "base_uri": "https://localhost:8080/"
    },
    "id": "KHD-x76yEN45",
    "outputId": "52d75dae-c14c-439f-acf9-d5d607651136"
   },
   "outputs": [
    {
     "name": "stdout",
     "output_type": "stream",
     "text": [
      "cuda:0\n",
      "----------------------------------------------------------------\n",
      "        Layer (type)               Output Shape         Param #\n",
      "================================================================\n",
      "            Conv2d-1        [-1, 256, 256, 256]           2,560\n",
      "       BatchNorm2d-2        [-1, 256, 256, 256]             512\n",
      "              ReLU-3        [-1, 256, 256, 256]               0\n",
      "            Conv2d-4        [-1, 128, 128, 128]         295,040\n",
      "       BatchNorm2d-5        [-1, 128, 128, 128]             256\n",
      "              ReLU-6        [-1, 128, 128, 128]               0\n",
      "            Conv2d-7           [-1, 64, 64, 64]          73,792\n",
      "       BatchNorm2d-8           [-1, 64, 64, 64]             128\n",
      "              ReLU-9           [-1, 64, 64, 64]               0\n",
      "           Conv2d-10           [-1, 32, 32, 32]          18,464\n",
      "      BatchNorm2d-11           [-1, 32, 32, 32]              64\n",
      "             ReLU-12           [-1, 32, 32, 32]               0\n",
      "           Conv2d-13           [-1, 32, 16, 16]           9,248\n",
      "      BatchNorm2d-14           [-1, 32, 16, 16]              64\n",
      "             ReLU-15           [-1, 32, 16, 16]               0\n",
      "           Conv2d-16             [-1, 32, 8, 8]           9,248\n",
      "      BatchNorm2d-17             [-1, 32, 8, 8]              64\n",
      "             ReLU-18             [-1, 32, 8, 8]               0\n",
      "           Linear-19                 [-1, 1024]       2,098,176\n",
      "             ReLU-20                 [-1, 1024]               0\n",
      "          Dropout-21                 [-1, 1024]               0\n",
      "           Linear-22                  [-1, 512]         524,800\n",
      "             ReLU-23                  [-1, 512]               0\n",
      "          Dropout-24                  [-1, 512]               0\n",
      "           Linear-25                    [-1, 3]           1,539\n",
      "          Softmax-26                    [-1, 3]               0\n",
      "================================================================\n",
      "Total params: 3,033,955\n",
      "Trainable params: 3,033,955\n",
      "Non-trainable params: 0\n",
      "----------------------------------------------------------------\n",
      "Input size (MB): 0.25\n",
      "Forward/backward pass size (MB): 439.02\n",
      "Params size (MB): 11.57\n",
      "Estimated Total Size (MB): 450.84\n",
      "----------------------------------------------------------------\n"
     ]
    }
   ],
   "source": [
    "device=None\n",
    "if torch.cuda.is_available():\n",
    "  device = 'cuda:0'\n",
    "else:\n",
    "  device = 'cpu'\n",
    "print(device)\n",
    "# Initialize model\n",
    "model = EmotionDetectionNet()\n",
    "# Display the model summary\n",
    "# summary(model, (1, 48, 48))\n",
    "net =  EmotionDetectionNet()\n",
    "model.to(device)\n",
    "# net.to(device)\n",
    "summary(model,(1,256,256))\n"
   ]
  },
  {
   "cell_type": "code",
   "execution_count": 21,
   "metadata": {
    "colab": {
     "base_uri": "https://localhost:8080/"
    },
    "id": "Zv7zOHyhEs3U",
    "outputId": "06c88cf0-e9a7-4051-ff77-d11be15255be"
   },
   "outputs": [
    {
     "name": "stdout",
     "output_type": "stream",
     "text": [
      "16175\n",
      "12131 4044\n"
     ]
    }
   ],
   "source": [
    "bath_size = 10\n",
    "print(len(fer))\n",
    "split_size_train = int(len(fer)*0.75) #create a 75 25 train validate split\n",
    "split_size_val = len(fer) - split_size_train\n",
    "train,valid = random_split(fer, lengths=[split_size_train, split_size_val])\n",
    "print(len(train),len(valid))\n",
    "train_dataloader = DataLoader(train, batch_size=bath_size, shuffle=True)\n",
    "valid_dataloader = DataLoader(valid, batch_size=bath_size, shuffle=True)\n"
   ]
  },
  {
   "cell_type": "code",
   "execution_count": 22,
   "metadata": {
    "id": "DUhcw7hsFs2Y"
   },
   "outputs": [],
   "source": [
    "learning_rate = 1e-4\n",
    "loss_function = nn.CrossEntropyLoss()\n",
    "optimizer = torch.optim.Adam(model.parameters(), lr=learning_rate)"
   ]
  },
  {
   "cell_type": "code",
   "execution_count": 10,
   "metadata": {
    "id": "8vh7dCcanK4K"
   },
   "outputs": [],
   "source": [
    "def calculate_accuracy(predictions, labels):\n",
    "    predicted = torch.argmax(predictions, dim=1)\n",
    "    orig = torch.argmax(labels, dim=1)\n",
    "    correct = (predicted == orig).sum().item()\n",
    "    return correct"
   ]
  },
  {
   "cell_type": "code",
   "execution_count": 25,
   "metadata": {
    "colab": {
     "base_uri": "https://localhost:8080/",
     "height": 509,
     "referenced_widgets": [
      "ce3b9a7a3563465888ab1ed5512fc319",
      "e5f513f9bdc649e087431ab8eb6cd109",
      "96c5edfce5d44f62b10fc7612b08715b",
      "fc78874a0e784b089ef446d655cff3bf",
      "99be8374780c4c39bac0d4a1a6494b72",
      "4a4a1a225c10451fa5fd52c3280d3c9f",
      "a67f5737e27b4c8895f66df37a70d39e",
      "289937b2a9fc4e36a067171053c0f871",
      "226f4e8cfe6a4d53a58494e2f2f1d545",
      "15ee70847a3b4abc980d4fe59f93dca3",
      "e64652ead2b64f0c90afc6c9c2071122"
     ]
    },
    "id": "NOmQSbVSGhBX",
    "outputId": "eb81eda9-35ee-400a-adbd-0c3103bdc317"
   },
   "outputs": [
    {
     "name": "stdout",
     "output_type": "stream",
     "text": [
      "cuda:0\n"
     ]
    },
    {
     "data": {
      "application/vnd.jupyter.widget-view+json": {
       "model_id": "eef33a0f8495440ead4417bede621ffb",
       "version_major": 2,
       "version_minor": 0
      },
      "text/plain": [
       "  0%|          | 0/50 [00:00<?, ?it/s]"
      ]
     },
     "metadata": {},
     "output_type": "display_data"
    },
    {
     "data": {
      "application/vnd.jupyter.widget-view+json": {
       "model_id": "c18d2bd51d5944efa36210c6faeef2ba",
       "version_major": 2,
       "version_minor": 0
      },
      "text/plain": [
       "  0%|          | 0/1214 [00:00<?, ?it/s]"
      ]
     },
     "metadata": {},
     "output_type": "display_data"
    },
    {
     "name": "stdout",
     "output_type": "stream",
     "text": [
      "EPOCH  1    Training acc  0.5429890363531449 validation acc =  0.5905044510385756\n"
     ]
    },
    {
     "data": {
      "application/vnd.jupyter.widget-view+json": {
       "model_id": "614eec680c41421196568068bb368b39",
       "version_major": 2,
       "version_minor": 0
      },
      "text/plain": [
       "  0%|          | 0/1214 [00:00<?, ?it/s]"
      ]
     },
     "metadata": {},
     "output_type": "display_data"
    },
    {
     "name": "stdout",
     "output_type": "stream",
     "text": [
      "EPOCH  2    Training acc  0.6146236913692193 validation acc =  0.6293273986152325\n"
     ]
    },
    {
     "data": {
      "application/vnd.jupyter.widget-view+json": {
       "model_id": "ebe30ee88ac4494e8c21f25021dc4f95",
       "version_major": 2,
       "version_minor": 0
      },
      "text/plain": [
       "  0%|          | 0/1214 [00:00<?, ?it/s]"
      ]
     },
     "metadata": {},
     "output_type": "display_data"
    },
    {
     "name": "stdout",
     "output_type": "stream",
     "text": [
      "EPOCH  3    Training acc  0.6541093067348116 validation acc =  0.6394658753709199\n"
     ]
    },
    {
     "data": {
      "application/vnd.jupyter.widget-view+json": {
       "model_id": "44d92c05e4d842a1a955a59a29a9b99e",
       "version_major": 2,
       "version_minor": 0
      },
      "text/plain": [
       "  0%|          | 0/1214 [00:00<?, ?it/s]"
      ]
     },
     "metadata": {},
     "output_type": "display_data"
    },
    {
     "name": "stdout",
     "output_type": "stream",
     "text": [
      "EPOCH  4    Training acc  0.6752946995301294 validation acc =  0.6580118694362018\n"
     ]
    },
    {
     "data": {
      "application/vnd.jupyter.widget-view+json": {
       "model_id": "181179088baf46e6911ddfac98d8063f",
       "version_major": 2,
       "version_minor": 0
      },
      "text/plain": [
       "  0%|          | 0/1214 [00:00<?, ?it/s]"
      ]
     },
     "metadata": {},
     "output_type": "display_data"
    },
    {
     "name": "stdout",
     "output_type": "stream",
     "text": [
      "EPOCH  5    Training acc  0.6963152254554448 validation acc =  0.6644411473788329\n"
     ]
    },
    {
     "data": {
      "application/vnd.jupyter.widget-view+json": {
       "model_id": "fbf5b0a5fa664688b91371280c31ec16",
       "version_major": 2,
       "version_minor": 0
      },
      "text/plain": [
       "  0%|          | 0/1214 [00:00<?, ?it/s]"
      ]
     },
     "metadata": {},
     "output_type": "display_data"
    },
    {
     "name": "stdout",
     "output_type": "stream",
     "text": [
      "EPOCH  6    Training acc  0.7175830516857638 validation acc =  0.6585064292779427\n"
     ]
    },
    {
     "data": {
      "application/vnd.jupyter.widget-view+json": {
       "model_id": "f2c0bc685147443ebc561cbab88fb952",
       "version_major": 2,
       "version_minor": 0
      },
      "text/plain": [
       "  0%|          | 0/1214 [00:00<?, ?it/s]"
      ]
     },
     "metadata": {},
     "output_type": "display_data"
    },
    {
     "name": "stdout",
     "output_type": "stream",
     "text": [
      "EPOCH  7    Training acc  0.7349765064710246 validation acc =  0.6706231454005934\n"
     ]
    },
    {
     "data": {
      "application/vnd.jupyter.widget-view+json": {
       "model_id": "e1304b6b526f4805a9c30cd2f3fa736e",
       "version_major": 2,
       "version_minor": 0
      },
      "text/plain": [
       "  0%|          | 0/1214 [00:00<?, ?it/s]"
      ]
     },
     "metadata": {},
     "output_type": "display_data"
    },
    {
     "name": "stdout",
     "output_type": "stream",
     "text": [
      "EPOCH  8    Training acc  0.7513807600362707 validation acc =  0.6817507418397626\n"
     ]
    },
    {
     "data": {
      "application/vnd.jupyter.widget-view+json": {
       "model_id": "eee0c4acb64843349999fa70d6b57f3f",
       "version_major": 2,
       "version_minor": 0
      },
      "text/plain": [
       "  0%|          | 0/1214 [00:00<?, ?it/s]"
      ]
     },
     "metadata": {},
     "output_type": "display_data"
    },
    {
     "name": "stdout",
     "output_type": "stream",
     "text": [
      "EPOCH  9    Training acc  0.7646525430714698 validation acc =  0.6812561819980217\n"
     ]
    },
    {
     "data": {
      "application/vnd.jupyter.widget-view+json": {
       "model_id": "87c898fa36344a72bf0727e8d3d54066",
       "version_major": 2,
       "version_minor": 0
      },
      "text/plain": [
       "  0%|          | 0/1214 [00:00<?, ?it/s]"
      ]
     },
     "metadata": {},
     "output_type": "display_data"
    },
    {
     "name": "stdout",
     "output_type": "stream",
     "text": [
      "EPOCH  10    Training acc  0.7747094221416206 validation acc =  0.6772997032640949\n"
     ]
    },
    {
     "data": {
      "application/vnd.jupyter.widget-view+json": {
       "model_id": "904e4b55771f4a9397845bc6c6358b1a",
       "version_major": 2,
       "version_minor": 0
      },
      "text/plain": [
       "  0%|          | 0/1214 [00:00<?, ?it/s]"
      ]
     },
     "metadata": {},
     "output_type": "display_data"
    },
    {
     "name": "stdout",
     "output_type": "stream",
     "text": [
      "EPOCH  11    Training acc  0.7875690380018135 validation acc =  0.6958456973293768\n"
     ]
    },
    {
     "data": {
      "application/vnd.jupyter.widget-view+json": {
       "model_id": "cd93dc667470455d8832d9cab48eeadd",
       "version_major": 2,
       "version_minor": 0
      },
      "text/plain": [
       "  0%|          | 0/1214 [00:00<?, ?it/s]"
      ]
     },
     "metadata": {},
     "output_type": "display_data"
    },
    {
     "name": "stdout",
     "output_type": "stream",
     "text": [
      "EPOCH  12    Training acc  0.799934053251999 validation acc =  0.6866963402571711\n"
     ]
    },
    {
     "data": {
      "application/vnd.jupyter.widget-view+json": {
       "model_id": "bd25199093934fdfaa1c20d45e909b0f",
       "version_major": 2,
       "version_minor": 0
      },
      "text/plain": [
       "  0%|          | 0/1214 [00:00<?, ?it/s]"
      ]
     },
     "metadata": {},
     "output_type": "display_data"
    },
    {
     "name": "stdout",
     "output_type": "stream",
     "text": [
      "EPOCH  13    Training acc  0.8119693347621796 validation acc =  0.6852126607319485\n"
     ]
    },
    {
     "data": {
      "application/vnd.jupyter.widget-view+json": {
       "model_id": "762a0abcfa96412699780c39a25750b2",
       "version_major": 2,
       "version_minor": 0
      },
      "text/plain": [
       "  0%|          | 0/1214 [00:00<?, ?it/s]"
      ]
     },
     "metadata": {},
     "output_type": "display_data"
    },
    {
     "name": "stdout",
     "output_type": "stream",
     "text": [
      "EPOCH  14    Training acc  0.8189761767372846 validation acc =  0.6975766567754699\n"
     ]
    },
    {
     "data": {
      "application/vnd.jupyter.widget-view+json": {
       "model_id": "4739e13e5741429a99a536055587f348",
       "version_major": 2,
       "version_minor": 0
      },
      "text/plain": [
       "  0%|          | 0/1214 [00:00<?, ?it/s]"
      ]
     },
     "metadata": {},
     "output_type": "display_data"
    },
    {
     "name": "stdout",
     "output_type": "stream",
     "text": [
      "EPOCH  15    Training acc  0.8339790619075097 validation acc =  0.6866963402571711\n"
     ]
    },
    {
     "data": {
      "application/vnd.jupyter.widget-view+json": {
       "model_id": "c793c93d761d47fd8eff8397a23d1119",
       "version_major": 2,
       "version_minor": 0
      },
      "text/plain": [
       "  0%|          | 0/1214 [00:00<?, ?it/s]"
      ]
     },
     "metadata": {},
     "output_type": "display_data"
    },
    {
     "name": "stdout",
     "output_type": "stream",
     "text": [
      "EPOCH  16    Training acc  0.8426345725826395 validation acc =  0.6884272997032641\n"
     ]
    },
    {
     "data": {
      "application/vnd.jupyter.widget-view+json": {
       "model_id": "787a9e283ff04e14a33110245a3bbd7c",
       "version_major": 2,
       "version_minor": 0
      },
      "text/plain": [
       "  0%|          | 0/1214 [00:00<?, ?it/s]"
      ]
     },
     "metadata": {},
     "output_type": "display_data"
    },
    {
     "name": "stdout",
     "output_type": "stream",
     "text": [
      "EPOCH  17    Training acc  0.8477454455527161 validation acc =  0.6842235410484668\n"
     ]
    },
    {
     "data": {
      "application/vnd.jupyter.widget-view+json": {
       "model_id": "11bd3283b59c439ab2cd5853bcfce0a3",
       "version_major": 2,
       "version_minor": 0
      },
      "text/plain": [
       "  0%|          | 0/1214 [00:00<?, ?it/s]"
      ]
     },
     "metadata": {},
     "output_type": "display_data"
    },
    {
     "name": "stdout",
     "output_type": "stream",
     "text": [
      "EPOCH  18    Training acc  0.8510427829527656 validation acc =  0.6904055390702275\n"
     ]
    },
    {
     "data": {
      "application/vnd.jupyter.widget-view+json": {
       "model_id": "e726002f75464974aa0ae3b4f3740450",
       "version_major": 2,
       "version_minor": 0
      },
      "text/plain": [
       "  0%|          | 0/1214 [00:00<?, ?it/s]"
      ]
     },
     "metadata": {},
     "output_type": "display_data"
    },
    {
     "name": "stdout",
     "output_type": "stream",
     "text": [
      "EPOCH  19    Training acc  0.8559887890528398 validation acc =  0.6931256181998022\n"
     ]
    },
    {
     "data": {
      "application/vnd.jupyter.widget-view+json": {
       "model_id": "c26a24c32d2e4ce7b075821ad4ed3180",
       "version_major": 2,
       "version_minor": 0
      },
      "text/plain": [
       "  0%|          | 0/1214 [00:00<?, ?it/s]"
      ]
     },
     "metadata": {},
     "output_type": "display_data"
    },
    {
     "name": "stdout",
     "output_type": "stream",
     "text": [
      "EPOCH  20    Training acc  0.8617591295029264 validation acc =  0.6938674579624134\n"
     ]
    },
    {
     "data": {
      "application/vnd.jupyter.widget-view+json": {
       "model_id": "bdcb335c61964ba68d7e65e53dcb94e6",
       "version_major": 2,
       "version_minor": 0
      },
      "text/plain": [
       "  0%|          | 0/1214 [00:00<?, ?it/s]"
      ]
     },
     "metadata": {},
     "output_type": "display_data"
    },
    {
     "name": "stdout",
     "output_type": "stream",
     "text": [
      "EPOCH  21    Training acc  0.8737119775781057 validation acc =  0.6906528189910979\n"
     ]
    },
    {
     "data": {
      "application/vnd.jupyter.widget-view+json": {
       "model_id": "1cf7564fef324f94be24fb2e4c9b15fb",
       "version_major": 2,
       "version_minor": 0
      },
      "text/plain": [
       "  0%|          | 0/1214 [00:00<?, ?it/s]"
      ]
     },
     "metadata": {},
     "output_type": "display_data"
    },
    {
     "name": "stdout",
     "output_type": "stream",
     "text": [
      "EPOCH  22    Training acc  0.8712389745280685 validation acc =  0.7032640949554896\n"
     ]
    },
    {
     "data": {
      "application/vnd.jupyter.widget-view+json": {
       "model_id": "c9c8fbad005045719ae2470f0fa2ed8f",
       "version_major": 2,
       "version_minor": 0
      },
      "text/plain": [
       "  0%|          | 0/1214 [00:00<?, ?it/s]"
      ]
     },
     "metadata": {},
     "output_type": "display_data"
    },
    {
     "name": "stdout",
     "output_type": "stream",
     "text": [
      "EPOCH  23    Training acc  0.8824499216882368 validation acc =  0.6933728981206726\n"
     ]
    },
    {
     "data": {
      "application/vnd.jupyter.widget-view+json": {
       "model_id": "1b16fff3a4b1455590d5efb264f58283",
       "version_major": 2,
       "version_minor": 0
      },
      "text/plain": [
       "  0%|          | 0/1214 [00:00<?, ?it/s]"
      ]
     },
     "metadata": {},
     "output_type": "display_data"
    },
    {
     "name": "stdout",
     "output_type": "stream",
     "text": [
      "EPOCH  24    Training acc  0.8861594262632924 validation acc =  0.6911473788328387\n"
     ]
    },
    {
     "data": {
      "application/vnd.jupyter.widget-view+json": {
       "model_id": "7b987d2a34304b56a79a31257a677cae",
       "version_major": 2,
       "version_minor": 0
      },
      "text/plain": [
       "  0%|          | 0/1214 [00:00<?, ?it/s]"
      ]
     },
     "metadata": {},
     "output_type": "display_data"
    },
    {
     "name": "stdout",
     "output_type": "stream",
     "text": [
      "EPOCH  25    Training acc  0.8830269557332454 validation acc =  0.6745796241345203\n"
     ]
    },
    {
     "data": {
      "application/vnd.jupyter.widget-view+json": {
       "model_id": "b09bfe1f89d14b5aacf74953310744f0",
       "version_major": 2,
       "version_minor": 0
      },
      "text/plain": [
       "  0%|          | 0/1214 [00:00<?, ?it/s]"
      ]
     },
     "metadata": {},
     "output_type": "display_data"
    },
    {
     "name": "stdout",
     "output_type": "stream",
     "text": [
      "EPOCH  26    Training acc  0.8890445964883357 validation acc =  0.690158259149357\n"
     ]
    },
    {
     "data": {
      "application/vnd.jupyter.widget-view+json": {
       "model_id": "05c0e36fa69a4c7e98b2608d832466a8",
       "version_major": 2,
       "version_minor": 0
      },
      "text/plain": [
       "  0%|          | 0/1214 [00:00<?, ?it/s]"
      ]
     },
     "metadata": {},
     "output_type": "display_data"
    },
    {
     "name": "stdout",
     "output_type": "stream",
     "text": [
      "EPOCH  27    Training acc  0.8977001071634655 validation acc =  0.6941147378832839\n"
     ]
    },
    {
     "data": {
      "application/vnd.jupyter.widget-view+json": {
       "model_id": "4b51954adeba48bda9ac1c699309016a",
       "version_major": 2,
       "version_minor": 0
      },
      "text/plain": [
       "  0%|          | 0/1214 [00:00<?, ?it/s]"
      ]
     },
     "metadata": {},
     "output_type": "display_data"
    },
    {
     "name": "stdout",
     "output_type": "stream",
     "text": [
      "EPOCH  28    Training acc  0.8941554694584123 validation acc =  0.6881800197823936\n"
     ]
    },
    {
     "data": {
      "application/vnd.jupyter.widget-view+json": {
       "model_id": "57232bb0f01b46aea5dbe5e93cd79e22",
       "version_major": 2,
       "version_minor": 0
      },
      "text/plain": [
       "  0%|          | 0/1214 [00:00<?, ?it/s]"
      ]
     },
     "metadata": {},
     "output_type": "display_data"
    },
    {
     "name": "stdout",
     "output_type": "stream",
     "text": [
      "EPOCH  29    Training acc  0.8968757728134531 validation acc =  0.6913946587537092\n"
     ]
    },
    {
     "data": {
      "application/vnd.jupyter.widget-view+json": {
       "model_id": "eaa385c3588e47faa3c49a70a08e404c",
       "version_major": 2,
       "version_minor": 0
      },
      "text/plain": [
       "  0%|          | 0/1214 [00:00<?, ?it/s]"
      ]
     },
     "metadata": {},
     "output_type": "display_data"
    },
    {
     "name": "stdout",
     "output_type": "stream",
     "text": [
      "EPOCH  30    Training acc  0.9020690792185311 validation acc =  0.6951038575667656\n"
     ]
    },
    {
     "data": {
      "application/vnd.jupyter.widget-view+json": {
       "model_id": "6bc86a9b0cf349aa92b82e75d8337a1d",
       "version_major": 2,
       "version_minor": 0
      },
      "text/plain": [
       "  0%|          | 0/1214 [00:00<?, ?it/s]"
      ]
     },
     "metadata": {},
     "output_type": "display_data"
    },
    {
     "name": "stdout",
     "output_type": "stream",
     "text": [
      "EPOCH  31    Training acc  0.902398812958536 validation acc =  0.6874381800197824\n"
     ]
    },
    {
     "data": {
      "application/vnd.jupyter.widget-view+json": {
       "model_id": "710198360de3403a9815dab074d81a73",
       "version_major": 2,
       "version_minor": 0
      },
      "text/plain": [
       "  0%|          | 0/1214 [00:00<?, ?it/s]"
      ]
     },
     "metadata": {},
     "output_type": "display_data"
    },
    {
     "name": "stdout",
     "output_type": "stream",
     "text": [
      "EPOCH  32    Training acc  0.902398812958536 validation acc =  0.6869436201780416\n"
     ]
    },
    {
     "data": {
      "application/vnd.jupyter.widget-view+json": {
       "model_id": "add402ceb3ce4862a04f4a0fb8587861",
       "version_major": 2,
       "version_minor": 0
      },
      "text/plain": [
       "  0%|          | 0/1214 [00:00<?, ?it/s]"
      ]
     },
     "metadata": {},
     "output_type": "display_data"
    },
    {
     "name": "stdout",
     "output_type": "stream",
     "text": [
      "EPOCH  33    Training acc  0.9105597230236584 validation acc =  0.6812561819980217\n"
     ]
    },
    {
     "data": {
      "application/vnd.jupyter.widget-view+json": {
       "model_id": "d3ba6a7e583a4fc3a1f994cec3acd995",
       "version_major": 2,
       "version_minor": 0
      },
      "text/plain": [
       "  0%|          | 0/1214 [00:00<?, ?it/s]"
      ]
     },
     "metadata": {},
     "output_type": "display_data"
    },
    {
     "name": "stdout",
     "output_type": "stream",
     "text": [
      "EPOCH  34    Training acc  0.9106421564586596 validation acc =  0.6985657764589516\n"
     ]
    },
    {
     "data": {
      "application/vnd.jupyter.widget-view+json": {
       "model_id": "1af70295823a46e0bb890d9f78193b4d",
       "version_major": 2,
       "version_minor": 0
      },
      "text/plain": [
       "  0%|          | 0/1214 [00:00<?, ?it/s]"
      ]
     },
     "metadata": {},
     "output_type": "display_data"
    },
    {
     "name": "stdout",
     "output_type": "stream",
     "text": [
      "EPOCH  35    Training acc  0.9128678592036931 validation acc =  0.6869436201780416\n"
     ]
    },
    {
     "data": {
      "application/vnd.jupyter.widget-view+json": {
       "model_id": "690ba03ebb404666843f85d741398889",
       "version_major": 2,
       "version_minor": 0
      },
      "text/plain": [
       "  0%|          | 0/1214 [00:00<?, ?it/s]"
      ]
     },
     "metadata": {},
     "output_type": "display_data"
    },
    {
     "name": "stdout",
     "output_type": "stream",
     "text": [
      "EPOCH  36    Training acc  0.9090759211936361 validation acc =  0.6862017804154302\n"
     ]
    },
    {
     "data": {
      "application/vnd.jupyter.widget-view+json": {
       "model_id": "187c5b0c6e14475f8311066d82ea2400",
       "version_major": 2,
       "version_minor": 0
      },
      "text/plain": [
       "  0%|          | 0/1214 [00:00<?, ?it/s]"
      ]
     },
     "metadata": {},
     "output_type": "display_data"
    },
    {
     "name": "stdout",
     "output_type": "stream",
     "text": [
      "EPOCH  37    Training acc  0.9134448932487017 validation acc =  0.6881800197823936\n"
     ]
    },
    {
     "data": {
      "application/vnd.jupyter.widget-view+json": {
       "model_id": "1cd5f25cee8143df887a5935100a0957",
       "version_major": 2,
       "version_minor": 0
      },
      "text/plain": [
       "  0%|          | 0/1214 [00:00<?, ?it/s]"
      ]
     },
     "metadata": {},
     "output_type": "display_data"
    },
    {
     "name": "stdout",
     "output_type": "stream",
     "text": [
      "EPOCH  38    Training acc  0.9146813947737202 validation acc =  0.68026706231454\n"
     ]
    },
    {
     "data": {
      "application/vnd.jupyter.widget-view+json": {
       "model_id": "9150f0fd2a484ab896613a51ecfda357",
       "version_major": 2,
       "version_minor": 0
      },
      "text/plain": [
       "  0%|          | 0/1214 [00:00<?, ?it/s]"
      ]
     },
     "metadata": {},
     "output_type": "display_data"
    },
    {
     "name": "stdout",
     "output_type": "stream",
     "text": [
      "EPOCH  39    Training acc  0.9216058033138241 validation acc =  0.6928783382789317\n"
     ]
    },
    {
     "data": {
      "application/vnd.jupyter.widget-view+json": {
       "model_id": "1c6c9e148a2c44dbb6df21d94655bb25",
       "version_major": 2,
       "version_minor": 0
      },
      "text/plain": [
       "  0%|          | 0/1214 [00:00<?, ?it/s]"
      ]
     },
     "metadata": {},
     "output_type": "display_data"
    },
    {
     "name": "stdout",
     "output_type": "stream",
     "text": [
      "EPOCH  40    Training acc  0.9200395680488006 validation acc =  0.6894164193867458\n"
     ]
    },
    {
     "data": {
      "application/vnd.jupyter.widget-view+json": {
       "model_id": "115a8bdb35e24480b4b1e9c6be3cd1c9",
       "version_major": 2,
       "version_minor": 0
      },
      "text/plain": [
       "  0%|          | 0/1214 [00:00<?, ?it/s]"
      ]
     },
     "metadata": {},
     "output_type": "display_data"
    },
    {
     "name": "stdout",
     "output_type": "stream",
     "text": [
      "EPOCH  41    Training acc  0.922265270793834 validation acc =  0.6869436201780416\n"
     ]
    },
    {
     "data": {
      "application/vnd.jupyter.widget-view+json": {
       "model_id": "b141b65c93e74ac788556750a17512a4",
       "version_major": 2,
       "version_minor": 0
      },
      "text/plain": [
       "  0%|          | 0/1214 [00:00<?, ?it/s]"
      ]
     },
     "metadata": {},
     "output_type": "display_data"
    },
    {
     "name": "stdout",
     "output_type": "stream",
     "text": [
      "EPOCH  42    Training acc  0.9186381996537796 validation acc =  0.6941147378832839\n"
     ]
    },
    {
     "data": {
      "application/vnd.jupyter.widget-view+json": {
       "model_id": "720a05cda67d409d80a9285730907cde",
       "version_major": 2,
       "version_minor": 0
      },
      "text/plain": [
       "  0%|          | 0/1214 [00:00<?, ?it/s]"
      ]
     },
     "metadata": {},
     "output_type": "display_data"
    },
    {
     "name": "stdout",
     "output_type": "stream",
     "text": [
      "EPOCH  43    Training acc  0.9232544720138488 validation acc =  0.6859545004945599\n"
     ]
    },
    {
     "data": {
      "application/vnd.jupyter.widget-view+json": {
       "model_id": "65bd73d5f11c42c385d360590ff01755",
       "version_major": 2,
       "version_minor": 0
      },
      "text/plain": [
       "  0%|          | 0/1214 [00:00<?, ?it/s]"
      ]
     },
     "metadata": {},
     "output_type": "display_data"
    },
    {
     "name": "stdout",
     "output_type": "stream",
     "text": [
      "EPOCH  44    Training acc  0.9245734069738686 validation acc =  0.6980712166172107\n"
     ]
    },
    {
     "data": {
      "application/vnd.jupyter.widget-view+json": {
       "model_id": "f4c72486730c4d95a61b8773b68cc965",
       "version_major": 2,
       "version_minor": 0
      },
      "text/plain": [
       "  0%|          | 0/1214 [00:00<?, ?it/s]"
      ]
     },
     "metadata": {},
     "output_type": "display_data"
    },
    {
     "name": "stdout",
     "output_type": "stream",
     "text": [
      "EPOCH  45    Training acc  0.9262220756738934 validation acc =  0.69188921859545\n"
     ]
    },
    {
     "data": {
      "application/vnd.jupyter.widget-view+json": {
       "model_id": "53cc26d097d74725bd86f6daaf90e560",
       "version_major": 2,
       "version_minor": 0
      },
      "text/plain": [
       "  0%|          | 0/1214 [00:00<?, ?it/s]"
      ]
     },
     "metadata": {},
     "output_type": "display_data"
    },
    {
     "name": "stdout",
     "output_type": "stream",
     "text": [
      "EPOCH  46    Training acc  0.9279531778089193 validation acc =  0.6916419386745796\n"
     ]
    },
    {
     "data": {
      "application/vnd.jupyter.widget-view+json": {
       "model_id": "d27e10cd4a704847bf6cd28d0480f37c",
       "version_major": 2,
       "version_minor": 0
      },
      "text/plain": [
       "  0%|          | 0/1214 [00:00<?, ?it/s]"
      ]
     },
     "metadata": {},
     "output_type": "display_data"
    },
    {
     "name": "stdout",
     "output_type": "stream",
     "text": [
      "EPOCH  47    Training acc  0.9276234440689144 validation acc =  0.6911473788328387\n"
     ]
    },
    {
     "data": {
      "application/vnd.jupyter.widget-view+json": {
       "model_id": "1a4968a3358d4132b3ff36179aff75ee",
       "version_major": 2,
       "version_minor": 0
      },
      "text/plain": [
       "  0%|          | 0/1214 [00:00<?, ?it/s]"
      ]
     },
     "metadata": {},
     "output_type": "display_data"
    },
    {
     "name": "stdout",
     "output_type": "stream",
     "text": [
      "EPOCH  48    Training acc  0.929931580248949 validation acc =  0.6913946587537092\n"
     ]
    },
    {
     "data": {
      "application/vnd.jupyter.widget-view+json": {
       "model_id": "f48b8a2934d149acb8dd013af5cb98d5",
       "version_major": 2,
       "version_minor": 0
      },
      "text/plain": [
       "  0%|          | 0/1214 [00:00<?, ?it/s]"
      ]
     },
     "metadata": {},
     "output_type": "display_data"
    },
    {
     "name": "stdout",
     "output_type": "stream",
     "text": [
      "EPOCH  49    Training acc  0.9311680817739675 validation acc =  0.6832344213649851\n"
     ]
    },
    {
     "data": {
      "application/vnd.jupyter.widget-view+json": {
       "model_id": "8c25880c9b174e6cb5339272020342b2",
       "version_major": 2,
       "version_minor": 0
      },
      "text/plain": [
       "  0%|          | 0/1214 [00:00<?, ?it/s]"
      ]
     },
     "metadata": {},
     "output_type": "display_data"
    },
    {
     "name": "stdout",
     "output_type": "stream",
     "text": [
      "EPOCH  50    Training acc  0.93133294864397 validation acc =  0.6899109792284867\n"
     ]
    }
   ],
   "source": [
    "#training loop, reporting accuracy at each itteration\n",
    "\n",
    "last_acc= 100\n",
    "print(device)\n",
    "for param in model.parameters():\n",
    "    param.requires_grad = True\n",
    "for epoch in tqdm(range(50)):\n",
    "    # monitor training loss\n",
    "    train_loss = 0.0\n",
    "    model.train()\n",
    "    train_accuracy = 0.0\n",
    "    #Training\n",
    "\n",
    "    for data,label in tqdm(train_dataloader):\n",
    "\n",
    "        images = data\n",
    "        images = images.to(device)\n",
    "        optimizer.zero_grad()\n",
    "        outputs = model(images)\n",
    "\n",
    "        label=label.to(device)\n",
    "\n",
    "        train_accuracy += calculate_accuracy(outputs, label)\n",
    "        loss = loss_function(outputs, label)\n",
    "        loss.backward()\n",
    "        optimizer.step()\n",
    "        train_loss += loss.item()\n",
    "\n",
    "\n",
    "    valid_loss = 0.0\n",
    "    val_accuracy = 0.0\n",
    "    model.eval()\n",
    "    for data, label in valid_dataloader:\n",
    "\n",
    "        data = data.to(device)\n",
    "        target = model(data)\n",
    "        label=label.to(device)\n",
    "        val_accuracy += calculate_accuracy(target, label)\n",
    "        loss = loss_function(target, label)\n",
    "        valid_loss += loss.item()\n",
    "\n",
    "\n",
    "    if val_accuracy/len(valid) < last_acc:\n",
    "        last_acc = val_accuracy\n",
    "        torch.save(model.state_dict(),'weights\\\\FER_3_256x256_2.pt')\n",
    "\n",
    "    print(\"EPOCH \", epoch+1,\"   Training acc \",train_accuracy/len(train), \"validation acc = \" ,val_accuracy/len(valid))"
   ]
  },
  {
   "cell_type": "markdown",
   "metadata": {},
   "source": [
    "## Testing on the FER Dataset"
   ]
  },
  {
   "cell_type": "code",
   "execution_count": 12,
   "metadata": {
    "colab": {
     "base_uri": "https://localhost:8080/"
    },
    "id": "ygxfSonnZ0Ao",
    "outputId": "4390bf9e-e582-4cb5-e7e9-f4221bc28d87"
   },
   "outputs": [
    {
     "name": "stdout",
     "output_type": "stream",
     "text": [
      "3965\n",
      "Test Accuracy: 0.6968474148802017\n"
     ]
    }
   ],
   "source": [
    "\n",
    "model_test = EmotionDetectionNet()\n",
    "model_test.load_state_dict(torch.load('weights\\\\FER_3_256x256_2.pt', weights_only=True))\n",
    "model_test.to(device)\n",
    "fer_test = FerTest()\n",
    "test_dataloader = DataLoader(fer_test, batch_size=25, shuffle=False)\n",
    "test_accuracy = 0.0\n",
    "print(len(fer_test))\n",
    "for data, label in test_dataloader:\n",
    "  data = data.to(device)\n",
    "  target = model_test(data)\n",
    "  label=label.to(device)\n",
    "  test_accuracy += calculate_accuracy(target, label)\n",
    "\n",
    "print(f'Test Accuracy: {test_accuracy/len(fer_test)}')"
   ]
  },
  {
   "cell_type": "markdown",
   "metadata": {},
   "source": [
    "## Fine-Tuning on the MLI-DER Dataset"
   ]
  },
  {
   "cell_type": "code",
   "execution_count": 24,
   "metadata": {
    "id": "UFXEWFvSxjv9"
   },
   "outputs": [],
   "source": [
    "class DrivingFineTune(Dataset):\n",
    "    def __init__(self, samples=100): # add additional parameters needed to load the dataset e.g dataset path\n",
    "        self.train_images  = np.load('train_images_fine_tune.npy')\n",
    "        random_samples = np.random.randint(self.train_images.shape[0], size=samples)\n",
    "        self.train_images = self.train_images[random_samples, :]\n",
    "        self.train_labels = np.load('train_labels_fine_tune.npy')\n",
    "        self.train_labels = self.train_labels[random_samples,:]\n",
    "        len(self.train_images.shape)\n",
    "\n",
    "    def __len__(self):\n",
    "        return len(self.train_images)\n",
    "\n",
    "    def __getitem__(self, idx):\n",
    "        img = self.train_images[idx]\n",
    "        # img = cv2.resize(img, (256, 256), interpolation = cv2.INTER_LINEAR)\n",
    "        # img= img.reshape(256,256,1)\n",
    "        img=img.astype(np.float32)\n",
    "        img=img.T\n",
    "        img_tensor = torch.from_numpy(img)\n",
    "\n",
    "        label= torch.from_numpy(self.train_labels[idx]).to(torch.float32)\n",
    "\n",
    "        return img_tensor, label"
   ]
  },
  {
   "cell_type": "code",
   "execution_count": 25,
   "metadata": {},
   "outputs": [
    {
     "data": {
      "text/plain": [
       "(tensor([[[0.5312, 0.5308, 0.5167,  ..., 0.1738, 0.1614, 0.1778],\n",
       "          [0.5279, 0.5113, 0.5036,  ..., 0.1775, 0.1773, 0.1659],\n",
       "          [0.5090, 0.4994, 0.4862,  ..., 0.1567, 0.1636, 0.1933],\n",
       "          ...,\n",
       "          [0.2518, 0.2503, 0.2374,  ..., 0.2187, 0.2135, 0.2112],\n",
       "          [0.2479, 0.2398, 0.2325,  ..., 0.1977, 0.2179, 0.2253],\n",
       "          [0.2312, 0.2285, 0.2193,  ..., 0.2023, 0.1969, 0.1893]]]),\n",
       " tensor([1., 0., 0.]))"
      ]
     },
     "execution_count": 25,
     "metadata": {},
     "output_type": "execute_result"
    }
   ],
   "source": [
    "driving = DrivingFineTune()\n",
    "driving.__getitem__(50)"
   ]
  },
  {
   "cell_type": "code",
   "execution_count": 26,
   "metadata": {},
   "outputs": [
    {
     "name": "stdout",
     "output_type": "stream",
     "text": [
      "tensor([0., 0., 1.])\n",
      "tensor([0., 0., 1.])\n",
      "tensor([1., 0., 0.])\n"
     ]
    }
   ],
   "source": [
    "t = DrivingFineTune()\n",
    "print(t.__getitem__(0)[1])\n",
    "print(t.__getitem__(30)[1])\n",
    "print(t.__getitem__(20)[1])\n"
   ]
  },
  {
   "cell_type": "code",
   "execution_count": 27,
   "metadata": {},
   "outputs": [
    {
     "data": {
      "application/vnd.jupyter.widget-view+json": {
       "model_id": "41039e0ba64f4a3eb38eeb6bcd4a49ae",
       "version_major": 2,
       "version_minor": 0
      },
      "text/plain": [
       "  0%|          | 0/30 [00:00<?, ?it/s]"
      ]
     },
     "metadata": {},
     "output_type": "display_data"
    },
    {
     "name": "stdout",
     "output_type": "stream",
     "text": [
      "Samples: 100 EPOCH:  30    Training acc  0.27\n"
     ]
    },
    {
     "data": {
      "application/vnd.jupyter.widget-view+json": {
       "model_id": "72cb458461c945208bd34a3ac70bb6c9",
       "version_major": 2,
       "version_minor": 0
      },
      "text/plain": [
       "  0%|          | 0/30 [00:00<?, ?it/s]"
      ]
     },
     "metadata": {},
     "output_type": "display_data"
    },
    {
     "name": "stdout",
     "output_type": "stream",
     "text": [
      "Samples: 200 EPOCH:  30    Training acc  0.27\n"
     ]
    },
    {
     "data": {
      "application/vnd.jupyter.widget-view+json": {
       "model_id": "770644cfd03c4e7fbc17d4d49871db79",
       "version_major": 2,
       "version_minor": 0
      },
      "text/plain": [
       "  0%|          | 0/30 [00:00<?, ?it/s]"
      ]
     },
     "metadata": {},
     "output_type": "display_data"
    },
    {
     "name": "stdout",
     "output_type": "stream",
     "text": [
      "Samples: 300 EPOCH:  30    Training acc  0.2966666666666667\n"
     ]
    },
    {
     "data": {
      "application/vnd.jupyter.widget-view+json": {
       "model_id": "2c54637691bc43818ace0d4c23f2446c",
       "version_major": 2,
       "version_minor": 0
      },
      "text/plain": [
       "  0%|          | 0/30 [00:00<?, ?it/s]"
      ]
     },
     "metadata": {},
     "output_type": "display_data"
    },
    {
     "name": "stdout",
     "output_type": "stream",
     "text": [
      "Samples: 400 EPOCH:  30    Training acc  0.2475\n"
     ]
    },
    {
     "data": {
      "application/vnd.jupyter.widget-view+json": {
       "model_id": "9b875f74df0c4124a1eacd3910ee3bb5",
       "version_major": 2,
       "version_minor": 0
      },
      "text/plain": [
       "  0%|          | 0/30 [00:00<?, ?it/s]"
      ]
     },
     "metadata": {},
     "output_type": "display_data"
    },
    {
     "name": "stdout",
     "output_type": "stream",
     "text": [
      "Samples: 500 EPOCH:  30    Training acc  0.332\n"
     ]
    },
    {
     "data": {
      "application/vnd.jupyter.widget-view+json": {
       "model_id": "6f36846682584f0fb189cf7183a98473",
       "version_major": 2,
       "version_minor": 0
      },
      "text/plain": [
       "  0%|          | 0/30 [00:00<?, ?it/s]"
      ]
     },
     "metadata": {},
     "output_type": "display_data"
    },
    {
     "name": "stdout",
     "output_type": "stream",
     "text": [
      "Samples: 600 EPOCH:  30    Training acc  0.31166666666666665\n"
     ]
    },
    {
     "data": {
      "application/vnd.jupyter.widget-view+json": {
       "model_id": "01606156eeb04bff996536a12fcb398f",
       "version_major": 2,
       "version_minor": 0
      },
      "text/plain": [
       "  0%|          | 0/30 [00:00<?, ?it/s]"
      ]
     },
     "metadata": {},
     "output_type": "display_data"
    },
    {
     "name": "stdout",
     "output_type": "stream",
     "text": [
      "Samples: 700 EPOCH:  30    Training acc  0.30428571428571427\n"
     ]
    },
    {
     "data": {
      "application/vnd.jupyter.widget-view+json": {
       "model_id": "a7d72d8640d4432b9a052555d51725c4",
       "version_major": 2,
       "version_minor": 0
      },
      "text/plain": [
       "  0%|          | 0/30 [00:00<?, ?it/s]"
      ]
     },
     "metadata": {},
     "output_type": "display_data"
    },
    {
     "name": "stdout",
     "output_type": "stream",
     "text": [
      "Samples: 800 EPOCH:  30    Training acc  0.36125\n"
     ]
    }
   ],
   "source": [
    "model_fine_tune = EmotionDetectionNet()\n",
    "\n",
    "for samples in range(100,801, 100):\n",
    "    model_fine_tune.load_state_dict(torch.load('weights\\\\FER_3_256x256.pt', weights_only=True))\n",
    "    learning_rate = 1e-4\n",
    "    loss_function = nn.CrossEntropyLoss()\n",
    "    optimizer = torch.optim.Adam(model.parameters(), lr=learning_rate)\n",
    "    model_fine_tune.to(device)\n",
    "    fer_fine_tune = DrivingFineTune(samples=samples)\n",
    "    fine_tune_dataloader = DataLoader(fer_fine_tune, batch_size=10, shuffle=True)\n",
    "    for param in model_fine_tune.parameters():\n",
    "        param.requires_grad = True\n",
    "\n",
    "\n",
    "    for epoch in tqdm(range(30)):\n",
    "        train_loss = 0.0\n",
    "        model_fine_tune.train()\n",
    "        train_accuracy = 0.0\n",
    "        #Training\n",
    "\n",
    "        for data,label in fine_tune_dataloader:\n",
    "\n",
    "            images = data\n",
    "            images = images.to(device)\n",
    "            optimizer.zero_grad()\n",
    "            outputs = model_fine_tune(images)\n",
    "\n",
    "            label=label.to(device)\n",
    "\n",
    "            train_accuracy += calculate_accuracy(outputs, label)\n",
    "            loss = loss_function(outputs, label)\n",
    "            loss.backward()\n",
    "            optimizer.step()\n",
    "            train_loss += loss.item()\n",
    "    print(f\"Samples: {samples} EPOCH: \", epoch+1,\"   Training acc \",train_accuracy/len(fer_fine_tune))\n",
    "    torch.save(model.state_dict(),f'weights\\\\Fine Tune\\\\base_{samples}.pt')\n",
    "    "
   ]
  },
  {
   "cell_type": "markdown",
   "metadata": {},
   "source": [
    "## Testing on the MLI-DER Dataset after Finetuning"
   ]
  },
  {
   "cell_type": "code",
   "execution_count": 28,
   "metadata": {},
   "outputs": [],
   "source": [
    "class FerDrivingTest(Dataset):\n",
    "  def __init__(self): # add additional parameters needed to load the dataset e.g dataset path\n",
    "        self.test_images  = np.load('driving_data_test_images.npy')\n",
    "        self.test_labels = np.load('driving_data_test_labels.npy')\n",
    "        print(self.test_images.shape)\n",
    "\n",
    "  def __len__(self):\n",
    "        return self.test_images.shape[0]\n",
    "\n",
    "  def __getitem__(self, idx):\n",
    "      # your code here\n",
    "      img = self.test_images[idx]\n",
    "    #   img = cv2.resize(img, (256, 256), interpolation = cv2.INTER_LANCZOS4)\n",
    "    #   img= img.reshape(256,256,1)\n",
    "      img=img.astype(np.float32)\n",
    "      img=img.T\n",
    "      img_tensor = torch.from_numpy(img)\n",
    "      label= torch.from_numpy(self.test_labels[idx]).to(torch.float32)\n",
    "\n",
    "      return img_tensor, label"
   ]
  },
  {
   "cell_type": "code",
   "execution_count": null,
   "metadata": {},
   "outputs": [
    {
     "name": "stdout",
     "output_type": "stream",
     "text": [
      "(938, 256, 256, 1)\n",
      "Samples: 100 Test Accuracy: 0.3336886993603412 F1 score: 0.3073870184263428\n",
      "(938, 256, 256, 1)\n",
      "Samples: 200 Test Accuracy: 0.32196162046908317 F1 score: 0.30747595307920744\n",
      "(938, 256, 256, 1)\n",
      "Samples: 300 Test Accuracy: 0.3304904051172708 F1 score: 0.31018849156334655\n",
      "(938, 256, 256, 1)\n",
      "Samples: 400 Test Accuracy: 0.326226012793177 F1 score: 0.3078768715070943\n",
      "(938, 256, 256, 1)\n",
      "Samples: 500 Test Accuracy: 0.31769722814498935 F1 score: 0.2986123947881325\n",
      "(938, 256, 256, 1)\n",
      "Samples: 600 Test Accuracy: 0.31023454157782515 F1 score: 0.2882829462571556\n",
      "(938, 256, 256, 1)\n",
      "Samples: 700 Test Accuracy: 0.31236673773987206 F1 score: 0.29167150494198946\n",
      "(938, 256, 256, 1)\n",
      "Samples: 800 Test Accuracy: 0.31769722814498935 F1 score: 0.29788871100005415\n"
     ]
    }
   ],
   "source": [
    "model_test = EmotionDetectionNet()\n",
    "for models in glob.glob('weights\\\\Fine Tune\\\\*.pt'):\n",
    "    num_samples = models.split('_')[-1][:3]\n",
    "    model_test.load_state_dict(torch.load(models, weights_only=True))\n",
    "    model_test.to(device)\n",
    "    fer_test = FerDrivingTest()\n",
    "    test_dataloader = DataLoader(fer_test, batch_size=1, shuffle=False)\n",
    "    preds = []\n",
    "    labels_arg_max = []\n",
    "    \n",
    "    for data, label in test_dataloader:\n",
    "        data = data.to(device)\n",
    "        target = model_test(data)\n",
    "        label=label.to(device)\n",
    "        label_max = torch.argmax(label)\n",
    "        pred = torch.argmax(target)\n",
    "        preds.append(label_max.item())\n",
    "        labels_arg_max.append(pred.item())\n",
    "\n",
    "\n",
    "    print(f'Samples: {num_samples} Test Accuracy: {accuracy_score(preds, labels_arg_max)} F1 score: {f1_score(preds, labels_arg_max, average='weighted')}')"
   ]
  }
 ],
 "metadata": {
  "accelerator": "GPU",
  "colab": {
   "gpuType": "T4",
   "provenance": []
  },
  "kernelspec": {
   "display_name": "base",
   "language": "python",
   "name": "python3"
  },
  "language_info": {
   "codemirror_mode": {
    "name": "ipython",
    "version": 3
   },
   "file_extension": ".py",
   "mimetype": "text/x-python",
   "name": "python",
   "nbconvert_exporter": "python",
   "pygments_lexer": "ipython3",
   "version": "3.12.3"
  },
  "widgets": {
   "application/vnd.jupyter.widget-state+json": {
    "15ee70847a3b4abc980d4fe59f93dca3": {
     "model_module": "@jupyter-widgets/base",
     "model_module_version": "1.2.0",
     "model_name": "LayoutModel",
     "state": {
      "_model_module": "@jupyter-widgets/base",
      "_model_module_version": "1.2.0",
      "_model_name": "LayoutModel",
      "_view_count": null,
      "_view_module": "@jupyter-widgets/base",
      "_view_module_version": "1.2.0",
      "_view_name": "LayoutView",
      "align_content": null,
      "align_items": null,
      "align_self": null,
      "border": null,
      "bottom": null,
      "display": null,
      "flex": null,
      "flex_flow": null,
      "grid_area": null,
      "grid_auto_columns": null,
      "grid_auto_flow": null,
      "grid_auto_rows": null,
      "grid_column": null,
      "grid_gap": null,
      "grid_row": null,
      "grid_template_areas": null,
      "grid_template_columns": null,
      "grid_template_rows": null,
      "height": null,
      "justify_content": null,
      "justify_items": null,
      "left": null,
      "margin": null,
      "max_height": null,
      "max_width": null,
      "min_height": null,
      "min_width": null,
      "object_fit": null,
      "object_position": null,
      "order": null,
      "overflow": null,
      "overflow_x": null,
      "overflow_y": null,
      "padding": null,
      "right": null,
      "top": null,
      "visibility": null,
      "width": null
     }
    },
    "226f4e8cfe6a4d53a58494e2f2f1d545": {
     "model_module": "@jupyter-widgets/controls",
     "model_module_version": "1.5.0",
     "model_name": "ProgressStyleModel",
     "state": {
      "_model_module": "@jupyter-widgets/controls",
      "_model_module_version": "1.5.0",
      "_model_name": "ProgressStyleModel",
      "_view_count": null,
      "_view_module": "@jupyter-widgets/base",
      "_view_module_version": "1.2.0",
      "_view_name": "StyleView",
      "bar_color": null,
      "description_width": ""
     }
    },
    "289937b2a9fc4e36a067171053c0f871": {
     "model_module": "@jupyter-widgets/base",
     "model_module_version": "1.2.0",
     "model_name": "LayoutModel",
     "state": {
      "_model_module": "@jupyter-widgets/base",
      "_model_module_version": "1.2.0",
      "_model_name": "LayoutModel",
      "_view_count": null,
      "_view_module": "@jupyter-widgets/base",
      "_view_module_version": "1.2.0",
      "_view_name": "LayoutView",
      "align_content": null,
      "align_items": null,
      "align_self": null,
      "border": null,
      "bottom": null,
      "display": null,
      "flex": null,
      "flex_flow": null,
      "grid_area": null,
      "grid_auto_columns": null,
      "grid_auto_flow": null,
      "grid_auto_rows": null,
      "grid_column": null,
      "grid_gap": null,
      "grid_row": null,
      "grid_template_areas": null,
      "grid_template_columns": null,
      "grid_template_rows": null,
      "height": null,
      "justify_content": null,
      "justify_items": null,
      "left": null,
      "margin": null,
      "max_height": null,
      "max_width": null,
      "min_height": null,
      "min_width": null,
      "object_fit": null,
      "object_position": null,
      "order": null,
      "overflow": null,
      "overflow_x": null,
      "overflow_y": null,
      "padding": null,
      "right": null,
      "top": null,
      "visibility": null,
      "width": null
     }
    },
    "4a4a1a225c10451fa5fd52c3280d3c9f": {
     "model_module": "@jupyter-widgets/base",
     "model_module_version": "1.2.0",
     "model_name": "LayoutModel",
     "state": {
      "_model_module": "@jupyter-widgets/base",
      "_model_module_version": "1.2.0",
      "_model_name": "LayoutModel",
      "_view_count": null,
      "_view_module": "@jupyter-widgets/base",
      "_view_module_version": "1.2.0",
      "_view_name": "LayoutView",
      "align_content": null,
      "align_items": null,
      "align_self": null,
      "border": null,
      "bottom": null,
      "display": null,
      "flex": null,
      "flex_flow": null,
      "grid_area": null,
      "grid_auto_columns": null,
      "grid_auto_flow": null,
      "grid_auto_rows": null,
      "grid_column": null,
      "grid_gap": null,
      "grid_row": null,
      "grid_template_areas": null,
      "grid_template_columns": null,
      "grid_template_rows": null,
      "height": null,
      "justify_content": null,
      "justify_items": null,
      "left": null,
      "margin": null,
      "max_height": null,
      "max_width": null,
      "min_height": null,
      "min_width": null,
      "object_fit": null,
      "object_position": null,
      "order": null,
      "overflow": null,
      "overflow_x": null,
      "overflow_y": null,
      "padding": null,
      "right": null,
      "top": null,
      "visibility": null,
      "width": null
     }
    },
    "96c5edfce5d44f62b10fc7612b08715b": {
     "model_module": "@jupyter-widgets/controls",
     "model_module_version": "1.5.0",
     "model_name": "FloatProgressModel",
     "state": {
      "_dom_classes": [],
      "_model_module": "@jupyter-widgets/controls",
      "_model_module_version": "1.5.0",
      "_model_name": "FloatProgressModel",
      "_view_count": null,
      "_view_module": "@jupyter-widgets/controls",
      "_view_module_version": "1.5.0",
      "_view_name": "ProgressView",
      "bar_style": "danger",
      "description": "",
      "description_tooltip": null,
      "layout": "IPY_MODEL_289937b2a9fc4e36a067171053c0f871",
      "max": 100,
      "min": 0,
      "orientation": "horizontal",
      "style": "IPY_MODEL_226f4e8cfe6a4d53a58494e2f2f1d545",
      "value": 0
     }
    },
    "99be8374780c4c39bac0d4a1a6494b72": {
     "model_module": "@jupyter-widgets/base",
     "model_module_version": "1.2.0",
     "model_name": "LayoutModel",
     "state": {
      "_model_module": "@jupyter-widgets/base",
      "_model_module_version": "1.2.0",
      "_model_name": "LayoutModel",
      "_view_count": null,
      "_view_module": "@jupyter-widgets/base",
      "_view_module_version": "1.2.0",
      "_view_name": "LayoutView",
      "align_content": null,
      "align_items": null,
      "align_self": null,
      "border": null,
      "bottom": null,
      "display": null,
      "flex": null,
      "flex_flow": null,
      "grid_area": null,
      "grid_auto_columns": null,
      "grid_auto_flow": null,
      "grid_auto_rows": null,
      "grid_column": null,
      "grid_gap": null,
      "grid_row": null,
      "grid_template_areas": null,
      "grid_template_columns": null,
      "grid_template_rows": null,
      "height": null,
      "justify_content": null,
      "justify_items": null,
      "left": null,
      "margin": null,
      "max_height": null,
      "max_width": null,
      "min_height": null,
      "min_width": null,
      "object_fit": null,
      "object_position": null,
      "order": null,
      "overflow": null,
      "overflow_x": null,
      "overflow_y": null,
      "padding": null,
      "right": null,
      "top": null,
      "visibility": null,
      "width": null
     }
    },
    "a67f5737e27b4c8895f66df37a70d39e": {
     "model_module": "@jupyter-widgets/controls",
     "model_module_version": "1.5.0",
     "model_name": "DescriptionStyleModel",
     "state": {
      "_model_module": "@jupyter-widgets/controls",
      "_model_module_version": "1.5.0",
      "_model_name": "DescriptionStyleModel",
      "_view_count": null,
      "_view_module": "@jupyter-widgets/base",
      "_view_module_version": "1.2.0",
      "_view_name": "StyleView",
      "description_width": ""
     }
    },
    "ce3b9a7a3563465888ab1ed5512fc319": {
     "model_module": "@jupyter-widgets/controls",
     "model_module_version": "1.5.0",
     "model_name": "HBoxModel",
     "state": {
      "_dom_classes": [],
      "_model_module": "@jupyter-widgets/controls",
      "_model_module_version": "1.5.0",
      "_model_name": "HBoxModel",
      "_view_count": null,
      "_view_module": "@jupyter-widgets/controls",
      "_view_module_version": "1.5.0",
      "_view_name": "HBoxView",
      "box_style": "",
      "children": [
       "IPY_MODEL_e5f513f9bdc649e087431ab8eb6cd109",
       "IPY_MODEL_96c5edfce5d44f62b10fc7612b08715b",
       "IPY_MODEL_fc78874a0e784b089ef446d655cff3bf"
      ],
      "layout": "IPY_MODEL_99be8374780c4c39bac0d4a1a6494b72"
     }
    },
    "e5f513f9bdc649e087431ab8eb6cd109": {
     "model_module": "@jupyter-widgets/controls",
     "model_module_version": "1.5.0",
     "model_name": "HTMLModel",
     "state": {
      "_dom_classes": [],
      "_model_module": "@jupyter-widgets/controls",
      "_model_module_version": "1.5.0",
      "_model_name": "HTMLModel",
      "_view_count": null,
      "_view_module": "@jupyter-widgets/controls",
      "_view_module_version": "1.5.0",
      "_view_name": "HTMLView",
      "description": "",
      "description_tooltip": null,
      "layout": "IPY_MODEL_4a4a1a225c10451fa5fd52c3280d3c9f",
      "placeholder": "​",
      "style": "IPY_MODEL_a67f5737e27b4c8895f66df37a70d39e",
      "value": "  0%"
     }
    },
    "e64652ead2b64f0c90afc6c9c2071122": {
     "model_module": "@jupyter-widgets/controls",
     "model_module_version": "1.5.0",
     "model_name": "DescriptionStyleModel",
     "state": {
      "_model_module": "@jupyter-widgets/controls",
      "_model_module_version": "1.5.0",
      "_model_name": "DescriptionStyleModel",
      "_view_count": null,
      "_view_module": "@jupyter-widgets/base",
      "_view_module_version": "1.2.0",
      "_view_name": "StyleView",
      "description_width": ""
     }
    },
    "fc78874a0e784b089ef446d655cff3bf": {
     "model_module": "@jupyter-widgets/controls",
     "model_module_version": "1.5.0",
     "model_name": "HTMLModel",
     "state": {
      "_dom_classes": [],
      "_model_module": "@jupyter-widgets/controls",
      "_model_module_version": "1.5.0",
      "_model_name": "HTMLModel",
      "_view_count": null,
      "_view_module": "@jupyter-widgets/controls",
      "_view_module_version": "1.5.0",
      "_view_name": "HTMLView",
      "description": "",
      "description_tooltip": null,
      "layout": "IPY_MODEL_15ee70847a3b4abc980d4fe59f93dca3",
      "placeholder": "​",
      "style": "IPY_MODEL_e64652ead2b64f0c90afc6c9c2071122",
      "value": " 0/100 [03:40&lt;?, ?it/s]"
     }
    }
   }
  }
 },
 "nbformat": 4,
 "nbformat_minor": 0
}
