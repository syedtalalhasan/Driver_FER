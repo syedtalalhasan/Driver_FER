{
 "cells": [
  {
   "cell_type": "code",
   "execution_count": 38,
   "metadata": {
    "id": "TYMUcQ_mTnGC"
   },
   "outputs": [],
   "source": [
    "import glob\n",
    "import os\n",
    "import cv2\n",
    "import numpy as np\n",
    "import torch\n",
    "import torch.nn as nn\n",
    "from torch.utils.data import Dataset, DataLoader , random_split\n",
    "from torchsummary import summary\n",
    "import matplotlib.pyplot as plt\n",
    "from random import randint\n",
    "from tqdm import tqdm\n",
    "from tqdm.notebook import trange, tqdm\n",
    "import tensorflow as tf\n",
    "import keras\n",
    "import torch.nn.functional as F\n",
    "from sklearn.metrics import f1_score, accuracy_score\n"
   ]
  },
  {
   "cell_type": "code",
   "execution_count": 3,
   "metadata": {},
   "outputs": [
    {
     "name": "stdout",
     "output_type": "stream",
     "text": [
      "2.18.0\n"
     ]
    }
   ],
   "source": [
    "print(tf.__version__)"
   ]
  },
  {
   "cell_type": "code",
   "execution_count": 11,
   "metadata": {
    "id": "qjudcIKfUJAv"
   },
   "outputs": [],
   "source": [
    "# Dataloader foe FER training data\n",
    "\n",
    "class FerTrain(Dataset):\n",
    "    def __init__(self): # add additional parameters needed to load the dataset e.g dataset path\n",
    "        self.train_images  = np.load('C:\\\\Users\\\\tld\\\\Downloads\\\\cs5805project\\\\train_images.npy')\n",
    "        self.train_labels = np.load('C:\\\\Users\\\\tld\\\\Downloads\\\\cs5805project\\\\train_labels.npy')\n",
    "        len(self.train_images)\n",
    "\n",
    "\n",
    "    def __len__(self):\n",
    "        return len(self.train_images)\n",
    "\n",
    "    def __getitem__(self, idx):\n",
    "        # your code here\n",
    "        img = self.train_images[idx,:]\n",
    "        img = cv2.resize(img, (256, 256), interpolation = cv2.INTER_LINEAR)\n",
    "        img= img.reshape(256,256,1)\n",
    "        img=img.astype(np.float32)\n",
    "        img=img.T\n",
    "        img_tensor = torch.from_numpy(img)\n",
    "\n",
    "        label= torch.from_numpy(self.train_labels[idx]).to(torch.float32)\n",
    "\n",
    "        return img_tensor, label"
   ]
  },
  {
   "cell_type": "code",
   "execution_count": 12,
   "metadata": {
    "id": "uol6cSQwE8ZW"
   },
   "outputs": [],
   "source": [
    "# Dataloader foe FER testing data\n",
    "\n",
    "class FerTest(Dataset):\n",
    "  def __init__(self): # add additional parameters needed to load the dataset e.g dataset path\n",
    "        self.test_images  = np.load('C:\\\\Users\\\\tld\\\\Downloads\\\\cs5805project\\\\test_images.npy')\n",
    "        self.test_labels = np.load('C:\\\\Users\\\\tld\\\\Downloads\\\\cs5805project\\\\test_labels.npy')\n",
    "\n",
    "  def __len__(self):\n",
    "        return self.test_images.shape[0]\n",
    "\n",
    "  def __getitem__(self, idx):\n",
    "      # your code here\n",
    "      img = self.test_images[idx]\n",
    "      img = cv2.resize(img, (256, 256), interpolation = cv2.INTER_LANCZOS4)\n",
    "      img= img.reshape(256,256,1)\n",
    "      img=img.astype(np.float32)\n",
    "      img=img.T\n",
    "      img_tensor = torch.from_numpy(img)\n",
    "\n",
    "      label= torch.from_numpy(self.test_labels[idx]).to(torch.float32)\n",
    "\n",
    "      return img_tensor, label"
   ]
  },
  {
   "cell_type": "code",
   "execution_count": 13,
   "metadata": {
    "colab": {
     "base_uri": "https://localhost:8080/"
    },
    "id": "vrfXgQgaKq1u",
    "outputId": "31e81f83-9e6f-4a40-f858-3a959fee55c1"
   },
   "outputs": [
    {
     "data": {
      "text/plain": [
       "(tensor([[[0.2784, 0.2784, 0.2784,  ..., 0.7137, 0.7137, 0.7137],\n",
       "          [0.2784, 0.2784, 0.2784,  ..., 0.7137, 0.7137, 0.7137],\n",
       "          [0.2784, 0.2784, 0.2784,  ..., 0.7137, 0.7137, 0.7137],\n",
       "          ...,\n",
       "          [0.0627, 0.0627, 0.0627,  ..., 0.5098, 0.5098, 0.5098],\n",
       "          [0.0627, 0.0627, 0.0627,  ..., 0.5098, 0.5098, 0.5098],\n",
       "          [0.0627, 0.0627, 0.0627,  ..., 0.5098, 0.5098, 0.5098]]]),\n",
       " tensor([0., 1., 0.]))"
      ]
     },
     "execution_count": 13,
     "metadata": {},
     "output_type": "execute_result"
    }
   ],
   "source": [
    "fer = FerTrain()\n",
    "fer.__getitem__(6708)\n"
   ]
  },
  {
   "cell_type": "code",
   "execution_count": 14,
   "metadata": {
    "id": "odEmRkh7QLDW"
   },
   "outputs": [],
   "source": [
    "class EmotionDetectionNet(nn.Module):\n",
    "    def __init__(self):\n",
    "        super(EmotionDetectionNet, self).__init__()\n",
    "\n",
    "        # Convolutional Layers\n",
    "        self.conv = nn.Sequential(\n",
    "            nn.Conv2d(1, 64, kernel_size=3, stride=1, padding=1),  # 255x255 -> 255x255\n",
    "            nn.BatchNorm2d(64),\n",
    "            nn.ReLU(inplace=True),\n",
    "            nn.Conv2d(64, 64, kernel_size=3, stride=2, padding=1),  # 255x255 -> 128x128\n",
    "            nn.BatchNorm2d(64),\n",
    "            nn.ReLU(inplace=True),\n",
    "            nn.Conv2d(64, 128, kernel_size=3, stride=2, padding=1),  # 128x128 -> 64x64\n",
    "            nn.BatchNorm2d(128),\n",
    "            nn.ReLU(inplace=True),\n",
    "            nn.Conv2d(128, 128, kernel_size=3, stride=2, padding=1),  # 64x64 -> 32x32\n",
    "            nn.BatchNorm2d(128),\n",
    "            nn.ReLU(inplace=True),\n",
    "            nn.Conv2d(128, 256, kernel_size=3, stride=2, padding=1),  # 32x32 -> 16x16\n",
    "            nn.BatchNorm2d(256),\n",
    "            nn.ReLU(inplace=True),\n",
    "            nn.Conv2d(256, 256, kernel_size=3, stride=2, padding=1),  # 16x16 -> 8x8\n",
    "            nn.BatchNorm2d(256),\n",
    "            nn.ReLU(inplace=True)\n",
    "        )\n",
    "\n",
    "        # Fully Connected Layers\n",
    "        self.fc = nn.Sequential(\n",
    "            nn.Linear(256 * 8 * 8, 512),  # Flattened feature size -> 512\n",
    "            nn.ReLU(inplace=True),\n",
    "            nn.Dropout(0.5),\n",
    "            nn.Linear(512, 256),  # Reduce to 256 neurons\n",
    "            nn.ReLU(inplace=True),\n",
    "            nn.Dropout(0.5),\n",
    "            nn.Linear(256, 3),  # 3 classes for classification\n",
    "        )\n",
    "\n",
    "    def forward(self, x):\n",
    "        # Pass through convolutional layers\n",
    "        x = self.conv(x)\n",
    "        # Flatten the tensor for fully connected layers\n",
    "        x = torch.flatten(x, start_dim=1)\n",
    "        # Pass through fully connected layers\n",
    "        x = self.fc(x)\n",
    "        return x\n"
   ]
  },
  {
   "cell_type": "code",
   "execution_count": 15,
   "metadata": {
    "colab": {
     "base_uri": "https://localhost:8080/"
    },
    "id": "KHD-x76yEN45",
    "outputId": "52d75dae-c14c-439f-acf9-d5d607651136"
   },
   "outputs": [
    {
     "name": "stdout",
     "output_type": "stream",
     "text": [
      "cuda:0\n",
      "----------------------------------------------------------------\n",
      "        Layer (type)               Output Shape         Param #\n",
      "================================================================\n",
      "            Conv2d-1         [-1, 64, 256, 256]             640\n",
      "       BatchNorm2d-2         [-1, 64, 256, 256]             128\n",
      "              ReLU-3         [-1, 64, 256, 256]               0\n",
      "            Conv2d-4         [-1, 64, 128, 128]          36,928\n",
      "       BatchNorm2d-5         [-1, 64, 128, 128]             128\n",
      "              ReLU-6         [-1, 64, 128, 128]               0\n",
      "            Conv2d-7          [-1, 128, 64, 64]          73,856\n",
      "       BatchNorm2d-8          [-1, 128, 64, 64]             256\n",
      "              ReLU-9          [-1, 128, 64, 64]               0\n",
      "           Conv2d-10          [-1, 128, 32, 32]         147,584\n",
      "      BatchNorm2d-11          [-1, 128, 32, 32]             256\n",
      "             ReLU-12          [-1, 128, 32, 32]               0\n",
      "           Conv2d-13          [-1, 256, 16, 16]         295,168\n",
      "      BatchNorm2d-14          [-1, 256, 16, 16]             512\n",
      "             ReLU-15          [-1, 256, 16, 16]               0\n",
      "           Conv2d-16            [-1, 256, 8, 8]         590,080\n",
      "      BatchNorm2d-17            [-1, 256, 8, 8]             512\n",
      "             ReLU-18            [-1, 256, 8, 8]               0\n",
      "           Linear-19                  [-1, 512]       8,389,120\n",
      "             ReLU-20                  [-1, 512]               0\n",
      "          Dropout-21                  [-1, 512]               0\n",
      "           Linear-22                  [-1, 256]         131,328\n",
      "             ReLU-23                  [-1, 256]               0\n",
      "          Dropout-24                  [-1, 256]               0\n",
      "           Linear-25                    [-1, 3]             771\n",
      "================================================================\n",
      "Total params: 9,667,267\n",
      "Trainable params: 9,667,267\n",
      "Non-trainable params: 0\n",
      "----------------------------------------------------------------\n",
      "Input size (MB): 0.25\n",
      "Forward/backward pass size (MB): 136.89\n",
      "Params size (MB): 36.88\n",
      "Estimated Total Size (MB): 174.02\n",
      "----------------------------------------------------------------\n"
     ]
    }
   ],
   "source": [
    "device=None\n",
    "if torch.cuda.is_available():\n",
    "  device = 'cuda:0'\n",
    "else:\n",
    "  device = 'cpu'\n",
    "print(device)\n",
    "# Initialize model\n",
    "model = EmotionDetectionNet()\n",
    "# Display the model summary\n",
    "# summary(model, (1, 48, 48))\n",
    "net =  EmotionDetectionNet()\n",
    "model.to(device)\n",
    "# net.to(device)\n",
    "summary(model,(1,256,256))\n"
   ]
  },
  {
   "cell_type": "code",
   "execution_count": 25,
   "metadata": {
    "colab": {
     "base_uri": "https://localhost:8080/"
    },
    "id": "Zv7zOHyhEs3U",
    "outputId": "06c88cf0-e9a7-4051-ff77-d11be15255be"
   },
   "outputs": [
    {
     "name": "stdout",
     "output_type": "stream",
     "text": [
      "16175\n",
      "12131 4044\n"
     ]
    }
   ],
   "source": [
    "bath_size = 32\n",
    "print(len(fer))\n",
    "split_size_train = int(len(fer)*0.75)\n",
    "split_size_val = len(fer) - split_size_train\n",
    "train,valid = random_split(fer, lengths=[split_size_train, split_size_val])\n",
    "print(len(train),len(valid))\n",
    "train_dataloader = DataLoader(train, batch_size=bath_size, shuffle=True)\n",
    "valid_dataloader = DataLoader(valid, batch_size=bath_size, shuffle=True)\n"
   ]
  },
  {
   "cell_type": "code",
   "execution_count": 26,
   "metadata": {
    "id": "DUhcw7hsFs2Y"
   },
   "outputs": [],
   "source": [
    "learning_rate = 1e-4\n",
    "loss_function = nn.CrossEntropyLoss()\n",
    "optimizer = torch.optim.Adam(model.parameters(), lr=learning_rate)"
   ]
  },
  {
   "cell_type": "code",
   "execution_count": 27,
   "metadata": {
    "id": "8vh7dCcanK4K"
   },
   "outputs": [],
   "source": [
    "def calculate_accuracy(predictions, labels):\n",
    "    predicted = torch.argmax(predictions, dim=1)\n",
    "    orig = torch.argmax(labels, dim=1)\n",
    "    correct = (predicted == orig).sum().item()\n",
    "    return correct"
   ]
  },
  {
   "cell_type": "code",
   "execution_count": 29,
   "metadata": {
    "colab": {
     "base_uri": "https://localhost:8080/",
     "height": 509,
     "referenced_widgets": [
      "ce3b9a7a3563465888ab1ed5512fc319",
      "e5f513f9bdc649e087431ab8eb6cd109",
      "96c5edfce5d44f62b10fc7612b08715b",
      "fc78874a0e784b089ef446d655cff3bf",
      "99be8374780c4c39bac0d4a1a6494b72",
      "4a4a1a225c10451fa5fd52c3280d3c9f",
      "a67f5737e27b4c8895f66df37a70d39e",
      "289937b2a9fc4e36a067171053c0f871",
      "226f4e8cfe6a4d53a58494e2f2f1d545",
      "15ee70847a3b4abc980d4fe59f93dca3",
      "e64652ead2b64f0c90afc6c9c2071122"
     ]
    },
    "id": "NOmQSbVSGhBX",
    "outputId": "eb81eda9-35ee-400a-adbd-0c3103bdc317"
   },
   "outputs": [
    {
     "name": "stdout",
     "output_type": "stream",
     "text": [
      "cuda:0\n"
     ]
    },
    {
     "data": {
      "application/vnd.jupyter.widget-view+json": {
       "model_id": "6128131f0ad1420dbe01f088bf4bee98",
       "version_major": 2,
       "version_minor": 0
      },
      "text/plain": [
       "  0%|          | 0/50 [00:00<?, ?it/s]"
      ]
     },
     "metadata": {},
     "output_type": "display_data"
    },
    {
     "data": {
      "application/vnd.jupyter.widget-view+json": {
       "model_id": "999cf710b427409c97e205f5eeb02239",
       "version_major": 2,
       "version_minor": 0
      },
      "text/plain": [
       "  0%|          | 0/380 [00:00<?, ?it/s]"
      ]
     },
     "metadata": {},
     "output_type": "display_data"
    },
    {
     "name": "stdout",
     "output_type": "stream",
     "text": [
      "EPOCH  1    Training acc  0.6784271700601764 validation acc =  0.6822453016815034\n"
     ]
    },
    {
     "data": {
      "application/vnd.jupyter.widget-view+json": {
       "model_id": "101f4ae6739744b38d71d4a1cc348aa0",
       "version_major": 2,
       "version_minor": 0
      },
      "text/plain": [
       "  0%|          | 0/380 [00:00<?, ?it/s]"
      ]
     },
     "metadata": {},
     "output_type": "display_data"
    },
    {
     "name": "stdout",
     "output_type": "stream",
     "text": [
      "EPOCH  2    Training acc  0.7185722529057785 validation acc =  0.7131552917903067\n"
     ]
    },
    {
     "data": {
      "application/vnd.jupyter.widget-view+json": {
       "model_id": "ba2df1767e274feda7c771aa07743ef6",
       "version_major": 2,
       "version_minor": 0
      },
      "text/plain": [
       "  0%|          | 0/380 [00:00<?, ?it/s]"
      ]
     },
     "metadata": {},
     "output_type": "display_data"
    },
    {
     "name": "stdout",
     "output_type": "stream",
     "text": [
      "EPOCH  3    Training acc  0.7531942956062979 validation acc =  0.7158753709198813\n"
     ]
    },
    {
     "data": {
      "application/vnd.jupyter.widget-view+json": {
       "model_id": "e2795820cbd84b64a9fb78848b7fd5f8",
       "version_major": 2,
       "version_minor": 0
      },
      "text/plain": [
       "  0%|          | 0/380 [00:00<?, ?it/s]"
      ]
     },
     "metadata": {},
     "output_type": "display_data"
    },
    {
     "name": "stdout",
     "output_type": "stream",
     "text": [
      "EPOCH  4    Training acc  0.7910312422718655 validation acc =  0.7331849653808111\n"
     ]
    },
    {
     "data": {
      "application/vnd.jupyter.widget-view+json": {
       "model_id": "336523a8372d41ff88213320fe45c7d5",
       "version_major": 2,
       "version_minor": 0
      },
      "text/plain": [
       "  0%|          | 0/380 [00:00<?, ?it/s]"
      ]
     },
     "metadata": {},
     "output_type": "display_data"
    },
    {
     "name": "stdout",
     "output_type": "stream",
     "text": [
      "EPOCH  5    Training acc  0.8296100898524441 validation acc =  0.7270029673590505\n"
     ]
    },
    {
     "data": {
      "application/vnd.jupyter.widget-view+json": {
       "model_id": "94b01d4f80584e1aa99e6bb36a007398",
       "version_major": 2,
       "version_minor": 0
      },
      "text/plain": [
       "  0%|          | 0/380 [00:00<?, ?it/s]"
      ]
     },
     "metadata": {},
     "output_type": "display_data"
    },
    {
     "name": "stdout",
     "output_type": "stream",
     "text": [
      "EPOCH  6    Training acc  0.8676943368230154 validation acc =  0.7087042532146389\n"
     ]
    },
    {
     "data": {
      "application/vnd.jupyter.widget-view+json": {
       "model_id": "38f8f32b770c4348b89dc9d44ceb7f16",
       "version_major": 2,
       "version_minor": 0
      },
      "text/plain": [
       "  0%|          | 0/380 [00:00<?, ?it/s]"
      ]
     },
     "metadata": {},
     "output_type": "display_data"
    },
    {
     "name": "stdout",
     "output_type": "stream",
     "text": [
      "EPOCH  7    Training acc  0.9033055807435496 validation acc =  0.7153808110781404\n"
     ]
    },
    {
     "data": {
      "application/vnd.jupyter.widget-view+json": {
       "model_id": "ce7395ebaf0a412b8332dc975e4f9a97",
       "version_major": 2,
       "version_minor": 0
      },
      "text/plain": [
       "  0%|          | 0/380 [00:00<?, ?it/s]"
      ]
     },
     "metadata": {},
     "output_type": "display_data"
    },
    {
     "name": "stdout",
     "output_type": "stream",
     "text": [
      "EPOCH  8    Training acc  0.931662682383975 validation acc =  0.718595450049456\n"
     ]
    },
    {
     "data": {
      "application/vnd.jupyter.widget-view+json": {
       "model_id": "ed361966d68840798da6351f6ac00507",
       "version_major": 2,
       "version_minor": 0
      },
      "text/plain": [
       "  0%|          | 0/380 [00:00<?, ?it/s]"
      ]
     },
     "metadata": {},
     "output_type": "display_data"
    },
    {
     "name": "stdout",
     "output_type": "stream",
     "text": [
      "EPOCH  9    Training acc  0.9346302860440194 validation acc =  0.7151335311572701\n"
     ]
    },
    {
     "data": {
      "application/vnd.jupyter.widget-view+json": {
       "model_id": "44ac9fe979bf41a3b8edc02062760b2d",
       "version_major": 2,
       "version_minor": 0
      },
      "text/plain": [
       "  0%|          | 0/380 [00:00<?, ?it/s]"
      ]
     },
     "metadata": {},
     "output_type": "display_data"
    },
    {
     "name": "stdout",
     "output_type": "stream",
     "text": [
      "EPOCH  10    Training acc  0.9627400873794411 validation acc =  0.7156280909990109\n"
     ]
    },
    {
     "data": {
      "application/vnd.jupyter.widget-view+json": {
       "model_id": "f2eeae16a82e4a82aa68ed78894dbfad",
       "version_major": 2,
       "version_minor": 0
      },
      "text/plain": [
       "  0%|          | 0/380 [00:00<?, ?it/s]"
      ]
     },
     "metadata": {},
     "output_type": "display_data"
    },
    {
     "name": "stdout",
     "output_type": "stream",
     "text": [
      "EPOCH  11    Training acc  0.9635644217294534 validation acc =  0.7079624134520277\n"
     ]
    },
    {
     "data": {
      "application/vnd.jupyter.widget-view+json": {
       "model_id": "82a2271d4f9544dc8aa341296c25eb4d",
       "version_major": 2,
       "version_minor": 0
      },
      "text/plain": [
       "  0%|          | 0/380 [00:00<?, ?it/s]"
      ]
     },
     "metadata": {},
     "output_type": "display_data"
    },
    {
     "name": "stdout",
     "output_type": "stream",
     "text": [
      "EPOCH  12    Training acc  0.9653779572994806 validation acc =  0.7096933728981206\n"
     ]
    },
    {
     "data": {
      "application/vnd.jupyter.widget-view+json": {
       "model_id": "061e9770c5e34424945132ab53935558",
       "version_major": 2,
       "version_minor": 0
      },
      "text/plain": [
       "  0%|          | 0/380 [00:00<?, ?it/s]"
      ]
     },
     "metadata": {},
     "output_type": "display_data"
    },
    {
     "name": "stdout",
     "output_type": "stream",
     "text": [
      "EPOCH  13    Training acc  0.9793916412496909 validation acc =  0.7084569732937686\n"
     ]
    },
    {
     "data": {
      "application/vnd.jupyter.widget-view+json": {
       "model_id": "f3cbf30f92914e7da9bc598b42e61a32",
       "version_major": 2,
       "version_minor": 0
      },
      "text/plain": [
       "  0%|          | 0/380 [00:00<?, ?it/s]"
      ]
     },
     "metadata": {},
     "output_type": "display_data"
    },
    {
     "name": "stdout",
     "output_type": "stream",
     "text": [
      "EPOCH  14    Training acc  0.9728793998845932 validation acc =  0.6948565776458951\n"
     ]
    },
    {
     "data": {
      "application/vnd.jupyter.widget-view+json": {
       "model_id": "1ca50dd3ff334f999996b447c5062d5c",
       "version_major": 2,
       "version_minor": 0
      },
      "text/plain": [
       "  0%|          | 0/380 [00:00<?, ?it/s]"
      ]
     },
     "metadata": {},
     "output_type": "display_data"
    },
    {
     "name": "stdout",
     "output_type": "stream",
     "text": [
      "EPOCH  15    Training acc  0.9734564339296018 validation acc =  0.710435212660732\n"
     ]
    },
    {
     "data": {
      "application/vnd.jupyter.widget-view+json": {
       "model_id": "13e2b7ed553940b0afc9d7691061f2bf",
       "version_major": 2,
       "version_minor": 0
      },
      "text/plain": [
       "  0%|          | 0/380 [00:00<?, ?it/s]"
      ]
     },
     "metadata": {},
     "output_type": "display_data"
    },
    {
     "name": "stdout",
     "output_type": "stream",
     "text": [
      "EPOCH  16    Training acc  0.9833484461297503 validation acc =  0.7126607319485658\n"
     ]
    },
    {
     "data": {
      "application/vnd.jupyter.widget-view+json": {
       "model_id": "0046364a41c6427bbc5c33d4cd08cae2",
       "version_major": 2,
       "version_minor": 0
      },
      "text/plain": [
       "  0%|          | 0/380 [00:00<?, ?it/s]"
      ]
     },
     "metadata": {},
     "output_type": "display_data"
    },
    {
     "name": "stdout",
     "output_type": "stream",
     "text": [
      "EPOCH  17    Training acc  0.9798862418596983 validation acc =  0.7111770524233432\n"
     ]
    },
    {
     "data": {
      "application/vnd.jupyter.widget-view+json": {
       "model_id": "da9cb20f169d47888b49ed5488274913",
       "version_major": 2,
       "version_minor": 0
      },
      "text/plain": [
       "  0%|          | 0/380 [00:00<?, ?it/s]"
      ]
     },
     "metadata": {},
     "output_type": "display_data"
    },
    {
     "name": "stdout",
     "output_type": "stream",
     "text": [
      "EPOCH  18    Training acc  0.9836781798697551 validation acc =  0.6896636993076162\n"
     ]
    },
    {
     "data": {
      "application/vnd.jupyter.widget-view+json": {
       "model_id": "23886d2f34f44a0f96eafea419acaa44",
       "version_major": 2,
       "version_minor": 0
      },
      "text/plain": [
       "  0%|          | 0/380 [00:00<?, ?it/s]"
      ]
     },
     "metadata": {},
     "output_type": "display_data"
    },
    {
     "name": "stdout",
     "output_type": "stream",
     "text": [
      "EPOCH  19    Training acc  0.9840903470447614 validation acc =  0.7119188921859545\n"
     ]
    },
    {
     "data": {
      "application/vnd.jupyter.widget-view+json": {
       "model_id": "f0bbf5c46cc0461caef11713a0e2abb2",
       "version_major": 2,
       "version_minor": 0
      },
      "text/plain": [
       "  0%|          | 0/380 [00:00<?, ?it/s]"
      ]
     },
     "metadata": {},
     "output_type": "display_data"
    },
    {
     "name": "stdout",
     "output_type": "stream",
     "text": [
      "EPOCH  20    Training acc  0.9779902728546699 validation acc =  0.7059841740850643\n"
     ]
    },
    {
     "data": {
      "application/vnd.jupyter.widget-view+json": {
       "model_id": "17f06a619bf44867aed7051819f54d16",
       "version_major": 2,
       "version_minor": 0
      },
      "text/plain": [
       "  0%|          | 0/380 [00:00<?, ?it/s]"
      ]
     },
     "metadata": {},
     "output_type": "display_data"
    },
    {
     "name": "stdout",
     "output_type": "stream",
     "text": [
      "EPOCH  21    Training acc  0.9858214491797873 validation acc =  0.7289812067260139\n"
     ]
    },
    {
     "data": {
      "application/vnd.jupyter.widget-view+json": {
       "model_id": "fb72a9d87d3147bcb05a46a10a685742",
       "version_major": 2,
       "version_minor": 0
      },
      "text/plain": [
       "  0%|          | 0/380 [00:00<?, ?it/s]"
      ]
     },
     "metadata": {},
     "output_type": "display_data"
    },
    {
     "name": "stdout",
     "output_type": "stream",
     "text": [
      "EPOCH  22    Training acc  0.9838430467397576 validation acc =  0.7032640949554896\n"
     ]
    },
    {
     "data": {
      "application/vnd.jupyter.widget-view+json": {
       "model_id": "5cdcf9002181488095ade32b6ba171a9",
       "version_major": 2,
       "version_minor": 0
      },
      "text/plain": [
       "  0%|          | 0/380 [00:00<?, ?it/s]"
      ]
     },
     "metadata": {},
     "output_type": "display_data"
    },
    {
     "name": "stdout",
     "output_type": "stream",
     "text": [
      "EPOCH  23    Training acc  0.9844200807847663 validation acc =  0.7176063303659743\n"
     ]
    },
    {
     "data": {
      "application/vnd.jupyter.widget-view+json": {
       "model_id": "853896c88fee4b118429de08eacf7ac9",
       "version_major": 2,
       "version_minor": 0
      },
      "text/plain": [
       "  0%|          | 0/380 [00:00<?, ?it/s]"
      ]
     },
     "metadata": {},
     "output_type": "display_data"
    },
    {
     "name": "stdout",
     "output_type": "stream",
     "text": [
      "EPOCH  24    Training acc  0.9888714862748331 validation acc =  0.7171117705242335\n"
     ]
    },
    {
     "data": {
      "application/vnd.jupyter.widget-view+json": {
       "model_id": "e1e2630d2a3c4b2a9e8b40d79b69e760",
       "version_major": 2,
       "version_minor": 0
      },
      "text/plain": [
       "  0%|          | 0/380 [00:00<?, ?it/s]"
      ]
     },
     "metadata": {},
     "output_type": "display_data"
    },
    {
     "name": "stdout",
     "output_type": "stream",
     "text": [
      "EPOCH  25    Training acc  0.9798862418596983 validation acc =  0.7054896142433235\n"
     ]
    },
    {
     "data": {
      "application/vnd.jupyter.widget-view+json": {
       "model_id": "50acc15a32734fce963457aaf606fab3",
       "version_major": 2,
       "version_minor": 0
      },
      "text/plain": [
       "  0%|          | 0/380 [00:00<?, ?it/s]"
      ]
     },
     "metadata": {},
     "output_type": "display_data"
    },
    {
     "name": "stdout",
     "output_type": "stream",
     "text": [
      "EPOCH  26    Training acc  0.9876349847498145 validation acc =  0.718595450049456\n"
     ]
    },
    {
     "data": {
      "application/vnd.jupyter.widget-view+json": {
       "model_id": "ace937ff12dc493eb0fc4d8d165d9494",
       "version_major": 2,
       "version_minor": 0
      },
      "text/plain": [
       "  0%|          | 0/380 [00:00<?, ?it/s]"
      ]
     },
     "metadata": {},
     "output_type": "display_data"
    },
    {
     "name": "stdout",
     "output_type": "stream",
     "text": [
      "EPOCH  27    Training acc  0.9882120187948232 validation acc =  0.6963402571711177\n"
     ]
    },
    {
     "data": {
      "application/vnd.jupyter.widget-view+json": {
       "model_id": "8facace552f641bda897a6667557a829",
       "version_major": 2,
       "version_minor": 0
      },
      "text/plain": [
       "  0%|          | 0/380 [00:00<?, ?it/s]"
      ]
     },
     "metadata": {},
     "output_type": "display_data"
    },
    {
     "name": "stdout",
     "output_type": "stream",
     "text": [
      "EPOCH  28    Training acc  0.9854092820047812 validation acc =  0.6980712166172107\n"
     ]
    },
    {
     "data": {
      "application/vnd.jupyter.widget-view+json": {
       "model_id": "e354dcfd21f24ba788516cd06ae0f23d",
       "version_major": 2,
       "version_minor": 0
      },
      "text/plain": [
       "  0%|          | 0/380 [00:00<?, ?it/s]"
      ]
     },
     "metadata": {},
     "output_type": "display_data"
    },
    {
     "name": "stdout",
     "output_type": "stream",
     "text": [
      "EPOCH  29    Training acc  0.9877174181848157 validation acc =  0.7101879327398615\n"
     ]
    },
    {
     "data": {
      "application/vnd.jupyter.widget-view+json": {
       "model_id": "e61dae148822460da15561ef6dc111e6",
       "version_major": 2,
       "version_minor": 0
      },
      "text/plain": [
       "  0%|          | 0/380 [00:00<?, ?it/s]"
      ]
     },
     "metadata": {},
     "output_type": "display_data"
    },
    {
     "name": "stdout",
     "output_type": "stream",
     "text": [
      "EPOCH  30    Training acc  0.9874701178798121 validation acc =  0.6995548961424333\n"
     ]
    },
    {
     "data": {
      "application/vnd.jupyter.widget-view+json": {
       "model_id": "ead72bada2394c90871cb339e238db3b",
       "version_major": 2,
       "version_minor": 0
      },
      "text/plain": [
       "  0%|          | 0/380 [00:00<?, ?it/s]"
      ]
     },
     "metadata": {},
     "output_type": "display_data"
    },
    {
     "name": "stdout",
     "output_type": "stream",
     "text": [
      "EPOCH  31    Training acc  0.9920863902398813 validation acc =  0.7116716122650841\n"
     ]
    },
    {
     "data": {
      "application/vnd.jupyter.widget-view+json": {
       "model_id": "a6ca8dc8c1e94ad4951f7c35fee5f129",
       "version_major": 2,
       "version_minor": 0
      },
      "text/plain": [
       "  0%|          | 0/380 [00:00<?, ?it/s]"
      ]
     },
     "metadata": {},
     "output_type": "display_data"
    },
    {
     "name": "stdout",
     "output_type": "stream",
     "text": [
      "EPOCH  32    Training acc  0.9865633500947985 validation acc =  0.7054896142433235\n"
     ]
    },
    {
     "data": {
      "application/vnd.jupyter.widget-view+json": {
       "model_id": "c9aefd29bd2c4ec8af23ce7237be28fd",
       "version_major": 2,
       "version_minor": 0
      },
      "text/plain": [
       "  0%|          | 0/380 [00:00<?, ?it/s]"
      ]
     },
     "metadata": {},
     "output_type": "display_data"
    },
    {
     "name": "stdout",
     "output_type": "stream",
     "text": [
      "EPOCH  33    Training acc  0.9873052510098096 validation acc =  0.6926310583580614\n"
     ]
    },
    {
     "data": {
      "application/vnd.jupyter.widget-view+json": {
       "model_id": "9cb6e19919ca4332ba0ca76ab7b76f98",
       "version_major": 2,
       "version_minor": 0
      },
      "text/plain": [
       "  0%|          | 0/380 [00:00<?, ?it/s]"
      ]
     },
     "metadata": {},
     "output_type": "display_data"
    },
    {
     "name": "stdout",
     "output_type": "stream",
     "text": [
      "EPOCH  34    Training acc  0.9854917154397824 validation acc =  0.7057368941641938\n"
     ]
    },
    {
     "data": {
      "application/vnd.jupyter.widget-view+json": {
       "model_id": "b727c5b2a13543129bc5a9dbda2fcf3b",
       "version_major": 2,
       "version_minor": 0
      },
      "text/plain": [
       "  0%|          | 0/380 [00:00<?, ?it/s]"
      ]
     },
     "metadata": {},
     "output_type": "display_data"
    },
    {
     "name": "stdout",
     "output_type": "stream",
     "text": [
      "EPOCH  35    Training acc  0.9882944522298244 validation acc =  0.7148862512363996\n"
     ]
    },
    {
     "data": {
      "application/vnd.jupyter.widget-view+json": {
       "model_id": "6b29c6fc5d484f8bbcbd6f3d3519c2fa",
       "version_major": 2,
       "version_minor": 0
      },
      "text/plain": [
       "  0%|          | 0/380 [00:00<?, ?it/s]"
      ]
     },
     "metadata": {},
     "output_type": "display_data"
    },
    {
     "name": "stdout",
     "output_type": "stream",
     "text": [
      "EPOCH  36    Training acc  0.9913444893248702 validation acc =  0.7087042532146389\n"
     ]
    },
    {
     "data": {
      "application/vnd.jupyter.widget-view+json": {
       "model_id": "bb6522a64e0842928a5ba95cc82fcdc8",
       "version_major": 2,
       "version_minor": 0
      },
      "text/plain": [
       "  0%|          | 0/380 [00:00<?, ?it/s]"
      ]
     },
     "metadata": {},
     "output_type": "display_data"
    },
    {
     "name": "stdout",
     "output_type": "stream",
     "text": [
      "EPOCH  37    Training acc  0.9858214491797873 validation acc =  0.7151335311572701\n"
     ]
    },
    {
     "data": {
      "application/vnd.jupyter.widget-view+json": {
       "model_id": "19270396062d4ccf899e6730b9705588",
       "version_major": 2,
       "version_minor": 0
      },
      "text/plain": [
       "  0%|          | 0/380 [00:00<?, ?it/s]"
      ]
     },
     "metadata": {},
     "output_type": "display_data"
    },
    {
     "name": "stdout",
     "output_type": "stream",
     "text": [
      "EPOCH  38    Training acc  0.990602588409859 validation acc =  0.7124134520276953\n"
     ]
    },
    {
     "data": {
      "application/vnd.jupyter.widget-view+json": {
       "model_id": "e8c2d86842804d388f8f890fd6f1a3cb",
       "version_major": 2,
       "version_minor": 0
      },
      "text/plain": [
       "  0%|          | 0/380 [00:00<?, ?it/s]"
      ]
     },
     "metadata": {},
     "output_type": "display_data"
    },
    {
     "name": "stdout",
     "output_type": "stream",
     "text": [
      "EPOCH  39    Training acc  0.9934053251999011 validation acc =  0.7183481701285855\n"
     ]
    },
    {
     "data": {
      "application/vnd.jupyter.widget-view+json": {
       "model_id": "f8e970bb53cd4d7ba3c0a708308ade2c",
       "version_major": 2,
       "version_minor": 0
      },
      "text/plain": [
       "  0%|          | 0/380 [00:00<?, ?it/s]"
      ]
     },
     "metadata": {},
     "output_type": "display_data"
    },
    {
     "name": "stdout",
     "output_type": "stream",
     "text": [
      "EPOCH  40    Training acc  0.9929107245898937 validation acc =  0.713402571711177\n"
     ]
    },
    {
     "data": {
      "application/vnd.jupyter.widget-view+json": {
       "model_id": "af4127ec01464c2f9c1866e334c41680",
       "version_major": 2,
       "version_minor": 0
      },
      "text/plain": [
       "  0%|          | 0/380 [00:00<?, ?it/s]"
      ]
     },
     "metadata": {},
     "output_type": "display_data"
    },
    {
     "name": "stdout",
     "output_type": "stream",
     "text": [
      "EPOCH  41    Training acc  0.9888714862748331 validation acc =  0.7047477744807121\n"
     ]
    },
    {
     "data": {
      "application/vnd.jupyter.widget-view+json": {
       "model_id": "b04fbcd7b58b45388efa6409688cd3a3",
       "version_major": 2,
       "version_minor": 0
      },
      "text/plain": [
       "  0%|          | 0/380 [00:00<?, ?it/s]"
      ]
     },
     "metadata": {},
     "output_type": "display_data"
    },
    {
     "name": "stdout",
     "output_type": "stream",
     "text": [
      "EPOCH  42    Training acc  0.9901904212348529 validation acc =  0.7059841740850643\n"
     ]
    },
    {
     "data": {
      "application/vnd.jupyter.widget-view+json": {
       "model_id": "3d6d39f4854944afb45e79608ac4b261",
       "version_major": 2,
       "version_minor": 0
      },
      "text/plain": [
       "  0%|          | 0/380 [00:00<?, ?it/s]"
      ]
     },
     "metadata": {},
     "output_type": "display_data"
    },
    {
     "name": "stdout",
     "output_type": "stream",
     "text": [
      "EPOCH  43    Training acc  0.9862336163547935 validation acc =  0.7141444114737884\n"
     ]
    },
    {
     "data": {
      "application/vnd.jupyter.widget-view+json": {
       "model_id": "ebefa1ce94484ce78d9a93e53d9ef23d",
       "version_major": 2,
       "version_minor": 0
      },
      "text/plain": [
       "  0%|          | 0/380 [00:00<?, ?it/s]"
      ]
     },
     "metadata": {},
     "output_type": "display_data"
    },
    {
     "name": "stdout",
     "output_type": "stream",
     "text": [
      "EPOCH  44    Training acc  0.9935701920699036 validation acc =  0.7106824925816023\n"
     ]
    },
    {
     "data": {
      "application/vnd.jupyter.widget-view+json": {
       "model_id": "eaf409c01d534fbebb63970a4d0d80e4",
       "version_major": 2,
       "version_minor": 0
      },
      "text/plain": [
       "  0%|          | 0/380 [00:00<?, ?it/s]"
      ]
     },
     "metadata": {},
     "output_type": "display_data"
    },
    {
     "name": "stdout",
     "output_type": "stream",
     "text": [
      "EPOCH  45    Training acc  0.9826065452147391 validation acc =  0.713402571711177\n"
     ]
    },
    {
     "data": {
      "application/vnd.jupyter.widget-view+json": {
       "model_id": "b5c868d501fc43b1972d3e331988f573",
       "version_major": 2,
       "version_minor": 0
      },
      "text/plain": [
       "  0%|          | 0/380 [00:00<?, ?it/s]"
      ]
     },
     "metadata": {},
     "output_type": "display_data"
    },
    {
     "name": "stdout",
     "output_type": "stream",
     "text": [
      "EPOCH  46    Training acc  0.9941472261149122 validation acc =  0.7146389713155292\n"
     ]
    },
    {
     "data": {
      "application/vnd.jupyter.widget-view+json": {
       "model_id": "8fac2c3e82b54a018f16b7a723ab00ff",
       "version_major": 2,
       "version_minor": 0
      },
      "text/plain": [
       "  0%|          | 0/380 [00:00<?, ?it/s]"
      ]
     },
     "metadata": {},
     "output_type": "display_data"
    },
    {
     "name": "stdout",
     "output_type": "stream",
     "text": [
      "EPOCH  47    Training acc  0.9941472261149122 validation acc =  0.7047477744807121\n"
     ]
    },
    {
     "data": {
      "application/vnd.jupyter.widget-view+json": {
       "model_id": "936046ed3bd847a09901d01df2a5079e",
       "version_major": 2,
       "version_minor": 0
      },
      "text/plain": [
       "  0%|          | 0/380 [00:00<?, ?it/s]"
      ]
     },
     "metadata": {},
     "output_type": "display_data"
    },
    {
     "name": "stdout",
     "output_type": "stream",
     "text": [
      "EPOCH  48    Training acc  0.9953837276399308 validation acc =  0.7161226508407518\n"
     ]
    },
    {
     "data": {
      "application/vnd.jupyter.widget-view+json": {
       "model_id": "f75371a244fa4f87bc9ab9794de7e2c0",
       "version_major": 2,
       "version_minor": 0
      },
      "text/plain": [
       "  0%|          | 0/380 [00:00<?, ?it/s]"
      ]
     },
     "metadata": {},
     "output_type": "display_data"
    },
    {
     "name": "stdout",
     "output_type": "stream",
     "text": [
      "EPOCH  49    Training acc  0.994064792679911 validation acc =  0.7111770524233432\n"
     ]
    },
    {
     "data": {
      "application/vnd.jupyter.widget-view+json": {
       "model_id": "80bfd3405f2c4544946775b6865d6dd4",
       "version_major": 2,
       "version_minor": 0
      },
      "text/plain": [
       "  0%|          | 0/380 [00:00<?, ?it/s]"
      ]
     },
     "metadata": {},
     "output_type": "display_data"
    },
    {
     "name": "stdout",
     "output_type": "stream",
     "text": [
      "EPOCH  50    Training acc  0.9934053251999011 validation acc =  0.7223046488625123\n"
     ]
    }
   ],
   "source": [
    "#training loop\n",
    "\n",
    "last_acc= 100\n",
    "print(device)\n",
    "for param in model.parameters():\n",
    "    param.requires_grad = True\n",
    "for epoch in tqdm(range(50)):\n",
    "    # monitor training loss\n",
    "    train_loss = 0.0\n",
    "    model.train()\n",
    "    train_accuracy = 0.0\n",
    "    #Training\n",
    "\n",
    "    for data,label in tqdm(train_dataloader):\n",
    "\n",
    "        images = data\n",
    "        images = images.to(device)\n",
    "        optimizer.zero_grad()\n",
    "        outputs = model(images)\n",
    "\n",
    "        label=label.to(device)\n",
    "\n",
    "        train_accuracy += calculate_accuracy(outputs, label)\n",
    "        loss = loss_function(outputs, label)\n",
    "        loss.backward()\n",
    "        optimizer.step()\n",
    "        train_loss += loss.item()\n",
    "\n",
    "\n",
    "    valid_loss = 0.0\n",
    "    val_accuracy = 0.0\n",
    "    model.eval()\n",
    "    for data, label in valid_dataloader:\n",
    "\n",
    "        data = data.to(device)\n",
    "        target = model(data)\n",
    "        label=label.to(device)\n",
    "        val_accuracy += calculate_accuracy(target, label)\n",
    "        loss = loss_function(target, label)\n",
    "        valid_loss += loss.item()\n",
    "\n",
    "    #Save the best model weights\n",
    "    \n",
    "    if val_accuracy/len(valid) < last_acc:\n",
    "        last_acc = val_accuracy\n",
    "        torch.save(model.state_dict(),'C:\\\\Users\\\\tld\\\\Downloads\\\\cs5805project\\\\weights\\\\FER_3_256x256_3.pt')\n",
    "\n",
    "    print(\"EPOCH \", epoch+1,\"   Training acc \",train_accuracy/len(train), \"validation acc = \" ,val_accuracy/len(valid))"
   ]
  },
  {
   "cell_type": "code",
   "execution_count": 30,
   "metadata": {
    "colab": {
     "base_uri": "https://localhost:8080/"
    },
    "id": "ygxfSonnZ0Ao",
    "outputId": "4390bf9e-e582-4cb5-e7e9-f4221bc28d87"
   },
   "outputs": [
    {
     "name": "stderr",
     "output_type": "stream",
     "text": [
      "C:\\Users\\tld\\AppData\\Local\\Temp\\ipykernel_8476\\1179852314.py:2: FutureWarning: You are using `torch.load` with `weights_only=False` (the current default value), which uses the default pickle module implicitly. It is possible to construct malicious pickle data which will execute arbitrary code during unpickling (See https://github.com/pytorch/pytorch/blob/main/SECURITY.md#untrusted-models for more details). In a future release, the default value for `weights_only` will be flipped to `True`. This limits the functions that could be executed during unpickling. Arbitrary objects will no longer be allowed to be loaded via this mode unless they are explicitly allowlisted by the user via `torch.serialization.add_safe_globals`. We recommend you start setting `weights_only=True` for any use case where you don't have full control of the loaded file. Please open an issue on GitHub for any issues related to this experimental feature.\n",
      "  model_test.load_state_dict(torch.load('C:\\\\Users\\\\tld\\\\Downloads\\\\cs5805project\\\\weights\\\\FER_3_256x256_3.pt'))\n"
     ]
    },
    {
     "name": "stdout",
     "output_type": "stream",
     "text": [
      "3965\n",
      "Test Accuracy: 0.6895334174022698\n"
     ]
    }
   ],
   "source": [
    "model_test = EmotionDetectionNet()\n",
    "model_test.load_state_dict(torch.load('C:\\\\Users\\\\tld\\\\Downloads\\\\cs5805project\\\\weights\\\\FER_3_256x256_3.pt'))\n",
    "model_test.to(device)\n",
    "fer_test = FerTest()\n",
    "test_dataloader = DataLoader(fer_test, batch_size=25, shuffle=False)\n",
    "test_accuracy = 0.0\n",
    "print(len(fer_test))\n",
    "for data, label in test_dataloader:\n",
    "  data = data.to(device)\n",
    "  target = model_test(data)\n",
    "  label=label.to(device)\n",
    "  test_accuracy += calculate_accuracy(target, label)\n",
    "\n",
    "print(f'Test Accuracy: {test_accuracy/len(fer_test)}')"
   ]
  },
  {
   "cell_type": "markdown",
   "metadata": {},
   "source": [
    "## Fine Tune on the MLI-DER dataset"
   ]
  },
  {
   "cell_type": "code",
   "execution_count": 31,
   "metadata": {
    "id": "UFXEWFvSxjv9"
   },
   "outputs": [],
   "source": [
    "class DrivingFineTune(Dataset):\n",
    "    def __init__(self, samples=100): # add additional parameters needed to load the dataset e.g dataset path\n",
    "        self.train_images  = np.load('C:\\\\Users\\\\tld\\\\Downloads\\\\cs5805project\\\\train_images_fine_tune.npy')\n",
    "        random_samples = np.random.randint(self.train_images.shape[0], size=samples)\n",
    "        self.train_images = self.train_images[random_samples, :]\n",
    "        self.train_labels = np.load('C:\\\\Users\\\\tld\\\\Downloads\\\\cs5805project\\\\train_labels_fine_tune.npy')\n",
    "        self.train_labels = self.train_labels[random_samples,:]\n",
    "        len(self.train_images.shape)\n",
    "\n",
    "    def __len__(self):\n",
    "        return len(self.train_images)\n",
    "\n",
    "    def __getitem__(self, idx):\n",
    "        img = self.train_images[idx]\n",
    "        # img = cv2.resize(img, (256, 256), interpolation = cv2.INTER_LINEAR)\n",
    "        # img= img.reshape(256,256,1)\n",
    "        img=img.astype(np.float32)\n",
    "        img=img.T\n",
    "        img_tensor = torch.from_numpy(img)\n",
    "\n",
    "        label= torch.from_numpy(self.train_labels[idx]).to(torch.float32)\n",
    "\n",
    "        return img_tensor, label"
   ]
  },
  {
   "cell_type": "code",
   "execution_count": 32,
   "metadata": {},
   "outputs": [
    {
     "data": {
      "text/plain": [
       "(tensor([[[0.5690, 0.3975, 0.2829,  ..., 0.3730, 0.3783, 0.3613],\n",
       "          [0.8153, 0.7934, 0.8039,  ..., 0.3542, 0.3751, 0.3787],\n",
       "          [0.7829, 0.7969, 0.8036,  ..., 0.3788, 0.4069, 0.3637],\n",
       "          ...,\n",
       "          [0.7857, 0.4875, 0.4476,  ..., 0.3533, 0.3395, 0.3382],\n",
       "          [0.8466, 0.6264, 0.4134,  ..., 0.3137, 0.3240, 0.3113],\n",
       "          [0.8356, 0.6870, 0.3474,  ..., 0.2967, 0.2950, 0.2942]]]),\n",
       " tensor([1., 0., 0.]))"
      ]
     },
     "execution_count": 32,
     "metadata": {},
     "output_type": "execute_result"
    }
   ],
   "source": [
    "driving = DrivingFineTune()\n",
    "driving.__getitem__(50)"
   ]
  },
  {
   "cell_type": "code",
   "execution_count": 34,
   "metadata": {},
   "outputs": [
    {
     "data": {
      "application/vnd.jupyter.widget-view+json": {
       "model_id": "682372e0e7314f0a9b5fc2a9b4e32399",
       "version_major": 2,
       "version_minor": 0
      },
      "text/plain": [
       "  0%|          | 0/30 [00:00<?, ?it/s]"
      ]
     },
     "metadata": {},
     "output_type": "display_data"
    },
    {
     "name": "stdout",
     "output_type": "stream",
     "text": [
      "Samples: 100 EPOCH:  30    Training acc  0.22\n"
     ]
    },
    {
     "data": {
      "application/vnd.jupyter.widget-view+json": {
       "model_id": "01b1c67152b14d969a742b339ab68c01",
       "version_major": 2,
       "version_minor": 0
      },
      "text/plain": [
       "  0%|          | 0/30 [00:00<?, ?it/s]"
      ]
     },
     "metadata": {},
     "output_type": "display_data"
    },
    {
     "name": "stdout",
     "output_type": "stream",
     "text": [
      "Samples: 200 EPOCH:  30    Training acc  0.355\n"
     ]
    },
    {
     "data": {
      "application/vnd.jupyter.widget-view+json": {
       "model_id": "1c950839dbd54920bf3ce23b93ac750a",
       "version_major": 2,
       "version_minor": 0
      },
      "text/plain": [
       "  0%|          | 0/30 [00:00<?, ?it/s]"
      ]
     },
     "metadata": {},
     "output_type": "display_data"
    },
    {
     "name": "stdout",
     "output_type": "stream",
     "text": [
      "Samples: 300 EPOCH:  30    Training acc  0.24666666666666667\n"
     ]
    },
    {
     "data": {
      "application/vnd.jupyter.widget-view+json": {
       "model_id": "d14cb9c7fdbd4c22bd19985bfc368f9b",
       "version_major": 2,
       "version_minor": 0
      },
      "text/plain": [
       "  0%|          | 0/30 [00:00<?, ?it/s]"
      ]
     },
     "metadata": {},
     "output_type": "display_data"
    },
    {
     "name": "stdout",
     "output_type": "stream",
     "text": [
      "Samples: 400 EPOCH:  30    Training acc  0.31\n"
     ]
    },
    {
     "data": {
      "application/vnd.jupyter.widget-view+json": {
       "model_id": "04eecf1604f34b229a01034f1d229054",
       "version_major": 2,
       "version_minor": 0
      },
      "text/plain": [
       "  0%|          | 0/30 [00:00<?, ?it/s]"
      ]
     },
     "metadata": {},
     "output_type": "display_data"
    },
    {
     "name": "stdout",
     "output_type": "stream",
     "text": [
      "Samples: 500 EPOCH:  30    Training acc  0.268\n"
     ]
    },
    {
     "data": {
      "application/vnd.jupyter.widget-view+json": {
       "model_id": "6ecc07f1aeb649c2a7464a9a792a1ebf",
       "version_major": 2,
       "version_minor": 0
      },
      "text/plain": [
       "  0%|          | 0/30 [00:00<?, ?it/s]"
      ]
     },
     "metadata": {},
     "output_type": "display_data"
    },
    {
     "name": "stdout",
     "output_type": "stream",
     "text": [
      "Samples: 600 EPOCH:  30    Training acc  0.2683333333333333\n"
     ]
    },
    {
     "data": {
      "application/vnd.jupyter.widget-view+json": {
       "model_id": "5a6c6d3b0c4f462497eb08cb46a9636a",
       "version_major": 2,
       "version_minor": 0
      },
      "text/plain": [
       "  0%|          | 0/30 [00:00<?, ?it/s]"
      ]
     },
     "metadata": {},
     "output_type": "display_data"
    },
    {
     "name": "stdout",
     "output_type": "stream",
     "text": [
      "Samples: 700 EPOCH:  30    Training acc  0.29\n"
     ]
    },
    {
     "data": {
      "application/vnd.jupyter.widget-view+json": {
       "model_id": "0d4f48762732413c8c773defd85627e8",
       "version_major": 2,
       "version_minor": 0
      },
      "text/plain": [
       "  0%|          | 0/30 [00:00<?, ?it/s]"
      ]
     },
     "metadata": {},
     "output_type": "display_data"
    },
    {
     "name": "stdout",
     "output_type": "stream",
     "text": [
      "Samples: 800 EPOCH:  30    Training acc  0.31\n"
     ]
    }
   ],
   "source": [
    "model_fine_tune = EmotionDetectionNet()\n",
    "\n",
    "for samples in range(100,801, 100):\n",
    "    model_fine_tune.load_state_dict(torch.load('C:\\\\Users\\\\tld\\\\Downloads\\\\cs5805project\\\\weights\\\\FER_3_256x256_3.pt', weights_only=True))\n",
    "    learning_rate = 1e-4\n",
    "    loss_function = nn.CrossEntropyLoss()\n",
    "    optimizer = torch.optim.Adam(model.parameters(), lr=learning_rate)\n",
    "    model_fine_tune.to(device)\n",
    "    fer_fine_tune = DrivingFineTune(samples=samples)\n",
    "    fine_tune_dataloader = DataLoader(fer_fine_tune, batch_size=10, shuffle=True)\n",
    "    for param in model_fine_tune.parameters():\n",
    "        param.requires_grad = True\n",
    "\n",
    "\n",
    "    for epoch in tqdm(range(30)):\n",
    "        train_loss = 0.0\n",
    "        model_fine_tune.train()\n",
    "        train_accuracy = 0.0\n",
    "        #Training\n",
    "\n",
    "        for data,label in fine_tune_dataloader:\n",
    "\n",
    "            images = data\n",
    "            images = images.to(device)\n",
    "            optimizer.zero_grad()\n",
    "            outputs = model_fine_tune(images)\n",
    "\n",
    "            label=label.to(device)\n",
    "\n",
    "            train_accuracy += calculate_accuracy(outputs, label)\n",
    "            loss = loss_function(outputs, label)\n",
    "            loss.backward()\n",
    "            optimizer.step()\n",
    "            train_loss += loss.item()\n",
    "    print(f\"Samples: {samples} EPOCH: \", epoch+1,\"   Training acc \",train_accuracy/len(fer_fine_tune))\n",
    "    torch.save(model.state_dict(),f'C:\\\\Users\\\\tld\\\\Downloads\\\\cs5805project\\\\Base Model\\\\Base2\\\\base_{samples}.pt')\n",
    "    "
   ]
  },
  {
   "cell_type": "markdown",
   "metadata": {},
   "source": [
    "## Test Performance on the MLI-DER test set"
   ]
  },
  {
   "cell_type": "code",
   "execution_count": 36,
   "metadata": {},
   "outputs": [],
   "source": [
    "class FerDrivingTest(Dataset):\n",
    "  def __init__(self): # add additional parameters needed to load the dataset e.g dataset path\n",
    "        self.test_images  = np.load('C:\\\\Users\\\\tld\\\\Downloads\\\\cs5805project\\\\driving_data_test_images.npy')\n",
    "        self.test_labels = np.load('C:\\\\Users\\\\tld\\\\Downloads\\\\cs5805project\\\\driving_data_test_labels.npy')\n",
    "        print(self.test_images.shape)\n",
    "\n",
    "  def __len__(self):\n",
    "        return self.test_images.shape[0]\n",
    "\n",
    "  def __getitem__(self, idx):\n",
    "      # your code here\n",
    "      img = self.test_images[idx]\n",
    "    #   img = cv2.resize(img, (256, 256), interpolation = cv2.INTER_LANCZOS4)\n",
    "    #   img= img.reshape(256,256,1)\n",
    "      img=img.astype(np.float32)\n",
    "      img=img.T\n",
    "      img_tensor = torch.from_numpy(img)\n",
    "      label= torch.from_numpy(self.test_labels[idx]).to(torch.float32)\n",
    "\n",
    "      return img_tensor, label"
   ]
  },
  {
   "cell_type": "code",
   "execution_count": 39,
   "metadata": {},
   "outputs": [
    {
     "name": "stdout",
     "output_type": "stream",
     "text": [
      "(938, 256, 256, 1)\n",
      "Samples: 100 Test Accuracy: 0.31236673773987206 F1 score: 0.30510148726561664\n",
      "(938, 256, 256, 1)\n",
      "Samples: 200 Test Accuracy: 0.3017057569296375 F1 score: 0.29412901196652047\n",
      "(938, 256, 256, 1)\n",
      "Samples: 300 Test Accuracy: 0.3091684434968017 F1 score: 0.3025167573298959\n",
      "(938, 256, 256, 1)\n",
      "Samples: 400 Test Accuracy: 0.31663113006396587 F1 score: 0.30806601868756095\n",
      "(938, 256, 256, 1)\n",
      "Samples: 500 Test Accuracy: 0.31982942430703626 F1 score: 0.3127851809727359\n",
      "(938, 256, 256, 1)\n",
      "Samples: 600 Test Accuracy: 0.31663113006396587 F1 score: 0.3098274279978116\n",
      "(938, 256, 256, 1)\n",
      "Samples: 700 Test Accuracy: 0.31023454157782515 F1 score: 0.3033743084796602\n",
      "(938, 256, 256, 1)\n",
      "Samples: 800 Test Accuracy: 0.3230277185501066 F1 score: 0.31448463643786423\n"
     ]
    }
   ],
   "source": [
    "model_test = EmotionDetectionNet()\n",
    "for models in glob.glob('C:\\\\Users\\\\tld\\\\Downloads\\\\cs5805project\\\\Base Model\\\\Base2\\\\*.pt'):\n",
    "    num_samples = models.split('_')[-1][:3]\n",
    "    model_test.load_state_dict(torch.load(models, weights_only=True))\n",
    "    model_test.to(device)\n",
    "    fer_test = FerDrivingTest()\n",
    "    test_dataloader = DataLoader(fer_test, batch_size=1, shuffle=False)\n",
    "    preds = []\n",
    "    labels_arg_max = []\n",
    "    \n",
    "    for data, label in test_dataloader:\n",
    "        data = data.to(device)\n",
    "        target = model_test(data)\n",
    "        label=label.to(device)\n",
    "        label_max = torch.argmax(label)\n",
    "        pred = torch.argmax(target)\n",
    "        preds.append(label_max.item())\n",
    "        labels_arg_max.append(pred.item())\n",
    "\n",
    "    print(f'Samples: {num_samples} Test Accuracy: {accuracy_score(preds, labels_arg_max)} F1 score: {f1_score(preds, labels_arg_max, average='weighted')}')"
   ]
  },
  {
   "cell_type": "code",
   "execution_count": null,
   "metadata": {},
   "outputs": [],
   "source": []
  }
 ],
 "metadata": {
  "accelerator": "GPU",
  "colab": {
   "gpuType": "T4",
   "provenance": []
  },
  "kernelspec": {
   "display_name": "base",
   "language": "python",
   "name": "python3"
  },
  "language_info": {
   "codemirror_mode": {
    "name": "ipython",
    "version": 3
   },
   "file_extension": ".py",
   "mimetype": "text/x-python",
   "name": "python",
   "nbconvert_exporter": "python",
   "pygments_lexer": "ipython3",
   "version": "3.12.3"
  },
  "widgets": {
   "application/vnd.jupyter.widget-state+json": {
    "15ee70847a3b4abc980d4fe59f93dca3": {
     "model_module": "@jupyter-widgets/base",
     "model_module_version": "1.2.0",
     "model_name": "LayoutModel",
     "state": {
      "_model_module": "@jupyter-widgets/base",
      "_model_module_version": "1.2.0",
      "_model_name": "LayoutModel",
      "_view_count": null,
      "_view_module": "@jupyter-widgets/base",
      "_view_module_version": "1.2.0",
      "_view_name": "LayoutView",
      "align_content": null,
      "align_items": null,
      "align_self": null,
      "border": null,
      "bottom": null,
      "display": null,
      "flex": null,
      "flex_flow": null,
      "grid_area": null,
      "grid_auto_columns": null,
      "grid_auto_flow": null,
      "grid_auto_rows": null,
      "grid_column": null,
      "grid_gap": null,
      "grid_row": null,
      "grid_template_areas": null,
      "grid_template_columns": null,
      "grid_template_rows": null,
      "height": null,
      "justify_content": null,
      "justify_items": null,
      "left": null,
      "margin": null,
      "max_height": null,
      "max_width": null,
      "min_height": null,
      "min_width": null,
      "object_fit": null,
      "object_position": null,
      "order": null,
      "overflow": null,
      "overflow_x": null,
      "overflow_y": null,
      "padding": null,
      "right": null,
      "top": null,
      "visibility": null,
      "width": null
     }
    },
    "226f4e8cfe6a4d53a58494e2f2f1d545": {
     "model_module": "@jupyter-widgets/controls",
     "model_module_version": "1.5.0",
     "model_name": "ProgressStyleModel",
     "state": {
      "_model_module": "@jupyter-widgets/controls",
      "_model_module_version": "1.5.0",
      "_model_name": "ProgressStyleModel",
      "_view_count": null,
      "_view_module": "@jupyter-widgets/base",
      "_view_module_version": "1.2.0",
      "_view_name": "StyleView",
      "bar_color": null,
      "description_width": ""
     }
    },
    "289937b2a9fc4e36a067171053c0f871": {
     "model_module": "@jupyter-widgets/base",
     "model_module_version": "1.2.0",
     "model_name": "LayoutModel",
     "state": {
      "_model_module": "@jupyter-widgets/base",
      "_model_module_version": "1.2.0",
      "_model_name": "LayoutModel",
      "_view_count": null,
      "_view_module": "@jupyter-widgets/base",
      "_view_module_version": "1.2.0",
      "_view_name": "LayoutView",
      "align_content": null,
      "align_items": null,
      "align_self": null,
      "border": null,
      "bottom": null,
      "display": null,
      "flex": null,
      "flex_flow": null,
      "grid_area": null,
      "grid_auto_columns": null,
      "grid_auto_flow": null,
      "grid_auto_rows": null,
      "grid_column": null,
      "grid_gap": null,
      "grid_row": null,
      "grid_template_areas": null,
      "grid_template_columns": null,
      "grid_template_rows": null,
      "height": null,
      "justify_content": null,
      "justify_items": null,
      "left": null,
      "margin": null,
      "max_height": null,
      "max_width": null,
      "min_height": null,
      "min_width": null,
      "object_fit": null,
      "object_position": null,
      "order": null,
      "overflow": null,
      "overflow_x": null,
      "overflow_y": null,
      "padding": null,
      "right": null,
      "top": null,
      "visibility": null,
      "width": null
     }
    },
    "4a4a1a225c10451fa5fd52c3280d3c9f": {
     "model_module": "@jupyter-widgets/base",
     "model_module_version": "1.2.0",
     "model_name": "LayoutModel",
     "state": {
      "_model_module": "@jupyter-widgets/base",
      "_model_module_version": "1.2.0",
      "_model_name": "LayoutModel",
      "_view_count": null,
      "_view_module": "@jupyter-widgets/base",
      "_view_module_version": "1.2.0",
      "_view_name": "LayoutView",
      "align_content": null,
      "align_items": null,
      "align_self": null,
      "border": null,
      "bottom": null,
      "display": null,
      "flex": null,
      "flex_flow": null,
      "grid_area": null,
      "grid_auto_columns": null,
      "grid_auto_flow": null,
      "grid_auto_rows": null,
      "grid_column": null,
      "grid_gap": null,
      "grid_row": null,
      "grid_template_areas": null,
      "grid_template_columns": null,
      "grid_template_rows": null,
      "height": null,
      "justify_content": null,
      "justify_items": null,
      "left": null,
      "margin": null,
      "max_height": null,
      "max_width": null,
      "min_height": null,
      "min_width": null,
      "object_fit": null,
      "object_position": null,
      "order": null,
      "overflow": null,
      "overflow_x": null,
      "overflow_y": null,
      "padding": null,
      "right": null,
      "top": null,
      "visibility": null,
      "width": null
     }
    },
    "96c5edfce5d44f62b10fc7612b08715b": {
     "model_module": "@jupyter-widgets/controls",
     "model_module_version": "1.5.0",
     "model_name": "FloatProgressModel",
     "state": {
      "_dom_classes": [],
      "_model_module": "@jupyter-widgets/controls",
      "_model_module_version": "1.5.0",
      "_model_name": "FloatProgressModel",
      "_view_count": null,
      "_view_module": "@jupyter-widgets/controls",
      "_view_module_version": "1.5.0",
      "_view_name": "ProgressView",
      "bar_style": "danger",
      "description": "",
      "description_tooltip": null,
      "layout": "IPY_MODEL_289937b2a9fc4e36a067171053c0f871",
      "max": 100,
      "min": 0,
      "orientation": "horizontal",
      "style": "IPY_MODEL_226f4e8cfe6a4d53a58494e2f2f1d545",
      "value": 0
     }
    },
    "99be8374780c4c39bac0d4a1a6494b72": {
     "model_module": "@jupyter-widgets/base",
     "model_module_version": "1.2.0",
     "model_name": "LayoutModel",
     "state": {
      "_model_module": "@jupyter-widgets/base",
      "_model_module_version": "1.2.0",
      "_model_name": "LayoutModel",
      "_view_count": null,
      "_view_module": "@jupyter-widgets/base",
      "_view_module_version": "1.2.0",
      "_view_name": "LayoutView",
      "align_content": null,
      "align_items": null,
      "align_self": null,
      "border": null,
      "bottom": null,
      "display": null,
      "flex": null,
      "flex_flow": null,
      "grid_area": null,
      "grid_auto_columns": null,
      "grid_auto_flow": null,
      "grid_auto_rows": null,
      "grid_column": null,
      "grid_gap": null,
      "grid_row": null,
      "grid_template_areas": null,
      "grid_template_columns": null,
      "grid_template_rows": null,
      "height": null,
      "justify_content": null,
      "justify_items": null,
      "left": null,
      "margin": null,
      "max_height": null,
      "max_width": null,
      "min_height": null,
      "min_width": null,
      "object_fit": null,
      "object_position": null,
      "order": null,
      "overflow": null,
      "overflow_x": null,
      "overflow_y": null,
      "padding": null,
      "right": null,
      "top": null,
      "visibility": null,
      "width": null
     }
    },
    "a67f5737e27b4c8895f66df37a70d39e": {
     "model_module": "@jupyter-widgets/controls",
     "model_module_version": "1.5.0",
     "model_name": "DescriptionStyleModel",
     "state": {
      "_model_module": "@jupyter-widgets/controls",
      "_model_module_version": "1.5.0",
      "_model_name": "DescriptionStyleModel",
      "_view_count": null,
      "_view_module": "@jupyter-widgets/base",
      "_view_module_version": "1.2.0",
      "_view_name": "StyleView",
      "description_width": ""
     }
    },
    "ce3b9a7a3563465888ab1ed5512fc319": {
     "model_module": "@jupyter-widgets/controls",
     "model_module_version": "1.5.0",
     "model_name": "HBoxModel",
     "state": {
      "_dom_classes": [],
      "_model_module": "@jupyter-widgets/controls",
      "_model_module_version": "1.5.0",
      "_model_name": "HBoxModel",
      "_view_count": null,
      "_view_module": "@jupyter-widgets/controls",
      "_view_module_version": "1.5.0",
      "_view_name": "HBoxView",
      "box_style": "",
      "children": [
       "IPY_MODEL_e5f513f9bdc649e087431ab8eb6cd109",
       "IPY_MODEL_96c5edfce5d44f62b10fc7612b08715b",
       "IPY_MODEL_fc78874a0e784b089ef446d655cff3bf"
      ],
      "layout": "IPY_MODEL_99be8374780c4c39bac0d4a1a6494b72"
     }
    },
    "e5f513f9bdc649e087431ab8eb6cd109": {
     "model_module": "@jupyter-widgets/controls",
     "model_module_version": "1.5.0",
     "model_name": "HTMLModel",
     "state": {
      "_dom_classes": [],
      "_model_module": "@jupyter-widgets/controls",
      "_model_module_version": "1.5.0",
      "_model_name": "HTMLModel",
      "_view_count": null,
      "_view_module": "@jupyter-widgets/controls",
      "_view_module_version": "1.5.0",
      "_view_name": "HTMLView",
      "description": "",
      "description_tooltip": null,
      "layout": "IPY_MODEL_4a4a1a225c10451fa5fd52c3280d3c9f",
      "placeholder": "​",
      "style": "IPY_MODEL_a67f5737e27b4c8895f66df37a70d39e",
      "value": "  0%"
     }
    },
    "e64652ead2b64f0c90afc6c9c2071122": {
     "model_module": "@jupyter-widgets/controls",
     "model_module_version": "1.5.0",
     "model_name": "DescriptionStyleModel",
     "state": {
      "_model_module": "@jupyter-widgets/controls",
      "_model_module_version": "1.5.0",
      "_model_name": "DescriptionStyleModel",
      "_view_count": null,
      "_view_module": "@jupyter-widgets/base",
      "_view_module_version": "1.2.0",
      "_view_name": "StyleView",
      "description_width": ""
     }
    },
    "fc78874a0e784b089ef446d655cff3bf": {
     "model_module": "@jupyter-widgets/controls",
     "model_module_version": "1.5.0",
     "model_name": "HTMLModel",
     "state": {
      "_dom_classes": [],
      "_model_module": "@jupyter-widgets/controls",
      "_model_module_version": "1.5.0",
      "_model_name": "HTMLModel",
      "_view_count": null,
      "_view_module": "@jupyter-widgets/controls",
      "_view_module_version": "1.5.0",
      "_view_name": "HTMLView",
      "description": "",
      "description_tooltip": null,
      "layout": "IPY_MODEL_15ee70847a3b4abc980d4fe59f93dca3",
      "placeholder": "​",
      "style": "IPY_MODEL_e64652ead2b64f0c90afc6c9c2071122",
      "value": " 0/100 [03:40&lt;?, ?it/s]"
     }
    }
   }
  }
 },
 "nbformat": 4,
 "nbformat_minor": 0
}
