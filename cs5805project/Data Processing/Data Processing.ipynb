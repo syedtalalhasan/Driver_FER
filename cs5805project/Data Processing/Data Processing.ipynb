{
 "cells": [
  {
   "cell_type": "code",
   "execution_count": 2,
   "metadata": {},
   "outputs": [],
   "source": [
    "import numpy as np\n",
    "import pandas as pd\n",
    "import matplotlib.pyplot as plt\n",
    "from glob import glob\n",
    "import torch\n",
    "import tqdm \n",
    "import cv2"
   ]
  },
  {
   "cell_type": "code",
   "execution_count": 3,
   "metadata": {},
   "outputs": [],
   "source": [
    "def create_one_hot_vector(label, mapping, vals):\n",
    "\n",
    "    one_hot = [0] * vals\n",
    "    one_hot[mapping[label]] = 1\n",
    "    return one_hot"
   ]
  },
  {
   "cell_type": "code",
   "execution_count": 10,
   "metadata": {},
   "outputs": [
    {
     "name": "stdout",
     "output_type": "stream",
     "text": [
      "['angry', 'happy', 'normal']\n",
      "{'angry': 0, 'happy': 1, 'normal': 2}\n",
      "[1, 0, 0] [0, 0, 1]\n"
     ]
    }
   ],
   "source": [
    "test_images = []\n",
    "test_labels = []\n",
    "test_label_indices =[]\n",
    "label_types = ['angry', 'happy', 'normal']\n",
    "for j in label_types:\n",
    "    for i in glob(f'sampled_images\\\\*\\\\*.jpg'):\n",
    "\n",
    "        label = i.split('-')[-2]\n",
    "        \n",
    "\n",
    "        img = cv2.cvtColor(cv2.imread(i), cv2.COLOR_BGR2GRAY)/255\n",
    "        # print(img.shape)\n",
    "        img = cv2.resize(img, (256, 256), interpolation = cv2.INTER_LANCZOS4)\n",
    "        test_images.append(img.reshape(256,256,1))\n",
    "        test_labels.append(label)\n",
    "\n",
    "    # Create a vocabulary of unique labels\n",
    "vocab = sorted(set(label_types))\n",
    "print(vocab)\n",
    "label_to_idx = {label: idx for idx, label in enumerate(vocab)}\n",
    "print(label_to_idx)\n",
    "for i in test_labels:\n",
    "    test_label_indices.append(create_one_hot_vector(i, label_to_idx, 3))\n",
    "print(test_label_indices[0],test_label_indices[-1])\n",
    "    "
   ]
  },
  {
   "cell_type": "code",
   "execution_count": 11,
   "metadata": {},
   "outputs": [
    {
     "name": "stdout",
     "output_type": "stream",
     "text": [
      "(1188, 256, 256, 1) (1188, 3)\n"
     ]
    }
   ],
   "source": [
    "test_images = np.array(test_images)\n",
    "test_labels = np.array(test_label_indices)\n",
    "print(test_images.shape, test_labels.shape)\n",
    "np.save('driving_data_test_images.npy', test_images)\n",
    "np.save('driving_data_test_labels.npy', test_labels)"
   ]
  },
  {
   "cell_type": "code",
   "execution_count": 13,
   "metadata": {},
   "outputs": [
    {
     "data": {
      "text/plain": [
       "<matplotlib.image.AxesImage at 0x19698eb0670>"
      ]
     },
     "execution_count": 13,
     "metadata": {},
     "output_type": "execute_result"
    },
    {
     "data": {
      "image/png": "[encoded data removed]",
      "text/plain": [
       "<Figure size 432x288 with 1 Axes>"
      ]
     },
     "metadata": {
      "needs_background": "light"
     },
     "output_type": "display_data"
    }
   ],
   "source": [
    "plt.imshow(test_images[0], cmap='gray')"
   ]
  },
  {
   "cell_type": "code",
   "execution_count": 17,
   "metadata": {},
   "outputs": [
    {
     "name": "stderr",
     "output_type": "stream",
     "text": [
      "100%|██████████| 3995/3995 [00:01<00:00, 2497.47it/s]\n",
      "100%|██████████| 7215/7215 [00:02<00:00, 2584.95it/s]\n",
      "100%|██████████| 4965/4965 [00:02<00:00, 2228.08it/s]"
     ]
    },
    {
     "name": "stdout",
     "output_type": "stream",
     "text": [
      "['angry', 'happy', 'neutral']\n",
      "{'angry': 0, 'happy': 1, 'neutral': 2}\n",
      "[1, 0, 0] [0, 0, 1]\n"
     ]
    },
    {
     "name": "stderr",
     "output_type": "stream",
     "text": [
      "\n"
     ]
    }
   ],
   "source": [
    "train_images = []\n",
    "train_labels = []\n",
    "train_label_indices =[]\n",
    "\n",
    "label_types = ['angry', 'happy', 'neutral']\n",
    "for j in label_types:\n",
    "    for i in tqdm.tqdm(glob(f'archive (1)\\\\train\\\\{j}\\\\*.png')):\n",
    "        label = i.split('\\\\')[-2]\n",
    "        img = cv2.cvtColor(cv2.imread(i), cv2.COLOR_BGR2GRAY)/255\n",
    "        train_images.append(img.reshape(48,48,1))\n",
    "        train_labels.append(label)\n",
    "\n",
    "    # Create a vocabulary of unique labels\n",
    "vocab = sorted(set(train_labels))\n",
    "print(vocab)\n",
    "label_to_idx = {label: idx for idx, label in enumerate(vocab)}\n",
    "print(label_to_idx)\n",
    "for i in train_labels:\n",
    "    train_label_indices.append(create_one_hot_vector(i, label_to_idx, 3))\n",
    "print(train_label_indices[0],train_label_indices[-1])"
   ]
  },
  {
   "cell_type": "code",
   "execution_count": 18,
   "metadata": {},
   "outputs": [
    {
     "name": "stdout",
     "output_type": "stream",
     "text": [
      "(16175, 48, 48, 1) (16175, 3)\n"
     ]
    }
   ],
   "source": [
    "train_images = np.array(train_images)\n",
    "train_labels = np.array(train_label_indices)\n",
    "print(train_images.shape, train_labels.shape)\n",
    "np.save('train_images.npy', train_images)\n",
    "np.save('train_labels.npy', train_labels)"
   ]
  },
  {
   "cell_type": "code",
   "execution_count": 14,
   "metadata": {},
   "outputs": [
    {
     "data": {
      "text/plain": [
       "<matplotlib.image.AxesImage at 0x19698f3d180>"
      ]
     },
     "execution_count": 14,
     "metadata": {},
     "output_type": "execute_result"
    },
    {
     "data": {
      "image/png": "[encoded data removed]",
      "text/plain": [
       "<Figure size 432x288 with 1 Axes>"
      ]
     },
     "metadata": {
      "needs_background": "light"
     },
     "output_type": "display_data"
    }
   ],
   "source": [
    "plt.imshow(train_images[6709], cmap='gray')\n"
   ]
  }
 ],
 "metadata": {
  "kernelspec": {
   "display_name": "base",
   "language": "python",
   "name": "python3"
  },
  "language_info": {
   "codemirror_mode": {
    "name": "ipython",
    "version": 3
   },
   "file_extension": ".py",
   "mimetype": "text/x-python",
   "name": "python",
   "nbconvert_exporter": "python",
   "pygments_lexer": "ipython3",
   "version": "3.12.3"
  }
 },
 "nbformat": 4,
 "nbformat_minor": 2
}
