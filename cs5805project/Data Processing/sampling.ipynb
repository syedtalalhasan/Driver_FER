{
 "cells": [
  {
   "cell_type": "code",
   "execution_count": 23,
   "metadata": {},
   "outputs": [
    {
     "name": "stdout",
     "output_type": "stream",
     "text": [
      "Sampled 100 images from littleBright to driving_test_images\\littleBright.\n",
      "Sampled 100 images from littleDark to driving_test_images\\littleDark.\n",
      "Sampled 100 images from Normal to driving_test_images\\Normal.\n",
      "Sampled 100 images from veryBright to driving_test_images\\veryBright.\n"
     ]
    }
   ],
   "source": [
    "import os\n",
    "import glob\n",
    "import random\n",
    "import shutil\n",
    "\n",
    "# Define the source folders and the destination folder\n",
    "source_folders = [\"littleBright\", \"littleDark\", \"Normal\", \"veryBright\"]  # Update with your folder paths\n",
    "destination_root = \"driving_test_images\"  # The root folder to store sampled images\n",
    "\n",
    "# Create the destination root folder if it doesn't exist\n",
    "os.makedirs(destination_root, exist_ok=True)\n",
    "\n",
    "# Loop through each folder\n",
    "for folder in source_folders:\n",
    "    # Get all image paths in the folder (supports common image formats)\n",
    "    image_paths = glob.glob(os.path.join(folder, \"*.*\"))\n",
    "    \n",
    "    \n",
    "    # Randomly sample 600 images\n",
    "    sampled_images = random.sample(image_paths, 250)\n",
    "    \n",
    "    # Create a destination folder for the current source folder\n",
    "    folder_name = os.path.basename(folder)  # Use the folder name\n",
    "    destination_folder = os.path.join(destination_root, folder_name)\n",
    "    os.makedirs(destination_folder, exist_ok=True)\n",
    "    \n",
    "    # Copy the sampled images to the destination folder\n",
    "    total= 0\n",
    "    happy_dict = {'normal':0 , 'happy':0, 'angry':0}\n",
    "    \n",
    "    for img in sampled_images:\n",
    "        emot = img.split('-')[-2]\n",
    "        if happy_dict[emot]< 84:\n",
    "            happy_dict[emot]+=1\n",
    "            total+=1\n",
    "            shutil.copy(img, destination_folder)\n",
    "\n",
    "        if total == 250:\n",
    "            break\n",
    "    \n",
    "    print(f\"Sampled 100 images from {folder} to {destination_folder}.\")"
   ]
  },
  {
   "cell_type": "code",
   "execution_count": 25,
   "metadata": {},
   "outputs": [
    {
     "name": "stdout",
     "output_type": "stream",
     "text": [
      "{'normal': 84, 'happy': 77, 'angry': 66}\n",
      "{'normal': 84, 'happy': 84, 'angry': 67}\n",
      "{'normal': 84, 'happy': 83, 'angry': 69}\n",
      "{'normal': 84, 'happy': 83, 'angry': 73}\n"
     ]
    }
   ],
   "source": [
    "for folder in source_folders:\n",
    "    count =  {'normal':0 , 'happy':0, 'angry':0}\n",
    "    for img in glob.glob(f'driving_test_images\\\\{folder}\\\\*.jpg'):\n",
    "        emot = img.split('-')[-2]\n",
    "        count[emot]+=1\n",
    "    print(count)\n"
   ]
  },
  {
   "cell_type": "markdown",
   "metadata": {},
   "source": [
    "## Fine Tuning Dataset"
   ]
  },
  {
   "cell_type": "code",
   "execution_count": 27,
   "metadata": {},
   "outputs": [
    {
     "name": "stdout",
     "output_type": "stream",
     "text": [
      "Sampled 750 new images from littleBright to driving_train\\littleBright.\n",
      "Sampled 750 new images from littleDark to driving_train\\littleDark.\n",
      "Sampled 750 new images from Normal to driving_train\\Normal.\n",
      "Sampled 750 new images from veryBright to driving_train\\veryBright.\n"
     ]
    }
   ],
   "source": [
    "import os\n",
    "import glob\n",
    "import random\n",
    "import shutil\n",
    "\n",
    "# Define the source folders and the destination folder\n",
    "source_folders = [\"littleBright\", \"littleDark\", \"Normal\", \"veryBright\"]  # Update with your folder paths\n",
    "destination_root = \"driving_test_images\"  # The root folder to store sampled images\n",
    "fine_tune_root = \"driving_train\"\n",
    "\n",
    "# Create the destination root folder if it doesn't exist\n",
    "# os.makedirs(destination_root, exist_ok=True)\n",
    "os.makedirs(fine_tune_root, exist_ok=True)\n",
    "\n",
    "\n",
    "# Loop through each folder\n",
    "for folder in source_folders:\n",
    "    # Get all image paths in the source folder (supports common image formats)\n",
    "    image_paths = glob.glob(os.path.join(folder, \"*.*\"))\n",
    "    \n",
    "    # Create a destination folder for the current source folder\n",
    "    folder_name = os.path.basename(folder)  # Use the folder name\n",
    "    destination_folder = os.path.join(destination_root, folder_name)\n",
    "    fine_tune_folder = os.path.join(fine_tune_root, folder_name)\n",
    "\n",
    "    os.makedirs(fine_tune_folder, exist_ok=True)\n",
    "    \n",
    "    # Get filenames already in the destination folder\n",
    "    existing_files = set(os.listdir(destination_folder))\n",
    "    \n",
    "    # Filter out images that are already in the destination folder\n",
    "    new_images = [\n",
    "        img for img in image_paths \n",
    "        if os.path.basename(img) not in existing_files\n",
    "    ]\n",
    "    \n",
    "    # if len(new_images) < 100:\n",
    "    #     print(f\"Not enough new images in {folder}. Skipping...\")\n",
    "    #     continue\n",
    "    \n",
    "    # Randomly sample up to 300 new images\n",
    "    # sampled_images = random.sample(new_images, 750)\n",
    "    \n",
    "    # Initialize counters for emotion and total images\n",
    "    total = 0\n",
    "    emot_dict = {'normal': 0, 'happy': 0, 'angry': 0}\n",
    "    \n",
    "    # Copy sampled images to the destination folder\n",
    "    for img in new_images:\n",
    "        emot = img.split('-')[-2]  # Extract the emotion tag from the filename\n",
    "        shutil.copy(img, fine_tune_folder)\n",
    "\n",
    "        # if emot_dict.get(emot, 0) < 250:\n",
    "        #     emot_dict[emot] += 1\n",
    "        #     total += 1\n",
    "        #     shutil.copy(img, fine_tune_folder)\n",
    "\n",
    "        # # Stop if 100 images are successfully copied\n",
    "        # if total == 750:\n",
    "        #     break\n",
    "    \n",
    "    print(f\"Sampled 750 new images from {folder} to {fine_tune_folder}.\")\n"
   ]
  },
  {
   "cell_type": "code",
   "execution_count": 28,
   "metadata": {},
   "outputs": [
    {
     "name": "stdout",
     "output_type": "stream",
     "text": [
      "{'normal': 312, 'happy': 233, 'angry': 203}\n",
      "{'normal': 232, 'happy': 272, 'angry': 194}\n",
      "{'normal': 552, 'happy': 447, 'angry': 333}\n",
      "{'normal': 313, 'happy': 233, 'angry': 187}\n"
     ]
    }
   ],
   "source": [
    "for folder in source_folders:\n",
    "    count =  {'normal':0 , 'happy':0, 'angry':0}\n",
    "    for img in glob.glob(f'driving_train\\\\{folder}\\\\*.jpg'):\n",
    "        emot = img.split('-')[-2]\n",
    "        count[emot]+=1\n",
    "    print(count)\n"
   ]
  },
  {
   "cell_type": "code",
   "execution_count": null,
   "metadata": {},
   "outputs": [],
   "source": []
  }
 ],
 "metadata": {
  "kernelspec": {
   "display_name": "base",
   "language": "python",
   "name": "python3"
  },
  "language_info": {
   "codemirror_mode": {
    "name": "ipython",
    "version": 3
   },
   "file_extension": ".py",
   "mimetype": "text/x-python",
   "name": "python",
   "nbconvert_exporter": "python",
   "pygments_lexer": "ipython3",
   "version": "3.12.3"
  }
 },
 "nbformat": 4,
 "nbformat_minor": 2
}
