{
 "cells": [
  {
   "cell_type": "markdown",
   "metadata": {
    "id": "1iZrlAfSp9Xw"
   },
   "source": [
    "# [EfficientNet-PyTorch](https://github.com/lukemelas/EfficientNet-PyTorch)"
   ]
  },
  {
   "cell_type": "code",
   "execution_count": 41,
   "metadata": {
    "colab": {
     "base_uri": "https://localhost:8080/"
    },
    "id": "cTRz63DXXxDU",
    "outputId": "b59efe9f-c16b-4d74-88f5-a9b3ecff1abf"
   },
   "outputs": [],
   "source": [
    "# !pip install efficientnet_pytorch"
   ]
  },
  {
   "cell_type": "markdown",
   "metadata": {
    "id": "jR6SA_22tqVw"
   },
   "source": [
    "### Classes = angry[0] , Happy[1], Neutral[2]\n"
   ]
  },
  {
   "cell_type": "code",
   "execution_count": 21,
   "metadata": {
    "id": "TYMUcQ_mTnGC"
   },
   "outputs": [],
   "source": [
    "import glob\n",
    "import os\n",
    "import cv2\n",
    "import numpy as np\n",
    "import torch\n",
    "import torch.nn as nn\n",
    "from torch.utils.data import Dataset, DataLoader , random_split\n",
    "from torchsummary import summary\n",
    "import matplotlib.pyplot as plt\n",
    "from random import randint\n",
    "from tqdm import tqdm\n",
    "from tqdm.notebook import trange, tqdm\n",
    "import tensorflow as tf\n",
    "import keras\n",
    "import torch.nn.functional as F\n",
    "from efficientnet_pytorch import EfficientNet\n",
    "import torch.optim as optim\n",
    "from sklearn.metrics import classification_report, confusion_matrix\n",
    "import seaborn as sns\n",
    "from sklearn.metrics import f1_score, accuracy_score\n"
   ]
  },
  {
   "cell_type": "code",
   "execution_count": null,
   "metadata": {
    "id": "qjudcIKfUJAv"
   },
   "outputs": [],
   "source": [
    "class FerTrain(Dataset):\n",
    "    def __init__(self): # add additional parameters needed to load the dataset e.g dataset path\n",
    "        self.train_images  = np.load('train_images.npy')\n",
    "        self.train_labels = np.load('train_labels.npy')\n",
    "        len(self.train_images)\n",
    "\n",
    "    def __len__(self):\n",
    "        return len(self.train_images)\n",
    "\n",
    "    def __getitem__(self, idx):\n",
    "        img = self.train_images[idx,:]\n",
    "        img = cv2.resize(img, (256, 256), interpolation = cv2.INTER_LINEAR)\n",
    "        img= img.reshape(256,256,1)\n",
    "        img=img.astype(np.float32)\n",
    "        img=img.T\n",
    "        img_tensor = torch.from_numpy(img)\n",
    "        label= torch.from_numpy(self.train_labels[idx]).to(torch.float32)\n",
    "\n",
    "        return img_tensor, label"
   ]
  },
  {
   "cell_type": "code",
   "execution_count": 3,
   "metadata": {
    "id": "uol6cSQwE8ZW"
   },
   "outputs": [],
   "source": [
    "class FerTest(Dataset):\n",
    "  def __init__(self): # add additional parameters needed to load the dataset e.g dataset path\n",
    "        self.test_images  = np.load('test_images.npy')\n",
    "        self.test_labels = np.load('test_labels.npy')\n",
    "\n",
    "  def __len__(self):\n",
    "        return self.test_images.shape[0]\n",
    "\n",
    "  def __getitem__(self, idx):\n",
    "      # your code here\n",
    "      img = self.test_images[idx]\n",
    "      img = cv2.resize(img, (256, 256), interpolation = cv2.INTER_LANCZOS4)\n",
    "      img= img.reshape(256,256,1)\n",
    "      img=img.astype(np.float32)\n",
    "      img=img.T\n",
    "      img_tensor = torch.from_numpy(img)\n",
    "\n",
    "      label= torch.from_numpy(self.test_labels[idx]).to(torch.float32)\n",
    "\n",
    "      return img_tensor, label"
   ]
  },
  {
   "cell_type": "code",
   "execution_count": 4,
   "metadata": {},
   "outputs": [],
   "source": [
    "class FerDrivingTest(Dataset):\n",
    "  def __init__(self): # add additional parameters needed to load the dataset e.g dataset path\n",
    "        self.test_images  = np.load('driving_data_test_images.npy')\n",
    "        self.test_labels = np.load('driving_data_test_labels.npy')\n",
    "        print(self.test_images.shape)\n",
    "\n",
    "  def __len__(self):\n",
    "        return self.test_images.shape[0]\n",
    "\n",
    "  def __getitem__(self, idx):\n",
    "      # your code here\n",
    "      img = self.test_images[idx]\n",
    "    #   img = cv2.resize(img, (256, 256), interpolation = cv2.INTER_LANCZOS4)\n",
    "    #   img= img.reshape(256,256,1)\n",
    "      img=img.astype(np.float32)\n",
    "      img=img.T\n",
    "      img_tensor = torch.from_numpy(img)\n",
    "\n",
    "      label= torch.from_numpy(self.test_labels[idx]).to(torch.float32)\n",
    "\n",
    "      return img_tensor, label"
   ]
  },
  {
   "cell_type": "code",
   "execution_count": 66,
   "metadata": {
    "colab": {
     "base_uri": "https://localhost:8080/"
    },
    "id": "vrfXgQgaKq1u",
    "outputId": "76c7694f-5b75-4ce9-adf7-61c7c0202df9"
   },
   "outputs": [
    {
     "name": "stdout",
     "output_type": "stream",
     "text": [
      "(938, 256, 256, 1)\n"
     ]
    },
    {
     "data": {
      "text/plain": [
       "(tensor([[[0.1184, 0.2074, 0.3012,  ..., 0.2082, 0.2264, 0.2138],\n",
       "          [0.0892, 0.0779, 0.0938,  ..., 0.2463, 0.2246, 0.2585],\n",
       "          [0.3842, 0.2506, 0.1719,  ..., 0.2280, 0.2291, 0.2356],\n",
       "          ...,\n",
       "          [0.2645, 0.2651, 0.2621,  ..., 0.1793, 0.1739, 0.1710],\n",
       "          [0.2410, 0.2379, 0.2311,  ..., 0.1608, 0.1615, 0.1735],\n",
       "          [0.2156, 0.2139, 0.2070,  ..., 0.1363, 0.1527, 0.1736]]]),\n",
       " tensor([0., 0., 1.]))"
      ]
     },
     "execution_count": 66,
     "metadata": {},
     "output_type": "execute_result"
    }
   ],
   "source": [
    "fer = FerDrivingTest()\n",
    "fer.__getitem__(100)"
   ]
  },
  {
   "cell_type": "markdown",
   "metadata": {
    "id": "nxrTe0PEXxDV"
   },
   "source": [
    "# EfficientNet"
   ]
  },
  {
   "cell_type": "code",
   "execution_count": 4,
   "metadata": {
    "colab": {
     "base_uri": "https://localhost:8080/"
    },
    "id": "5yUT9vsSXxDW",
    "outputId": "fd81e2cf-37f4-4b0c-b767-b2ad1abbce79"
   },
   "outputs": [
    {
     "name": "stdout",
     "output_type": "stream",
     "text": [
      "Loaded pretrained weights for efficientnet-b0\n",
      "----------------------------------------------------------------\n",
      "        Layer (type)               Output Shape         Param #\n",
      "================================================================\n",
      "            Conv2d-1         [-1, 32, 127, 127]             288\n",
      "       BatchNorm2d-2         [-1, 32, 127, 127]              64\n",
      "MemoryEfficientSwish-3         [-1, 32, 127, 127]               0\n",
      "         ZeroPad2d-4         [-1, 32, 129, 129]               0\n",
      "Conv2dStaticSamePadding-5         [-1, 32, 127, 127]             288\n",
      "       BatchNorm2d-6         [-1, 32, 127, 127]              64\n",
      "MemoryEfficientSwish-7         [-1, 32, 127, 127]               0\n",
      "          Identity-8             [-1, 32, 1, 1]               0\n",
      "Conv2dStaticSamePadding-9              [-1, 8, 1, 1]             264\n",
      "MemoryEfficientSwish-10              [-1, 8, 1, 1]               0\n",
      "         Identity-11              [-1, 8, 1, 1]               0\n",
      "Conv2dStaticSamePadding-12             [-1, 32, 1, 1]             288\n",
      "         Identity-13         [-1, 32, 127, 127]               0\n",
      "Conv2dStaticSamePadding-14         [-1, 16, 127, 127]             512\n",
      "      BatchNorm2d-15         [-1, 16, 127, 127]              32\n",
      "      MBConvBlock-16         [-1, 16, 127, 127]               0\n",
      "         Identity-17         [-1, 16, 127, 127]               0\n",
      "Conv2dStaticSamePadding-18         [-1, 96, 127, 127]           1,536\n",
      "      BatchNorm2d-19         [-1, 96, 127, 127]             192\n",
      "MemoryEfficientSwish-20         [-1, 96, 127, 127]               0\n",
      "        ZeroPad2d-21         [-1, 96, 128, 128]               0\n",
      "Conv2dStaticSamePadding-22           [-1, 96, 63, 63]             864\n",
      "      BatchNorm2d-23           [-1, 96, 63, 63]             192\n",
      "MemoryEfficientSwish-24           [-1, 96, 63, 63]               0\n",
      "         Identity-25             [-1, 96, 1, 1]               0\n",
      "Conv2dStaticSamePadding-26              [-1, 4, 1, 1]             388\n",
      "MemoryEfficientSwish-27              [-1, 4, 1, 1]               0\n",
      "         Identity-28              [-1, 4, 1, 1]               0\n",
      "Conv2dStaticSamePadding-29             [-1, 96, 1, 1]             480\n",
      "         Identity-30           [-1, 96, 63, 63]               0\n",
      "Conv2dStaticSamePadding-31           [-1, 24, 63, 63]           2,304\n",
      "      BatchNorm2d-32           [-1, 24, 63, 63]              48\n",
      "      MBConvBlock-33           [-1, 24, 63, 63]               0\n",
      "         Identity-34           [-1, 24, 63, 63]               0\n",
      "Conv2dStaticSamePadding-35          [-1, 144, 63, 63]           3,456\n",
      "      BatchNorm2d-36          [-1, 144, 63, 63]             288\n",
      "MemoryEfficientSwish-37          [-1, 144, 63, 63]               0\n",
      "        ZeroPad2d-38          [-1, 144, 65, 65]               0\n",
      "Conv2dStaticSamePadding-39          [-1, 144, 63, 63]           1,296\n",
      "      BatchNorm2d-40          [-1, 144, 63, 63]             288\n",
      "MemoryEfficientSwish-41          [-1, 144, 63, 63]               0\n",
      "         Identity-42            [-1, 144, 1, 1]               0\n",
      "Conv2dStaticSamePadding-43              [-1, 6, 1, 1]             870\n",
      "MemoryEfficientSwish-44              [-1, 6, 1, 1]               0\n",
      "         Identity-45              [-1, 6, 1, 1]               0\n",
      "Conv2dStaticSamePadding-46            [-1, 144, 1, 1]           1,008\n",
      "         Identity-47          [-1, 144, 63, 63]               0\n",
      "Conv2dStaticSamePadding-48           [-1, 24, 63, 63]           3,456\n",
      "      BatchNorm2d-49           [-1, 24, 63, 63]              48\n",
      "      MBConvBlock-50           [-1, 24, 63, 63]               0\n",
      "         Identity-51           [-1, 24, 63, 63]               0\n",
      "Conv2dStaticSamePadding-52          [-1, 144, 63, 63]           3,456\n",
      "      BatchNorm2d-53          [-1, 144, 63, 63]             288\n",
      "MemoryEfficientSwish-54          [-1, 144, 63, 63]               0\n",
      "        ZeroPad2d-55          [-1, 144, 66, 66]               0\n",
      "Conv2dStaticSamePadding-56          [-1, 144, 31, 31]           3,600\n",
      "      BatchNorm2d-57          [-1, 144, 31, 31]             288\n",
      "MemoryEfficientSwish-58          [-1, 144, 31, 31]               0\n",
      "         Identity-59            [-1, 144, 1, 1]               0\n",
      "Conv2dStaticSamePadding-60              [-1, 6, 1, 1]             870\n",
      "MemoryEfficientSwish-61              [-1, 6, 1, 1]               0\n",
      "         Identity-62              [-1, 6, 1, 1]               0\n",
      "Conv2dStaticSamePadding-63            [-1, 144, 1, 1]           1,008\n",
      "         Identity-64          [-1, 144, 31, 31]               0\n",
      "Conv2dStaticSamePadding-65           [-1, 40, 31, 31]           5,760\n",
      "      BatchNorm2d-66           [-1, 40, 31, 31]              80\n",
      "      MBConvBlock-67           [-1, 40, 31, 31]               0\n",
      "         Identity-68           [-1, 40, 31, 31]               0\n",
      "Conv2dStaticSamePadding-69          [-1, 240, 31, 31]           9,600\n",
      "      BatchNorm2d-70          [-1, 240, 31, 31]             480\n",
      "MemoryEfficientSwish-71          [-1, 240, 31, 31]               0\n",
      "        ZeroPad2d-72          [-1, 240, 35, 35]               0\n",
      "Conv2dStaticSamePadding-73          [-1, 240, 31, 31]           6,000\n",
      "      BatchNorm2d-74          [-1, 240, 31, 31]             480\n",
      "MemoryEfficientSwish-75          [-1, 240, 31, 31]               0\n",
      "         Identity-76            [-1, 240, 1, 1]               0\n",
      "Conv2dStaticSamePadding-77             [-1, 10, 1, 1]           2,410\n",
      "MemoryEfficientSwish-78             [-1, 10, 1, 1]               0\n",
      "         Identity-79             [-1, 10, 1, 1]               0\n",
      "Conv2dStaticSamePadding-80            [-1, 240, 1, 1]           2,640\n",
      "         Identity-81          [-1, 240, 31, 31]               0\n",
      "Conv2dStaticSamePadding-82           [-1, 40, 31, 31]           9,600\n",
      "      BatchNorm2d-83           [-1, 40, 31, 31]              80\n",
      "      MBConvBlock-84           [-1, 40, 31, 31]               0\n",
      "         Identity-85           [-1, 40, 31, 31]               0\n",
      "Conv2dStaticSamePadding-86          [-1, 240, 31, 31]           9,600\n",
      "      BatchNorm2d-87          [-1, 240, 31, 31]             480\n",
      "MemoryEfficientSwish-88          [-1, 240, 31, 31]               0\n",
      "        ZeroPad2d-89          [-1, 240, 32, 32]               0\n",
      "Conv2dStaticSamePadding-90          [-1, 240, 15, 15]           2,160\n",
      "      BatchNorm2d-91          [-1, 240, 15, 15]             480\n",
      "MemoryEfficientSwish-92          [-1, 240, 15, 15]               0\n",
      "         Identity-93            [-1, 240, 1, 1]               0\n",
      "Conv2dStaticSamePadding-94             [-1, 10, 1, 1]           2,410\n",
      "MemoryEfficientSwish-95             [-1, 10, 1, 1]               0\n",
      "         Identity-96             [-1, 10, 1, 1]               0\n",
      "Conv2dStaticSamePadding-97            [-1, 240, 1, 1]           2,640\n",
      "         Identity-98          [-1, 240, 15, 15]               0\n",
      "Conv2dStaticSamePadding-99           [-1, 80, 15, 15]          19,200\n",
      "     BatchNorm2d-100           [-1, 80, 15, 15]             160\n",
      "     MBConvBlock-101           [-1, 80, 15, 15]               0\n",
      "        Identity-102           [-1, 80, 15, 15]               0\n",
      "Conv2dStaticSamePadding-103          [-1, 480, 15, 15]          38,400\n",
      "     BatchNorm2d-104          [-1, 480, 15, 15]             960\n",
      "MemoryEfficientSwish-105          [-1, 480, 15, 15]               0\n",
      "       ZeroPad2d-106          [-1, 480, 17, 17]               0\n",
      "Conv2dStaticSamePadding-107          [-1, 480, 15, 15]           4,320\n",
      "     BatchNorm2d-108          [-1, 480, 15, 15]             960\n",
      "MemoryEfficientSwish-109          [-1, 480, 15, 15]               0\n",
      "        Identity-110            [-1, 480, 1, 1]               0\n",
      "Conv2dStaticSamePadding-111             [-1, 20, 1, 1]           9,620\n",
      "MemoryEfficientSwish-112             [-1, 20, 1, 1]               0\n",
      "        Identity-113             [-1, 20, 1, 1]               0\n",
      "Conv2dStaticSamePadding-114            [-1, 480, 1, 1]          10,080\n",
      "        Identity-115          [-1, 480, 15, 15]               0\n",
      "Conv2dStaticSamePadding-116           [-1, 80, 15, 15]          38,400\n",
      "     BatchNorm2d-117           [-1, 80, 15, 15]             160\n",
      "     MBConvBlock-118           [-1, 80, 15, 15]               0\n",
      "        Identity-119           [-1, 80, 15, 15]               0\n",
      "Conv2dStaticSamePadding-120          [-1, 480, 15, 15]          38,400\n",
      "     BatchNorm2d-121          [-1, 480, 15, 15]             960\n",
      "MemoryEfficientSwish-122          [-1, 480, 15, 15]               0\n",
      "       ZeroPad2d-123          [-1, 480, 17, 17]               0\n",
      "Conv2dStaticSamePadding-124          [-1, 480, 15, 15]           4,320\n",
      "     BatchNorm2d-125          [-1, 480, 15, 15]             960\n",
      "MemoryEfficientSwish-126          [-1, 480, 15, 15]               0\n",
      "        Identity-127            [-1, 480, 1, 1]               0\n",
      "Conv2dStaticSamePadding-128             [-1, 20, 1, 1]           9,620\n",
      "MemoryEfficientSwish-129             [-1, 20, 1, 1]               0\n",
      "        Identity-130             [-1, 20, 1, 1]               0\n",
      "Conv2dStaticSamePadding-131            [-1, 480, 1, 1]          10,080\n",
      "        Identity-132          [-1, 480, 15, 15]               0\n",
      "Conv2dStaticSamePadding-133           [-1, 80, 15, 15]          38,400\n",
      "     BatchNorm2d-134           [-1, 80, 15, 15]             160\n",
      "     MBConvBlock-135           [-1, 80, 15, 15]               0\n",
      "        Identity-136           [-1, 80, 15, 15]               0\n",
      "Conv2dStaticSamePadding-137          [-1, 480, 15, 15]          38,400\n",
      "     BatchNorm2d-138          [-1, 480, 15, 15]             960\n",
      "MemoryEfficientSwish-139          [-1, 480, 15, 15]               0\n",
      "       ZeroPad2d-140          [-1, 480, 19, 19]               0\n",
      "Conv2dStaticSamePadding-141          [-1, 480, 15, 15]          12,000\n",
      "     BatchNorm2d-142          [-1, 480, 15, 15]             960\n",
      "MemoryEfficientSwish-143          [-1, 480, 15, 15]               0\n",
      "        Identity-144            [-1, 480, 1, 1]               0\n",
      "Conv2dStaticSamePadding-145             [-1, 20, 1, 1]           9,620\n",
      "MemoryEfficientSwish-146             [-1, 20, 1, 1]               0\n",
      "        Identity-147             [-1, 20, 1, 1]               0\n",
      "Conv2dStaticSamePadding-148            [-1, 480, 1, 1]          10,080\n",
      "        Identity-149          [-1, 480, 15, 15]               0\n",
      "Conv2dStaticSamePadding-150          [-1, 112, 15, 15]          53,760\n",
      "     BatchNorm2d-151          [-1, 112, 15, 15]             224\n",
      "     MBConvBlock-152          [-1, 112, 15, 15]               0\n",
      "        Identity-153          [-1, 112, 15, 15]               0\n",
      "Conv2dStaticSamePadding-154          [-1, 672, 15, 15]          75,264\n",
      "     BatchNorm2d-155          [-1, 672, 15, 15]           1,344\n",
      "MemoryEfficientSwish-156          [-1, 672, 15, 15]               0\n",
      "       ZeroPad2d-157          [-1, 672, 19, 19]               0\n",
      "Conv2dStaticSamePadding-158          [-1, 672, 15, 15]          16,800\n",
      "     BatchNorm2d-159          [-1, 672, 15, 15]           1,344\n",
      "MemoryEfficientSwish-160          [-1, 672, 15, 15]               0\n",
      "        Identity-161            [-1, 672, 1, 1]               0\n",
      "Conv2dStaticSamePadding-162             [-1, 28, 1, 1]          18,844\n",
      "MemoryEfficientSwish-163             [-1, 28, 1, 1]               0\n",
      "        Identity-164             [-1, 28, 1, 1]               0\n",
      "Conv2dStaticSamePadding-165            [-1, 672, 1, 1]          19,488\n",
      "        Identity-166          [-1, 672, 15, 15]               0\n",
      "Conv2dStaticSamePadding-167          [-1, 112, 15, 15]          75,264\n",
      "     BatchNorm2d-168          [-1, 112, 15, 15]             224\n",
      "     MBConvBlock-169          [-1, 112, 15, 15]               0\n",
      "        Identity-170          [-1, 112, 15, 15]               0\n",
      "Conv2dStaticSamePadding-171          [-1, 672, 15, 15]          75,264\n",
      "     BatchNorm2d-172          [-1, 672, 15, 15]           1,344\n",
      "MemoryEfficientSwish-173          [-1, 672, 15, 15]               0\n",
      "       ZeroPad2d-174          [-1, 672, 19, 19]               0\n",
      "Conv2dStaticSamePadding-175          [-1, 672, 15, 15]          16,800\n",
      "     BatchNorm2d-176          [-1, 672, 15, 15]           1,344\n",
      "MemoryEfficientSwish-177          [-1, 672, 15, 15]               0\n",
      "        Identity-178            [-1, 672, 1, 1]               0\n",
      "Conv2dStaticSamePadding-179             [-1, 28, 1, 1]          18,844\n",
      "MemoryEfficientSwish-180             [-1, 28, 1, 1]               0\n",
      "        Identity-181             [-1, 28, 1, 1]               0\n",
      "Conv2dStaticSamePadding-182            [-1, 672, 1, 1]          19,488\n",
      "        Identity-183          [-1, 672, 15, 15]               0\n",
      "Conv2dStaticSamePadding-184          [-1, 112, 15, 15]          75,264\n",
      "     BatchNorm2d-185          [-1, 112, 15, 15]             224\n",
      "     MBConvBlock-186          [-1, 112, 15, 15]               0\n",
      "        Identity-187          [-1, 112, 15, 15]               0\n",
      "Conv2dStaticSamePadding-188          [-1, 672, 15, 15]          75,264\n",
      "     BatchNorm2d-189          [-1, 672, 15, 15]           1,344\n",
      "MemoryEfficientSwish-190          [-1, 672, 15, 15]               0\n",
      "       ZeroPad2d-191          [-1, 672, 18, 18]               0\n",
      "Conv2dStaticSamePadding-192            [-1, 672, 7, 7]          16,800\n",
      "     BatchNorm2d-193            [-1, 672, 7, 7]           1,344\n",
      "MemoryEfficientSwish-194            [-1, 672, 7, 7]               0\n",
      "        Identity-195            [-1, 672, 1, 1]               0\n",
      "Conv2dStaticSamePadding-196             [-1, 28, 1, 1]          18,844\n",
      "MemoryEfficientSwish-197             [-1, 28, 1, 1]               0\n",
      "        Identity-198             [-1, 28, 1, 1]               0\n",
      "Conv2dStaticSamePadding-199            [-1, 672, 1, 1]          19,488\n",
      "        Identity-200            [-1, 672, 7, 7]               0\n",
      "Conv2dStaticSamePadding-201            [-1, 192, 7, 7]         129,024\n",
      "     BatchNorm2d-202            [-1, 192, 7, 7]             384\n",
      "     MBConvBlock-203            [-1, 192, 7, 7]               0\n",
      "        Identity-204            [-1, 192, 7, 7]               0\n",
      "Conv2dStaticSamePadding-205           [-1, 1152, 7, 7]         221,184\n",
      "     BatchNorm2d-206           [-1, 1152, 7, 7]           2,304\n",
      "MemoryEfficientSwish-207           [-1, 1152, 7, 7]               0\n",
      "       ZeroPad2d-208         [-1, 1152, 11, 11]               0\n",
      "Conv2dStaticSamePadding-209           [-1, 1152, 7, 7]          28,800\n",
      "     BatchNorm2d-210           [-1, 1152, 7, 7]           2,304\n",
      "MemoryEfficientSwish-211           [-1, 1152, 7, 7]               0\n",
      "        Identity-212           [-1, 1152, 1, 1]               0\n",
      "Conv2dStaticSamePadding-213             [-1, 48, 1, 1]          55,344\n",
      "MemoryEfficientSwish-214             [-1, 48, 1, 1]               0\n",
      "        Identity-215             [-1, 48, 1, 1]               0\n",
      "Conv2dStaticSamePadding-216           [-1, 1152, 1, 1]          56,448\n",
      "        Identity-217           [-1, 1152, 7, 7]               0\n",
      "Conv2dStaticSamePadding-218            [-1, 192, 7, 7]         221,184\n",
      "     BatchNorm2d-219            [-1, 192, 7, 7]             384\n",
      "     MBConvBlock-220            [-1, 192, 7, 7]               0\n",
      "        Identity-221            [-1, 192, 7, 7]               0\n",
      "Conv2dStaticSamePadding-222           [-1, 1152, 7, 7]         221,184\n",
      "     BatchNorm2d-223           [-1, 1152, 7, 7]           2,304\n",
      "MemoryEfficientSwish-224           [-1, 1152, 7, 7]               0\n",
      "       ZeroPad2d-225         [-1, 1152, 11, 11]               0\n",
      "Conv2dStaticSamePadding-226           [-1, 1152, 7, 7]          28,800\n",
      "     BatchNorm2d-227           [-1, 1152, 7, 7]           2,304\n",
      "MemoryEfficientSwish-228           [-1, 1152, 7, 7]               0\n",
      "        Identity-229           [-1, 1152, 1, 1]               0\n",
      "Conv2dStaticSamePadding-230             [-1, 48, 1, 1]          55,344\n",
      "MemoryEfficientSwish-231             [-1, 48, 1, 1]               0\n",
      "        Identity-232             [-1, 48, 1, 1]               0\n",
      "Conv2dStaticSamePadding-233           [-1, 1152, 1, 1]          56,448\n",
      "        Identity-234           [-1, 1152, 7, 7]               0\n",
      "Conv2dStaticSamePadding-235            [-1, 192, 7, 7]         221,184\n",
      "     BatchNorm2d-236            [-1, 192, 7, 7]             384\n",
      "     MBConvBlock-237            [-1, 192, 7, 7]               0\n",
      "        Identity-238            [-1, 192, 7, 7]               0\n",
      "Conv2dStaticSamePadding-239           [-1, 1152, 7, 7]         221,184\n",
      "     BatchNorm2d-240           [-1, 1152, 7, 7]           2,304\n",
      "MemoryEfficientSwish-241           [-1, 1152, 7, 7]               0\n",
      "       ZeroPad2d-242         [-1, 1152, 11, 11]               0\n",
      "Conv2dStaticSamePadding-243           [-1, 1152, 7, 7]          28,800\n",
      "     BatchNorm2d-244           [-1, 1152, 7, 7]           2,304\n",
      "MemoryEfficientSwish-245           [-1, 1152, 7, 7]               0\n",
      "        Identity-246           [-1, 1152, 1, 1]               0\n",
      "Conv2dStaticSamePadding-247             [-1, 48, 1, 1]          55,344\n",
      "MemoryEfficientSwish-248             [-1, 48, 1, 1]               0\n",
      "        Identity-249             [-1, 48, 1, 1]               0\n",
      "Conv2dStaticSamePadding-250           [-1, 1152, 1, 1]          56,448\n",
      "        Identity-251           [-1, 1152, 7, 7]               0\n",
      "Conv2dStaticSamePadding-252            [-1, 192, 7, 7]         221,184\n",
      "     BatchNorm2d-253            [-1, 192, 7, 7]             384\n",
      "     MBConvBlock-254            [-1, 192, 7, 7]               0\n",
      "        Identity-255            [-1, 192, 7, 7]               0\n",
      "Conv2dStaticSamePadding-256           [-1, 1152, 7, 7]         221,184\n",
      "     BatchNorm2d-257           [-1, 1152, 7, 7]           2,304\n",
      "MemoryEfficientSwish-258           [-1, 1152, 7, 7]               0\n",
      "       ZeroPad2d-259           [-1, 1152, 9, 9]               0\n",
      "Conv2dStaticSamePadding-260           [-1, 1152, 7, 7]          10,368\n",
      "     BatchNorm2d-261           [-1, 1152, 7, 7]           2,304\n",
      "MemoryEfficientSwish-262           [-1, 1152, 7, 7]               0\n",
      "        Identity-263           [-1, 1152, 1, 1]               0\n",
      "Conv2dStaticSamePadding-264             [-1, 48, 1, 1]          55,344\n",
      "MemoryEfficientSwish-265             [-1, 48, 1, 1]               0\n",
      "        Identity-266             [-1, 48, 1, 1]               0\n",
      "Conv2dStaticSamePadding-267           [-1, 1152, 1, 1]          56,448\n",
      "        Identity-268           [-1, 1152, 7, 7]               0\n",
      "Conv2dStaticSamePadding-269            [-1, 320, 7, 7]         368,640\n",
      "     BatchNorm2d-270            [-1, 320, 7, 7]             640\n",
      "     MBConvBlock-271            [-1, 320, 7, 7]               0\n",
      "        Identity-272            [-1, 320, 7, 7]               0\n",
      "Conv2dStaticSamePadding-273           [-1, 1280, 7, 7]         409,600\n",
      "     BatchNorm2d-274           [-1, 1280, 7, 7]           2,560\n",
      "MemoryEfficientSwish-275           [-1, 1280, 7, 7]               0\n",
      "AdaptiveAvgPool2d-276           [-1, 1280, 1, 1]               0\n",
      "         Dropout-277                 [-1, 1280]               0\n",
      "          Linear-278                    [-1, 3]           3,843\n",
      "================================================================\n",
      "Total params: 4,010,815\n",
      "Trainable params: 4,010,815\n",
      "Non-trainable params: 0\n",
      "----------------------------------------------------------------\n",
      "Input size (MB): 0.25\n",
      "Forward/backward pass size (MB): 257.21\n",
      "Params size (MB): 15.30\n",
      "Estimated Total Size (MB): 272.76\n",
      "----------------------------------------------------------------\n"
     ]
    }
   ],
   "source": [
    "model = EfficientNet.from_pretrained('efficientnet-b0')\n",
    "\n",
    "# Adjust the first convolutional layer to accept 1-channel input\n",
    "# EfficientNet's first conv layer is `_conv_stem`\n",
    "# Create a new conv layer with 1 input channel, same output channels, kernel size, etc.\n",
    "conv_stem = model._conv_stem\n",
    "new_conv_stem = nn.Conv2d(\n",
    "    in_channels=1,  # Change to 1 channel for grayscale\n",
    "    out_channels=conv_stem.out_channels,\n",
    "    kernel_size=conv_stem.kernel_size,\n",
    "    stride=conv_stem.stride,\n",
    "    padding=conv_stem.padding,\n",
    "    bias=conv_stem.bias is not None,\n",
    "    groups=conv_stem.groups,\n",
    "    dilation=conv_stem.dilation,\n",
    ")\n",
    "# Copy weights from the original conv layer (average them for the grayscale case)\n",
    "with torch.no_grad():\n",
    "    new_conv_stem.weight[:, 0, :, :] = conv_stem.weight.mean(dim=1)\n",
    "model._conv_stem = new_conv_stem\n",
    "num_features = model._fc.in_features\n",
    "model._fc = nn.Linear(num_features, 3)\n",
    "\n",
    "\n",
    "device = torch.device(\"cuda\" if torch.cuda.is_available() else \"cpu\")\n",
    "model = model.to(device)\n",
    "summary(model, (1, 256, 256))"
   ]
  },
  {
   "cell_type": "markdown",
   "metadata": {
    "id": "5dzx9QbAvW6B"
   },
   "source": [
    "## Preparing Training & Validation Dataset"
   ]
  },
  {
   "cell_type": "code",
   "execution_count": 25,
   "metadata": {
    "colab": {
     "base_uri": "https://localhost:8080/"
    },
    "id": "Zv7zOHyhEs3U",
    "outputId": "2d4e16d1-7c42-4e84-fd9b-8049347d75e3"
   },
   "outputs": [
    {
     "name": "stdout",
     "output_type": "stream",
     "text": [
      "Image batch shape: torch.Size([16, 1, 256, 256])\n",
      "Label batch shape: torch.Size([16, 3])\n"
     ]
    }
   ],
   "source": [
    "train_dataset = FerTrain()\n",
    "split_size_train = int(len(train_dataset) * 0.75)\n",
    "split_size_val = len(train_dataset) - split_size_train\n",
    "train, valid = random_split(train_dataset, lengths=[split_size_train, split_size_val])\n",
    "batch_size = 16\n",
    "train_loader = DataLoader(train, batch_size=batch_size, shuffle=True)\n",
    "valid_loader = DataLoader(valid, batch_size=batch_size, shuffle=True)\n",
    "\n",
    "\n",
    "for images, labels in train_loader:\n",
    "    print(f\"Image batch shape: {images.shape}\")\n",
    "    print(f\"Label batch shape: {labels.shape}\")\n",
    "    break"
   ]
  },
  {
   "cell_type": "code",
   "execution_count": 5,
   "metadata": {
    "id": "8vh7dCcanK4K"
   },
   "outputs": [],
   "source": [
    "def calculate_accuracy(outputs, labels):\n",
    "    _, preds = torch.max(outputs, 1)\n",
    "    correct = (preds == labels).sum().item()\n",
    "    accuracy = correct / labels.size(0)\n",
    "    return accuracy"
   ]
  },
  {
   "cell_type": "markdown",
   "metadata": {
    "id": "n9graxogpycm"
   },
   "source": [
    "# Training of EfficientNet"
   ]
  },
  {
   "cell_type": "code",
   "execution_count": null,
   "metadata": {
    "colab": {
     "base_uri": "https://localhost:8080/",
     "height": 138,
     "referenced_widgets": [
      "f6af7987fb8a4ed3afca0df97f4c8028",
      "17daa5f96a7842ca8433aa440c778d8a",
      "0061f677e1904dec953ef3445bb8f451",
      "ee4044c5c2864a72ac24fb6bf2091bb0",
      "649951716ad54fe0bf89d20bc6816e3c",
      "932ef3768939493093ad1525b45a1c88",
      "6f902fb077c84b26a9a88c85daae9367",
      "6419d9517fef4a9cb24c36fdcb177902",
      "8df740b7a5d4496f8c9304598ff53eab",
      "abdefc263eae4fbfa0973b838bed2b39",
      "48f5b7b8eb2f4edab959b9bbd898d346",
      "cec1a83b8dec4e90b81ad9f5efeb0a47",
      "e4d656c4f3784230bf3e54ed86b11cfd",
      "d9e8523b9b77462390a49b7db4e294c2",
      "6cbdf0d3f09242b79e965802cf05f7cc",
      "27a1ca01f4b241949a5a80328fceb01a",
      "5276b92d51b6456ab84acc73c957047b",
      "a3c99c2172c7457dab65d6ffbce123a3",
      "1f73c69c1fc74e5a883ccc797b821359",
      "4d2e7264031d463ab194e4de3686a069",
      "711e9902d1ff4de7b006f80d22394d2e",
      "95ac84c9af874cd191b012f769b3556e",
      "4cf63ee7eee24415a14329ecaef331e6",
      "4b3f5b13a75540aa8dc1c884826c4ef4",
      "4343add41de8413e8afc2ec17fea3bfb",
      "d1480ebd7e36448cb84134032b9e6ec9",
      "fee6d41ebe7d48e59799ac47412491d5",
      "25826f07c3c74d79bb04e9422558a28c",
      "0f887df601cc4f6bab6fcd4b6c63e203",
      "521505af67c547c0833697caf204b743",
      "9878d366b50b45c7babef8fba1e599c7",
      "c815d33300884d5b83094830d357fed4",
      "9e0e6384aff64e92a0068d4530541bf2",
      "0e5d785e279c4b879f1de7295a821902",
      "bb4e4061e5f74450befa223facefb9a0",
      "3d6c940a92794c35b38580bb75cfe0b8",
      "87371f71abc245209fccf183112711eb",
      "f0e8e74a7f044a77978f873dc2f26ac6",
      "7ca535d328a244b4af68adaae7174fa6",
      "3ba1e319756d4a1f8c71747d95006ecb",
      "7c056927fbc04d23a0565799216854fd",
      "28bfc86aedf1439d9ea05d89bbb82623",
      "0e3e69bf0f204b7687fc1235ad491322",
      "bfeb32ae52fc4401bf86a10b5f022a40",
      "13ffb408fc604d698823f21b02e48100",
      "25a4c3cf3f6e452bb35e8eb14033977d",
      "32fdc927cbbc4796ae264545f7dcac18",
      "80bd469d739e4b56aa5237f5e7bac674",
      "e459dc6f53df46a9ac17b3e3878ce33a",
      "535b869c86404f8b8e295aa1023d4802",
      "0a2c7ad263a14b22a23bd311ec3a0d3d",
      "521ff93b6cf342f2a1bb99d4a41a1e76",
      "60d39d0b09704a4fa240b5789a386558",
      "48afc815127d4031b97533447156829c",
      "552d7933ea4941d58a751b335da69aa4",
      "968fdfae0621434e8f71275a5c4bfdd0",
      "38b1dc192b1c4dd19accb108b3810188",
      "e95dd0fe74f742b7858cfdc5c1991fbf",
      "dd525fa948b54064a50d8fda08d3c9fe",
      "a6473977514749d08545f91a01bc209c",
      "b1cd356ea1654b11a149365b1e1c1d61",
      "815e251b209b420593e9581e08ea698d",
      "bd62f3c7331748b8811993d4a28e569f",
      "1aeaa655e9984d1c8433c335545df070",
      "b5342ab560014ee1a921af0c5a7b2891",
      "d58ec795e35349cfaa7fdb356fb55209"
     ]
    },
    "id": "NOmQSbVSGhBX",
    "outputId": "7c40c3c0-f9ab-4695-9ad6-05fdabe1ab84"
   },
   "outputs": [
    {
     "data": {
      "application/vnd.jupyter.widget-view+json": {
       "model_id": "2af9f42f9cfd467f9b18d70a1732f2f0",
       "version_major": 2,
       "version_minor": 0
      },
      "text/plain": [
       "Training Progress:   0%|          | 0/50 [00:00<?, ?it/s]"
      ]
     },
     "metadata": {},
     "output_type": "display_data"
    },
    {
     "data": {
      "application/vnd.jupyter.widget-view+json": {
       "model_id": "21ac065952344a509c31f962c5a9c2be",
       "version_major": 2,
       "version_minor": 0
      },
      "text/plain": [
       "Epoch 1/50 - Training:   0%|          | 0/759 [00:00<?, ?it/s]"
      ]
     },
     "metadata": {},
     "output_type": "display_data"
    },
    {
     "name": "stdout",
     "output_type": "stream",
     "text": [
      "Epoch [1/50], Train Loss: 0.1204, Train Acc: 0.9573, Validation Loss: 1.0797, Validation Acc: 0.7758\n"
     ]
    },
    {
     "data": {
      "application/vnd.jupyter.widget-view+json": {
       "model_id": "5fe34a15a1004aa594283edb49798dbf",
       "version_major": 2,
       "version_minor": 0
      },
      "text/plain": [
       "Epoch 2/50 - Training:   0%|          | 0/759 [00:00<?, ?it/s]"
      ]
     },
     "metadata": {},
     "output_type": "display_data"
    },
    {
     "name": "stdout",
     "output_type": "stream",
     "text": [
      "Epoch [2/50], Train Loss: 0.0989, Train Acc: 0.9649, Validation Loss: 0.8023, Validation Acc: 0.7568\n"
     ]
    },
    {
     "data": {
      "application/vnd.jupyter.widget-view+json": {
       "model_id": "e742595896794dafb36e7bb8db218fab",
       "version_major": 2,
       "version_minor": 0
      },
      "text/plain": [
       "Epoch 3/50 - Training:   0%|          | 0/759 [00:00<?, ?it/s]"
      ]
     },
     "metadata": {},
     "output_type": "display_data"
    },
    {
     "name": "stdout",
     "output_type": "stream",
     "text": [
      "Epoch [3/50], Train Loss: 0.0950, Train Acc: 0.9655, Validation Loss: 0.8360, Validation Acc: 0.7946\n"
     ]
    },
    {
     "data": {
      "application/vnd.jupyter.widget-view+json": {
       "model_id": "9134bd9c4ddd4efb907238dbaa746d9d",
       "version_major": 2,
       "version_minor": 0
      },
      "text/plain": [
       "Epoch 4/50 - Training:   0%|          | 0/759 [00:00<?, ?it/s]"
      ]
     },
     "metadata": {},
     "output_type": "display_data"
    },
    {
     "name": "stdout",
     "output_type": "stream",
     "text": [
      "Epoch [4/50], Train Loss: 0.0895, Train Acc: 0.9696, Validation Loss: 1.0061, Validation Acc: 0.7798\n"
     ]
    },
    {
     "data": {
      "application/vnd.jupyter.widget-view+json": {
       "model_id": "0fe819f8dcd5479cbf49f08e7f8e062b",
       "version_major": 2,
       "version_minor": 0
      },
      "text/plain": [
       "Epoch 5/50 - Training:   0%|          | 0/759 [00:00<?, ?it/s]"
      ]
     },
     "metadata": {},
     "output_type": "display_data"
    },
    {
     "name": "stdout",
     "output_type": "stream",
     "text": [
      "Epoch [5/50], Train Loss: 0.0729, Train Acc: 0.9736, Validation Loss: 1.0013, Validation Acc: 0.7783\n"
     ]
    },
    {
     "data": {
      "application/vnd.jupyter.widget-view+json": {
       "model_id": "2f8c06ba429a4407b144272729d36e6c",
       "version_major": 2,
       "version_minor": 0
      },
      "text/plain": [
       "Epoch 6/50 - Training:   0%|          | 0/759 [00:00<?, ?it/s]"
      ]
     },
     "metadata": {},
     "output_type": "display_data"
    },
    {
     "name": "stdout",
     "output_type": "stream",
     "text": [
      "Epoch [6/50], Train Loss: 0.0769, Train Acc: 0.9724, Validation Loss: 0.9390, Validation Acc: 0.7859\n"
     ]
    },
    {
     "data": {
      "application/vnd.jupyter.widget-view+json": {
       "model_id": "b4fe679f7c7a4fd3a3b033ab5c73baa3",
       "version_major": 2,
       "version_minor": 0
      },
      "text/plain": [
       "Epoch 7/50 - Training:   0%|          | 0/759 [00:00<?, ?it/s]"
      ]
     },
     "metadata": {},
     "output_type": "display_data"
    },
    {
     "name": "stdout",
     "output_type": "stream",
     "text": [
      "Epoch [7/50], Train Loss: 0.0646, Train Acc: 0.9772, Validation Loss: 1.0329, Validation Acc: 0.7939\n"
     ]
    },
    {
     "data": {
      "application/vnd.jupyter.widget-view+json": {
       "model_id": "59b622bcc20b41f8a857818ed8ad7b38",
       "version_major": 2,
       "version_minor": 0
      },
      "text/plain": [
       "Epoch 8/50 - Training:   0%|          | 0/759 [00:00<?, ?it/s]"
      ]
     },
     "metadata": {},
     "output_type": "display_data"
    },
    {
     "name": "stdout",
     "output_type": "stream",
     "text": [
      "Epoch [8/50], Train Loss: 0.0667, Train Acc: 0.9769, Validation Loss: 0.9626, Validation Acc: 0.7950\n"
     ]
    },
    {
     "data": {
      "application/vnd.jupyter.widget-view+json": {
       "model_id": "d0b0ce169e314b7ca5e7bdbf8f5d97cc",
       "version_major": 2,
       "version_minor": 0
      },
      "text/plain": [
       "Epoch 9/50 - Training:   0%|          | 0/759 [00:00<?, ?it/s]"
      ]
     },
     "metadata": {},
     "output_type": "display_data"
    },
    {
     "name": "stdout",
     "output_type": "stream",
     "text": [
      "Epoch [9/50], Train Loss: 0.0654, Train Acc: 0.9756, Validation Loss: 1.0837, Validation Acc: 0.7894\n"
     ]
    },
    {
     "data": {
      "application/vnd.jupyter.widget-view+json": {
       "model_id": "6b972a707ea045bda1a7a5246aee8410",
       "version_major": 2,
       "version_minor": 0
      },
      "text/plain": [
       "Epoch 10/50 - Training:   0%|          | 0/759 [00:00<?, ?it/s]"
      ]
     },
     "metadata": {},
     "output_type": "display_data"
    },
    {
     "name": "stdout",
     "output_type": "stream",
     "text": [
      "Epoch [10/50], Train Loss: 0.0595, Train Acc: 0.9792, Validation Loss: 1.0387, Validation Acc: 0.8013\n"
     ]
    },
    {
     "data": {
      "application/vnd.jupyter.widget-view+json": {
       "model_id": "04d372ac42574c08ab0bf88400c14417",
       "version_major": 2,
       "version_minor": 0
      },
      "text/plain": [
       "Epoch 11/50 - Training:   0%|          | 0/759 [00:00<?, ?it/s]"
      ]
     },
     "metadata": {},
     "output_type": "display_data"
    },
    {
     "name": "stdout",
     "output_type": "stream",
     "text": [
      "Epoch [11/50], Train Loss: 0.0559, Train Acc: 0.9805, Validation Loss: 0.9471, Validation Acc: 0.7983\n"
     ]
    },
    {
     "data": {
      "application/vnd.jupyter.widget-view+json": {
       "model_id": "6a7ee0726c244ef59a39a6055a399cfe",
       "version_major": 2,
       "version_minor": 0
      },
      "text/plain": [
       "Epoch 12/50 - Training:   0%|          | 0/759 [00:00<?, ?it/s]"
      ]
     },
     "metadata": {},
     "output_type": "display_data"
    },
    {
     "name": "stdout",
     "output_type": "stream",
     "text": [
      "Epoch [12/50], Train Loss: 0.0572, Train Acc: 0.9792, Validation Loss: 1.1100, Validation Acc: 0.7899\n"
     ]
    },
    {
     "data": {
      "application/vnd.jupyter.widget-view+json": {
       "model_id": "58249ef9276241c6b9e769d9f32f16ca",
       "version_major": 2,
       "version_minor": 0
      },
      "text/plain": [
       "Epoch 13/50 - Training:   0%|          | 0/759 [00:00<?, ?it/s]"
      ]
     },
     "metadata": {},
     "output_type": "display_data"
    },
    {
     "name": "stdout",
     "output_type": "stream",
     "text": [
      "Epoch [13/50], Train Loss: 0.0481, Train Acc: 0.9838, Validation Loss: 1.3991, Validation Acc: 0.7792\n"
     ]
    },
    {
     "data": {
      "application/vnd.jupyter.widget-view+json": {
       "model_id": "e7c78919589c4ad696327676e5769625",
       "version_major": 2,
       "version_minor": 0
      },
      "text/plain": [
       "Epoch 14/50 - Training:   0%|          | 0/759 [00:00<?, ?it/s]"
      ]
     },
     "metadata": {},
     "output_type": "display_data"
    },
    {
     "name": "stdout",
     "output_type": "stream",
     "text": [
      "Epoch [14/50], Train Loss: 0.0584, Train Acc: 0.9801, Validation Loss: 1.0092, Validation Acc: 0.7923\n"
     ]
    },
    {
     "data": {
      "application/vnd.jupyter.widget-view+json": {
       "model_id": "8e27d021c46a4fcb9ed24712cce22a94",
       "version_major": 2,
       "version_minor": 0
      },
      "text/plain": [
       "Epoch 15/50 - Training:   0%|          | 0/759 [00:00<?, ?it/s]"
      ]
     },
     "metadata": {},
     "output_type": "display_data"
    },
    {
     "name": "stdout",
     "output_type": "stream",
     "text": [
      "Epoch [15/50], Train Loss: 0.0454, Train Acc: 0.9839, Validation Loss: 0.9106, Validation Acc: 0.7843\n"
     ]
    },
    {
     "data": {
      "application/vnd.jupyter.widget-view+json": {
       "model_id": "e89f142dbc7a4021afa437c48b286e5a",
       "version_major": 2,
       "version_minor": 0
      },
      "text/plain": [
       "Epoch 16/50 - Training:   0%|          | 0/759 [00:00<?, ?it/s]"
      ]
     },
     "metadata": {},
     "output_type": "display_data"
    },
    {
     "name": "stdout",
     "output_type": "stream",
     "text": [
      "Epoch [16/50], Train Loss: 0.0490, Train Acc: 0.9825, Validation Loss: 1.0666, Validation Acc: 0.7893\n"
     ]
    },
    {
     "data": {
      "application/vnd.jupyter.widget-view+json": {
       "model_id": "0f773028c8fb49978d0e6216b8072a3d",
       "version_major": 2,
       "version_minor": 0
      },
      "text/plain": [
       "Epoch 17/50 - Training:   0%|          | 0/759 [00:00<?, ?it/s]"
      ]
     },
     "metadata": {},
     "output_type": "display_data"
    },
    {
     "name": "stdout",
     "output_type": "stream",
     "text": [
      "Epoch [17/50], Train Loss: 0.0412, Train Acc: 0.9859, Validation Loss: 1.0988, Validation Acc: 0.7890\n"
     ]
    },
    {
     "data": {
      "application/vnd.jupyter.widget-view+json": {
       "model_id": "54f64bbd6467414b818c3aa7cd1f3ce3",
       "version_major": 2,
       "version_minor": 0
      },
      "text/plain": [
       "Epoch 18/50 - Training:   0%|          | 0/759 [00:00<?, ?it/s]"
      ]
     },
     "metadata": {},
     "output_type": "display_data"
    },
    {
     "name": "stdout",
     "output_type": "stream",
     "text": [
      "Epoch [18/50], Train Loss: 0.0509, Train Acc: 0.9826, Validation Loss: 1.0554, Validation Acc: 0.7886\n"
     ]
    },
    {
     "data": {
      "application/vnd.jupyter.widget-view+json": {
       "model_id": "c193145535434985b98c4ab75af466db",
       "version_major": 2,
       "version_minor": 0
      },
      "text/plain": [
       "Epoch 19/50 - Training:   0%|          | 0/759 [00:00<?, ?it/s]"
      ]
     },
     "metadata": {},
     "output_type": "display_data"
    },
    {
     "name": "stdout",
     "output_type": "stream",
     "text": [
      "Epoch [19/50], Train Loss: 0.0473, Train Acc: 0.9832, Validation Loss: 1.1055, Validation Acc: 0.7851\n"
     ]
    },
    {
     "data": {
      "application/vnd.jupyter.widget-view+json": {
       "model_id": "dff85582890146fcb23939d76171f458",
       "version_major": 2,
       "version_minor": 0
      },
      "text/plain": [
       "Epoch 20/50 - Training:   0%|          | 0/759 [00:00<?, ?it/s]"
      ]
     },
     "metadata": {},
     "output_type": "display_data"
    },
    {
     "name": "stdout",
     "output_type": "stream",
     "text": [
      "Epoch [20/50], Train Loss: 0.0485, Train Acc: 0.9834, Validation Loss: 0.9526, Validation Acc: 0.7890\n"
     ]
    },
    {
     "data": {
      "application/vnd.jupyter.widget-view+json": {
       "model_id": "1fdb4f69dab6411f83aec55e11c0b3bc",
       "version_major": 2,
       "version_minor": 0
      },
      "text/plain": [
       "Epoch 21/50 - Training:   0%|          | 0/759 [00:00<?, ?it/s]"
      ]
     },
     "metadata": {},
     "output_type": "display_data"
    },
    {
     "name": "stdout",
     "output_type": "stream",
     "text": [
      "Epoch [21/50], Train Loss: 0.0379, Train Acc: 0.9872, Validation Loss: 1.1308, Validation Acc: 0.7767\n"
     ]
    },
    {
     "data": {
      "application/vnd.jupyter.widget-view+json": {
       "model_id": "69480f8b7b1c4d9eafd2e736fa39ffab",
       "version_major": 2,
       "version_minor": 0
      },
      "text/plain": [
       "Epoch 22/50 - Training:   0%|          | 0/759 [00:00<?, ?it/s]"
      ]
     },
     "metadata": {},
     "output_type": "display_data"
    },
    {
     "name": "stdout",
     "output_type": "stream",
     "text": [
      "Epoch [22/50], Train Loss: 0.0432, Train Acc: 0.9846, Validation Loss: 1.0550, Validation Acc: 0.7865\n"
     ]
    },
    {
     "data": {
      "application/vnd.jupyter.widget-view+json": {
       "model_id": "42dda5d55c704568b33cd9897a16b996",
       "version_major": 2,
       "version_minor": 0
      },
      "text/plain": [
       "Epoch 23/50 - Training:   0%|          | 0/759 [00:00<?, ?it/s]"
      ]
     },
     "metadata": {},
     "output_type": "display_data"
    },
    {
     "name": "stdout",
     "output_type": "stream",
     "text": [
      "Epoch [23/50], Train Loss: 0.0364, Train Acc: 0.9863, Validation Loss: 1.1467, Validation Acc: 0.7845\n"
     ]
    },
    {
     "data": {
      "application/vnd.jupyter.widget-view+json": {
       "model_id": "514f8604a8fe4218b5c84f6e87235408",
       "version_major": 2,
       "version_minor": 0
      },
      "text/plain": [
       "Epoch 24/50 - Training:   0%|          | 0/759 [00:00<?, ?it/s]"
      ]
     },
     "metadata": {},
     "output_type": "display_data"
    },
    {
     "name": "stdout",
     "output_type": "stream",
     "text": [
      "Epoch [24/50], Train Loss: 0.0408, Train Acc: 0.9846, Validation Loss: 1.0671, Validation Acc: 0.7927\n"
     ]
    },
    {
     "data": {
      "application/vnd.jupyter.widget-view+json": {
       "model_id": "9fda82e00a144d6a938c0983f3ead8ae",
       "version_major": 2,
       "version_minor": 0
      },
      "text/plain": [
       "Epoch 25/50 - Training:   0%|          | 0/759 [00:00<?, ?it/s]"
      ]
     },
     "metadata": {},
     "output_type": "display_data"
    },
    {
     "name": "stdout",
     "output_type": "stream",
     "text": [
      "Epoch [25/50], Train Loss: 0.0358, Train Acc: 0.9881, Validation Loss: 1.0823, Validation Acc: 0.7959\n"
     ]
    },
    {
     "data": {
      "application/vnd.jupyter.widget-view+json": {
       "model_id": "d7a60a615e0843c893deaa6478f58f05",
       "version_major": 2,
       "version_minor": 0
      },
      "text/plain": [
       "Epoch 26/50 - Training:   0%|          | 0/759 [00:00<?, ?it/s]"
      ]
     },
     "metadata": {},
     "output_type": "display_data"
    },
    {
     "name": "stdout",
     "output_type": "stream",
     "text": [
      "Epoch [26/50], Train Loss: 0.0338, Train Acc: 0.9875, Validation Loss: 1.2536, Validation Acc: 0.7774\n"
     ]
    },
    {
     "data": {
      "application/vnd.jupyter.widget-view+json": {
       "model_id": "96c98e445c1f49098366fdee388f151f",
       "version_major": 2,
       "version_minor": 0
      },
      "text/plain": [
       "Epoch 27/50 - Training:   0%|          | 0/759 [00:00<?, ?it/s]"
      ]
     },
     "metadata": {},
     "output_type": "display_data"
    },
    {
     "name": "stdout",
     "output_type": "stream",
     "text": [
      "Epoch [27/50], Train Loss: 0.0355, Train Acc: 0.9871, Validation Loss: 1.1599, Validation Acc: 0.7942\n"
     ]
    },
    {
     "data": {
      "application/vnd.jupyter.widget-view+json": {
       "model_id": "b13b8674c748442fad6c678bc4acf1e5",
       "version_major": 2,
       "version_minor": 0
      },
      "text/plain": [
       "Epoch 28/50 - Training:   0%|          | 0/759 [00:00<?, ?it/s]"
      ]
     },
     "metadata": {},
     "output_type": "display_data"
    },
    {
     "name": "stdout",
     "output_type": "stream",
     "text": [
      "Epoch [28/50], Train Loss: 0.0392, Train Acc: 0.9867, Validation Loss: 1.0639, Validation Acc: 0.7945\n"
     ]
    },
    {
     "data": {
      "application/vnd.jupyter.widget-view+json": {
       "model_id": "4a984f8d3ab5402cbdbea9ee16577d14",
       "version_major": 2,
       "version_minor": 0
      },
      "text/plain": [
       "Epoch 29/50 - Training:   0%|          | 0/759 [00:00<?, ?it/s]"
      ]
     },
     "metadata": {},
     "output_type": "display_data"
    },
    {
     "name": "stdout",
     "output_type": "stream",
     "text": [
      "Epoch [29/50], Train Loss: 0.0264, Train Acc: 0.9903, Validation Loss: 1.4109, Validation Acc: 0.7861\n"
     ]
    },
    {
     "data": {
      "application/vnd.jupyter.widget-view+json": {
       "model_id": "eccf6ca0f8da45319a58d9d337ba5d5e",
       "version_major": 2,
       "version_minor": 0
      },
      "text/plain": [
       "Epoch 30/50 - Training:   0%|          | 0/759 [00:00<?, ?it/s]"
      ]
     },
     "metadata": {},
     "output_type": "display_data"
    },
    {
     "name": "stdout",
     "output_type": "stream",
     "text": [
      "Epoch [30/50], Train Loss: 0.0382, Train Acc: 0.9878, Validation Loss: 1.0584, Validation Acc: 0.8003\n"
     ]
    },
    {
     "data": {
      "application/vnd.jupyter.widget-view+json": {
       "model_id": "b755f60447f2401dac41c4e1d51ba384",
       "version_major": 2,
       "version_minor": 0
      },
      "text/plain": [
       "Epoch 31/50 - Training:   0%|          | 0/759 [00:00<?, ?it/s]"
      ]
     },
     "metadata": {},
     "output_type": "display_data"
    },
    {
     "name": "stdout",
     "output_type": "stream",
     "text": [
      "Epoch [31/50], Train Loss: 0.0404, Train Acc: 0.9856, Validation Loss: 1.0349, Validation Acc: 0.7978\n"
     ]
    },
    {
     "data": {
      "application/vnd.jupyter.widget-view+json": {
       "model_id": "7b50b8554a494530b465e697fa716168",
       "version_major": 2,
       "version_minor": 0
      },
      "text/plain": [
       "Epoch 32/50 - Training:   0%|          | 0/759 [00:00<?, ?it/s]"
      ]
     },
     "metadata": {},
     "output_type": "display_data"
    },
    {
     "name": "stdout",
     "output_type": "stream",
     "text": [
      "Epoch [32/50], Train Loss: 0.0247, Train Acc: 0.9916, Validation Loss: 1.1306, Validation Acc: 0.8029\n"
     ]
    },
    {
     "data": {
      "application/vnd.jupyter.widget-view+json": {
       "model_id": "c9b1f013840c428d95b49bafebe0555e",
       "version_major": 2,
       "version_minor": 0
      },
      "text/plain": [
       "Epoch 33/50 - Training:   0%|          | 0/759 [00:00<?, ?it/s]"
      ]
     },
     "metadata": {},
     "output_type": "display_data"
    },
    {
     "name": "stdout",
     "output_type": "stream",
     "text": [
      "Epoch [33/50], Train Loss: 0.0344, Train Acc: 0.9881, Validation Loss: 1.1720, Validation Acc: 0.7902\n"
     ]
    },
    {
     "data": {
      "application/vnd.jupyter.widget-view+json": {
       "model_id": "ffa3f71cf26740b29bf3947c93497dcb",
       "version_major": 2,
       "version_minor": 0
      },
      "text/plain": [
       "Epoch 34/50 - Training:   0%|          | 0/759 [00:00<?, ?it/s]"
      ]
     },
     "metadata": {},
     "output_type": "display_data"
    },
    {
     "name": "stdout",
     "output_type": "stream",
     "text": [
      "Epoch [34/50], Train Loss: 0.0362, Train Acc: 0.9876, Validation Loss: 1.1527, Validation Acc: 0.8029\n"
     ]
    },
    {
     "data": {
      "application/vnd.jupyter.widget-view+json": {
       "model_id": "e51d9a13b1f74581be73e4bb5ef4a089",
       "version_major": 2,
       "version_minor": 0
      },
      "text/plain": [
       "Epoch 35/50 - Training:   0%|          | 0/759 [00:00<?, ?it/s]"
      ]
     },
     "metadata": {},
     "output_type": "display_data"
    },
    {
     "name": "stdout",
     "output_type": "stream",
     "text": [
      "Epoch [35/50], Train Loss: 0.0316, Train Acc: 0.9895, Validation Loss: 1.2174, Validation Acc: 0.8018\n"
     ]
    },
    {
     "data": {
      "application/vnd.jupyter.widget-view+json": {
       "model_id": "3608f7be77964d698defe4476569b685",
       "version_major": 2,
       "version_minor": 0
      },
      "text/plain": [
       "Epoch 36/50 - Training:   0%|          | 0/759 [00:00<?, ?it/s]"
      ]
     },
     "metadata": {},
     "output_type": "display_data"
    },
    {
     "name": "stdout",
     "output_type": "stream",
     "text": [
      "Epoch [36/50], Train Loss: 0.0219, Train Acc: 0.9924, Validation Loss: 1.1085, Validation Acc: 0.7929\n"
     ]
    },
    {
     "data": {
      "application/vnd.jupyter.widget-view+json": {
       "model_id": "6efc99ae5ec34c87bb03b18629cff34d",
       "version_major": 2,
       "version_minor": 0
      },
      "text/plain": [
       "Epoch 37/50 - Training:   0%|          | 0/759 [00:00<?, ?it/s]"
      ]
     },
     "metadata": {},
     "output_type": "display_data"
    },
    {
     "name": "stdout",
     "output_type": "stream",
     "text": [
      "Epoch [37/50], Train Loss: 0.0311, Train Acc: 0.9895, Validation Loss: 1.2566, Validation Acc: 0.7857\n"
     ]
    },
    {
     "data": {
      "application/vnd.jupyter.widget-view+json": {
       "model_id": "7dccab397b4a4f0aaa7e1483c180304a",
       "version_major": 2,
       "version_minor": 0
      },
      "text/plain": [
       "Epoch 38/50 - Training:   0%|          | 0/759 [00:00<?, ?it/s]"
      ]
     },
     "metadata": {},
     "output_type": "display_data"
    },
    {
     "name": "stdout",
     "output_type": "stream",
     "text": [
      "Epoch [38/50], Train Loss: 0.0332, Train Acc: 0.9881, Validation Loss: 1.1897, Validation Acc: 0.7968\n"
     ]
    },
    {
     "data": {
      "application/vnd.jupyter.widget-view+json": {
       "model_id": "a719196faade45869aad3da1a901d076",
       "version_major": 2,
       "version_minor": 0
      },
      "text/plain": [
       "Epoch 39/50 - Training:   0%|          | 0/759 [00:00<?, ?it/s]"
      ]
     },
     "metadata": {},
     "output_type": "display_data"
    },
    {
     "name": "stdout",
     "output_type": "stream",
     "text": [
      "Epoch [39/50], Train Loss: 0.0228, Train Acc: 0.9922, Validation Loss: 1.4365, Validation Acc: 0.7880\n"
     ]
    },
    {
     "data": {
      "application/vnd.jupyter.widget-view+json": {
       "model_id": "af29b7f8df1c410ba82aaa0c6c157528",
       "version_major": 2,
       "version_minor": 0
      },
      "text/plain": [
       "Epoch 40/50 - Training:   0%|          | 0/759 [00:00<?, ?it/s]"
      ]
     },
     "metadata": {},
     "output_type": "display_data"
    },
    {
     "name": "stdout",
     "output_type": "stream",
     "text": [
      "Epoch [40/50], Train Loss: 0.0286, Train Acc: 0.9895, Validation Loss: 1.3577, Validation Acc: 0.7926\n"
     ]
    },
    {
     "data": {
      "application/vnd.jupyter.widget-view+json": {
       "model_id": "ea1e42fd080e4effbca9d784561ad042",
       "version_major": 2,
       "version_minor": 0
      },
      "text/plain": [
       "Epoch 41/50 - Training:   0%|          | 0/759 [00:00<?, ?it/s]"
      ]
     },
     "metadata": {},
     "output_type": "display_data"
    },
    {
     "name": "stdout",
     "output_type": "stream",
     "text": [
      "Epoch [41/50], Train Loss: 0.0386, Train Acc: 0.9862, Validation Loss: 1.0719, Validation Acc: 0.7934\n"
     ]
    },
    {
     "data": {
      "application/vnd.jupyter.widget-view+json": {
       "model_id": "fa797abaca2b4b4c8c0b8141c6ce71c0",
       "version_major": 2,
       "version_minor": 0
      },
      "text/plain": [
       "Epoch 42/50 - Training:   0%|          | 0/759 [00:00<?, ?it/s]"
      ]
     },
     "metadata": {},
     "output_type": "display_data"
    },
    {
     "name": "stdout",
     "output_type": "stream",
     "text": [
      "Epoch [42/50], Train Loss: 0.0190, Train Acc: 0.9932, Validation Loss: 1.1692, Validation Acc: 0.7988\n"
     ]
    },
    {
     "data": {
      "application/vnd.jupyter.widget-view+json": {
       "model_id": "ca9b15ba843b4c7eac26664827f84031",
       "version_major": 2,
       "version_minor": 0
      },
      "text/plain": [
       "Epoch 43/50 - Training:   0%|          | 0/759 [00:00<?, ?it/s]"
      ]
     },
     "metadata": {},
     "output_type": "display_data"
    },
    {
     "name": "stdout",
     "output_type": "stream",
     "text": [
      "Epoch [43/50], Train Loss: 0.0298, Train Acc: 0.9898, Validation Loss: 1.1563, Validation Acc: 0.7974\n"
     ]
    },
    {
     "data": {
      "application/vnd.jupyter.widget-view+json": {
       "model_id": "9175c949cef24666a3647049b9e174bd",
       "version_major": 2,
       "version_minor": 0
      },
      "text/plain": [
       "Epoch 44/50 - Training:   0%|          | 0/759 [00:00<?, ?it/s]"
      ]
     },
     "metadata": {},
     "output_type": "display_data"
    },
    {
     "name": "stdout",
     "output_type": "stream",
     "text": [
      "Epoch [44/50], Train Loss: 0.0249, Train Acc: 0.9918, Validation Loss: 1.2581, Validation Acc: 0.8005\n"
     ]
    },
    {
     "data": {
      "application/vnd.jupyter.widget-view+json": {
       "model_id": "d263d6e7510e4ee3b78a66a1dba21b0d",
       "version_major": 2,
       "version_minor": 0
      },
      "text/plain": [
       "Epoch 45/50 - Training:   0%|          | 0/759 [00:00<?, ?it/s]"
      ]
     },
     "metadata": {},
     "output_type": "display_data"
    },
    {
     "name": "stdout",
     "output_type": "stream",
     "text": [
      "Epoch [45/50], Train Loss: 0.0274, Train Acc: 0.9905, Validation Loss: 1.2094, Validation Acc: 0.7876\n"
     ]
    },
    {
     "data": {
      "application/vnd.jupyter.widget-view+json": {
       "model_id": "90a643a9035b4e6098a2a87400e3d7b6",
       "version_major": 2,
       "version_minor": 0
      },
      "text/plain": [
       "Epoch 46/50 - Training:   0%|          | 0/759 [00:00<?, ?it/s]"
      ]
     },
     "metadata": {},
     "output_type": "display_data"
    },
    {
     "name": "stdout",
     "output_type": "stream",
     "text": [
      "Epoch [46/50], Train Loss: 0.0257, Train Acc: 0.9918, Validation Loss: 1.0686, Validation Acc: 0.7967\n"
     ]
    },
    {
     "data": {
      "application/vnd.jupyter.widget-view+json": {
       "model_id": "96f8420f1999428a8b50df776d705a5e",
       "version_major": 2,
       "version_minor": 0
      },
      "text/plain": [
       "Epoch 47/50 - Training:   0%|          | 0/759 [00:00<?, ?it/s]"
      ]
     },
     "metadata": {},
     "output_type": "display_data"
    },
    {
     "name": "stdout",
     "output_type": "stream",
     "text": [
      "Epoch [47/50], Train Loss: 0.0241, Train Acc: 0.9911, Validation Loss: 1.3844, Validation Acc: 0.7810\n"
     ]
    },
    {
     "data": {
      "application/vnd.jupyter.widget-view+json": {
       "model_id": "197ed8b2c3a14a22a765879ba5b1779d",
       "version_major": 2,
       "version_minor": 0
      },
      "text/plain": [
       "Epoch 48/50 - Training:   0%|          | 0/759 [00:00<?, ?it/s]"
      ]
     },
     "metadata": {},
     "output_type": "display_data"
    },
    {
     "name": "stdout",
     "output_type": "stream",
     "text": [
      "Epoch [48/50], Train Loss: 0.0329, Train Acc: 0.9882, Validation Loss: 1.1316, Validation Acc: 0.7997\n"
     ]
    },
    {
     "data": {
      "application/vnd.jupyter.widget-view+json": {
       "model_id": "6c44a58220574e358e5da4e9968f1e13",
       "version_major": 2,
       "version_minor": 0
      },
      "text/plain": [
       "Epoch 49/50 - Training:   0%|          | 0/759 [00:00<?, ?it/s]"
      ]
     },
     "metadata": {},
     "output_type": "display_data"
    },
    {
     "name": "stdout",
     "output_type": "stream",
     "text": [
      "Epoch [49/50], Train Loss: 0.0243, Train Acc: 0.9914, Validation Loss: 1.3106, Validation Acc: 0.7948\n"
     ]
    },
    {
     "data": {
      "application/vnd.jupyter.widget-view+json": {
       "model_id": "a5ea4a735874461b81278f015346c5c9",
       "version_major": 2,
       "version_minor": 0
      },
      "text/plain": [
       "Epoch 50/50 - Training:   0%|          | 0/759 [00:00<?, ?it/s]"
      ]
     },
     "metadata": {},
     "output_type": "display_data"
    },
    {
     "name": "stdout",
     "output_type": "stream",
     "text": [
      "Epoch [50/50], Train Loss: 0.0181, Train Acc: 0.9939, Validation Loss: 1.2188, Validation Acc: 0.8019\n"
     ]
    }
   ],
   "source": [
    "# Maybe we could change here to fix the shape of the graphs below\n",
    "criterion = nn.CrossEntropyLoss()\n",
    "optimizer = optim.Adam(model.parameters(), lr=0.001)\n",
    "\n",
    "best_val_acc = 0.0\n",
    "epochs = 50\n",
    "\n",
    "train_losses = []\n",
    "train_accuracies = []\n",
    "val_losses = []\n",
    "val_accuracies = []\n",
    "\n",
    "for epoch in tqdm(range(epochs), desc=\"Training Progress\"):\n",
    "    model.train()\n",
    "    running_loss = 0.0\n",
    "    train_accuracy = 0.0\n",
    "\n",
    "    for images, labels in tqdm(train_loader, desc=f\"Epoch {epoch+1}/{epochs} - Training\", leave=False):\n",
    "        images = images.to(device)\n",
    "        labels = labels.argmax(dim=1).to(device)\n",
    "        optimizer.zero_grad()\n",
    "        outputs = model(images)\n",
    "\n",
    "        loss = criterion(outputs, labels)\n",
    "        loss.backward()\n",
    "        optimizer.step()\n",
    "\n",
    "        running_loss += loss.item()\n",
    "        train_accuracy += calculate_accuracy(outputs, labels)\n",
    "\n",
    "    avg_train_loss = running_loss / len(train_loader)\n",
    "    avg_train_accuracy = train_accuracy / len(train_loader)\n",
    "    train_losses.append(avg_train_loss)\n",
    "    train_accuracies.append(avg_train_accuracy)\n",
    "\n",
    "    model.eval()\n",
    "    val_loss = 0.0\n",
    "    val_accuracy = 0.0\n",
    "    with torch.no_grad():\n",
    "        for images, labels in valid_loader:\n",
    "            images = images.to(device)\n",
    "            labels = labels.argmax(dim=1).to(device)\n",
    "            outputs = model(images)\n",
    "            val_loss += criterion(outputs, labels).item()\n",
    "            val_accuracy += calculate_accuracy(outputs, labels)\n",
    "\n",
    "    avg_val_loss = val_loss / len(valid_loader)\n",
    "    avg_val_accuracy = val_accuracy / len(valid_loader)\n",
    "    val_losses.append(avg_val_loss)\n",
    "    val_accuracies.append(avg_val_accuracy)\n",
    "\n",
    "    if avg_val_accuracy > best_val_acc:\n",
    "        best_val_acc = avg_val_accuracy\n",
    "        torch.save(model.state_dict(), 'EfficientNet_best_model.pt')\n",
    "\n",
    "    print(f\"Epoch [{epoch+1}/{epochs}], \"\n",
    "          f\"Train Loss: {avg_train_loss:.4f}, Train Acc: {avg_train_accuracy:.4f}, \"\n",
    "          f\"Validation Loss: {avg_val_loss:.4f}, Validation Acc: {avg_val_accuracy:.4f}\")\n"
   ]
  },
  {
   "cell_type": "markdown",
   "metadata": {
    "id": "zsaEEESfpvgq"
   },
   "source": [
    "## Graphs (Training and Validation)"
   ]
  },
  {
   "cell_type": "code",
   "execution_count": 30,
   "metadata": {
    "colab": {
     "base_uri": "https://localhost:8080/",
     "height": 556
    },
    "id": "zDBNPDydnUNk",
    "outputId": "8b66ecb6-8035-4cc5-acec-34399f31fdc5"
   },
   "outputs": [
    {
     "data": {
      "image/png": "[encoded data removed]",
      "text/plain": [
       "<Figure size 1200x600 with 2 Axes>"
      ]
     },
     "metadata": {},
     "output_type": "display_data"
    }
   ],
   "source": [
    "epochs_range = range(1, epochs + 1)\n",
    "\n",
    "plt.figure(figsize=(12, 6))\n",
    "plt.subplot(1, 2, 1)\n",
    "plt.plot(epochs_range, train_losses, label='Train Loss', color='blue')\n",
    "plt.plot(epochs_range, val_losses, label='Validation Loss', color='orange')\n",
    "plt.title('Loss per Epoch')\n",
    "plt.xlabel('Epochs')\n",
    "plt.ylabel('Loss')\n",
    "plt.legend()\n",
    "\n",
    "# Plot accuracy\n",
    "plt.subplot(1, 2, 2)\n",
    "plt.plot(epochs_range, train_accuracies, label='Train Accuracy', color='blue')\n",
    "plt.plot(epochs_range, val_accuracies, label='Validation Accuracy', color='orange')\n",
    "plt.title('Accuracy per Epoch')\n",
    "plt.xlabel('Epochs')\n",
    "plt.ylabel('Accuracy')\n",
    "plt.legend()\n",
    "\n",
    "plt.tight_layout()\n",
    "plt.show()"
   ]
  },
  {
   "cell_type": "code",
   "execution_count": null,
   "metadata": {
    "colab": {
     "base_uri": "https://localhost:8080/",
     "height": 778
    },
    "id": "KmthQM-et9DA",
    "outputId": "4de32e74-62f1-4592-ddab-92f214fc93b9"
   },
   "outputs": [
    {
     "name": "stdout",
     "output_type": "stream",
     "text": [
      "Total Accuracy: 79.4199 %\n",
      "Classification Report:\n",
      "              precision    recall  f1-score   support\n",
      "\n",
      "       angry       0.73      0.69      0.71       958\n",
      "       happy       0.93      0.82      0.87      1774\n",
      "     neutral       0.69      0.83      0.75      1233\n",
      "\n",
      "    accuracy                           0.79      3965\n",
      "   macro avg       0.78      0.78      0.78      3965\n",
      "weighted avg       0.81      0.79      0.80      3965\n",
      "\n"
     ]
    },
    {
     "data": {
      "image/png": "[encoded data removed]",
      "text/plain": [
       "<Figure size 800x600 with 2 Axes>"
      ]
     },
     "metadata": {},
     "output_type": "display_data"
    }
   ],
   "source": [
    "model_test = model\n",
    "model_test.load_state_dict(torch.load('EfficientNet_best_model.pt', weights_only=True))\n",
    "model_test.to(device)\n",
    "class_names = ['angry', 'happy', 'neutral']\n",
    "\n",
    "test_dataset = FerTest()\n",
    "test_loader = DataLoader(test_dataset, batch_size=16, shuffle=False)\n",
    "\n",
    "all_labels = []\n",
    "all_preds = []\n",
    "correct_predictions = 0\n",
    "total_samples = 0\n",
    "model_test.eval()\n",
    "\n",
    "with torch.no_grad():\n",
    "    for images, labels in test_loader:\n",
    "        images = images.to(device)\n",
    "        labels = labels.argmax(dim=1).to(device)\n",
    "        outputs = model_test(images)\n",
    "        _, preds = torch.max(outputs, 1)\n",
    "        all_labels.extend(labels.cpu().numpy())\n",
    "        all_preds.extend(preds.cpu().numpy())\n",
    "        correct_predictions += (preds == labels).sum().item()\n",
    "        total_samples += labels.size(0)\n",
    "\n",
    "total_accuracy = (correct_predictions / total_samples)*100\n",
    "print(f\"Total Accuracy: {total_accuracy:.4f} %\")\n",
    "\n",
    "report = classification_report(all_labels, all_preds, target_names=class_names)\n",
    "print(\"Classification Report:\")\n",
    "print(report)\n",
    "\n",
    "conf_matrix = confusion_matrix(all_labels, all_preds)\n",
    "plt.figure(figsize=(8, 6))\n",
    "sns.heatmap(conf_matrix, annot=True, fmt=\"d\", cmap=\"Blues\", xticklabels=class_names, yticklabels=class_names)\n",
    "plt.title('Confusion Matrix')\n",
    "plt.xlabel('Predicted')\n",
    "plt.ylabel('True')\n",
    "plt.show()\n"
   ]
  },
  {
   "cell_type": "code",
   "execution_count": 5,
   "metadata": {},
   "outputs": [
    {
     "name": "stdout",
     "output_type": "stream",
     "text": [
      "Loaded pretrained weights for efficientnet-b0\n",
      "----------------------------------------------------------------\n",
      "        Layer (type)               Output Shape         Param #\n",
      "================================================================\n",
      "            Conv2d-1         [-1, 32, 127, 127]             288\n",
      "       BatchNorm2d-2         [-1, 32, 127, 127]              64\n",
      "MemoryEfficientSwish-3         [-1, 32, 127, 127]               0\n",
      "         ZeroPad2d-4         [-1, 32, 129, 129]               0\n",
      "Conv2dStaticSamePadding-5         [-1, 32, 127, 127]             288\n",
      "       BatchNorm2d-6         [-1, 32, 127, 127]              64\n",
      "MemoryEfficientSwish-7         [-1, 32, 127, 127]               0\n",
      "          Identity-8             [-1, 32, 1, 1]               0\n",
      "Conv2dStaticSamePadding-9              [-1, 8, 1, 1]             264\n",
      "MemoryEfficientSwish-10              [-1, 8, 1, 1]               0\n",
      "         Identity-11              [-1, 8, 1, 1]               0\n",
      "Conv2dStaticSamePadding-12             [-1, 32, 1, 1]             288\n",
      "         Identity-13         [-1, 32, 127, 127]               0\n",
      "Conv2dStaticSamePadding-14         [-1, 16, 127, 127]             512\n",
      "      BatchNorm2d-15         [-1, 16, 127, 127]              32\n",
      "      MBConvBlock-16         [-1, 16, 127, 127]               0\n",
      "         Identity-17         [-1, 16, 127, 127]               0\n",
      "Conv2dStaticSamePadding-18         [-1, 96, 127, 127]           1,536\n",
      "      BatchNorm2d-19         [-1, 96, 127, 127]             192\n",
      "MemoryEfficientSwish-20         [-1, 96, 127, 127]               0\n",
      "        ZeroPad2d-21         [-1, 96, 128, 128]               0\n",
      "Conv2dStaticSamePadding-22           [-1, 96, 63, 63]             864\n",
      "      BatchNorm2d-23           [-1, 96, 63, 63]             192\n",
      "MemoryEfficientSwish-24           [-1, 96, 63, 63]               0\n",
      "         Identity-25             [-1, 96, 1, 1]               0\n",
      "Conv2dStaticSamePadding-26              [-1, 4, 1, 1]             388\n",
      "MemoryEfficientSwish-27              [-1, 4, 1, 1]               0\n",
      "         Identity-28              [-1, 4, 1, 1]               0\n",
      "Conv2dStaticSamePadding-29             [-1, 96, 1, 1]             480\n",
      "         Identity-30           [-1, 96, 63, 63]               0\n",
      "Conv2dStaticSamePadding-31           [-1, 24, 63, 63]           2,304\n",
      "      BatchNorm2d-32           [-1, 24, 63, 63]              48\n",
      "      MBConvBlock-33           [-1, 24, 63, 63]               0\n",
      "         Identity-34           [-1, 24, 63, 63]               0\n",
      "Conv2dStaticSamePadding-35          [-1, 144, 63, 63]           3,456\n",
      "      BatchNorm2d-36          [-1, 144, 63, 63]             288\n",
      "MemoryEfficientSwish-37          [-1, 144, 63, 63]               0\n",
      "        ZeroPad2d-38          [-1, 144, 65, 65]               0\n",
      "Conv2dStaticSamePadding-39          [-1, 144, 63, 63]           1,296\n",
      "      BatchNorm2d-40          [-1, 144, 63, 63]             288\n",
      "MemoryEfficientSwish-41          [-1, 144, 63, 63]               0\n",
      "         Identity-42            [-1, 144, 1, 1]               0\n",
      "Conv2dStaticSamePadding-43              [-1, 6, 1, 1]             870\n",
      "MemoryEfficientSwish-44              [-1, 6, 1, 1]               0\n",
      "         Identity-45              [-1, 6, 1, 1]               0\n",
      "Conv2dStaticSamePadding-46            [-1, 144, 1, 1]           1,008\n",
      "         Identity-47          [-1, 144, 63, 63]               0\n",
      "Conv2dStaticSamePadding-48           [-1, 24, 63, 63]           3,456\n",
      "      BatchNorm2d-49           [-1, 24, 63, 63]              48\n",
      "      MBConvBlock-50           [-1, 24, 63, 63]               0\n",
      "         Identity-51           [-1, 24, 63, 63]               0\n",
      "Conv2dStaticSamePadding-52          [-1, 144, 63, 63]           3,456\n",
      "      BatchNorm2d-53          [-1, 144, 63, 63]             288\n",
      "MemoryEfficientSwish-54          [-1, 144, 63, 63]               0\n",
      "        ZeroPad2d-55          [-1, 144, 66, 66]               0\n",
      "Conv2dStaticSamePadding-56          [-1, 144, 31, 31]           3,600\n",
      "      BatchNorm2d-57          [-1, 144, 31, 31]             288\n",
      "MemoryEfficientSwish-58          [-1, 144, 31, 31]               0\n",
      "         Identity-59            [-1, 144, 1, 1]               0\n",
      "Conv2dStaticSamePadding-60              [-1, 6, 1, 1]             870\n",
      "MemoryEfficientSwish-61              [-1, 6, 1, 1]               0\n",
      "         Identity-62              [-1, 6, 1, 1]               0\n",
      "Conv2dStaticSamePadding-63            [-1, 144, 1, 1]           1,008\n",
      "         Identity-64          [-1, 144, 31, 31]               0\n",
      "Conv2dStaticSamePadding-65           [-1, 40, 31, 31]           5,760\n",
      "      BatchNorm2d-66           [-1, 40, 31, 31]              80\n",
      "      MBConvBlock-67           [-1, 40, 31, 31]               0\n",
      "         Identity-68           [-1, 40, 31, 31]               0\n",
      "Conv2dStaticSamePadding-69          [-1, 240, 31, 31]           9,600\n",
      "      BatchNorm2d-70          [-1, 240, 31, 31]             480\n",
      "MemoryEfficientSwish-71          [-1, 240, 31, 31]               0\n",
      "        ZeroPad2d-72          [-1, 240, 35, 35]               0\n",
      "Conv2dStaticSamePadding-73          [-1, 240, 31, 31]           6,000\n",
      "      BatchNorm2d-74          [-1, 240, 31, 31]             480\n",
      "MemoryEfficientSwish-75          [-1, 240, 31, 31]               0\n",
      "         Identity-76            [-1, 240, 1, 1]               0\n",
      "Conv2dStaticSamePadding-77             [-1, 10, 1, 1]           2,410\n",
      "MemoryEfficientSwish-78             [-1, 10, 1, 1]               0\n",
      "         Identity-79             [-1, 10, 1, 1]               0\n",
      "Conv2dStaticSamePadding-80            [-1, 240, 1, 1]           2,640\n",
      "         Identity-81          [-1, 240, 31, 31]               0\n",
      "Conv2dStaticSamePadding-82           [-1, 40, 31, 31]           9,600\n",
      "      BatchNorm2d-83           [-1, 40, 31, 31]              80\n",
      "      MBConvBlock-84           [-1, 40, 31, 31]               0\n",
      "         Identity-85           [-1, 40, 31, 31]               0\n",
      "Conv2dStaticSamePadding-86          [-1, 240, 31, 31]           9,600\n",
      "      BatchNorm2d-87          [-1, 240, 31, 31]             480\n",
      "MemoryEfficientSwish-88          [-1, 240, 31, 31]               0\n",
      "        ZeroPad2d-89          [-1, 240, 32, 32]               0\n",
      "Conv2dStaticSamePadding-90          [-1, 240, 15, 15]           2,160\n",
      "      BatchNorm2d-91          [-1, 240, 15, 15]             480\n",
      "MemoryEfficientSwish-92          [-1, 240, 15, 15]               0\n",
      "         Identity-93            [-1, 240, 1, 1]               0\n",
      "Conv2dStaticSamePadding-94             [-1, 10, 1, 1]           2,410\n",
      "MemoryEfficientSwish-95             [-1, 10, 1, 1]               0\n",
      "         Identity-96             [-1, 10, 1, 1]               0\n",
      "Conv2dStaticSamePadding-97            [-1, 240, 1, 1]           2,640\n",
      "         Identity-98          [-1, 240, 15, 15]               0\n",
      "Conv2dStaticSamePadding-99           [-1, 80, 15, 15]          19,200\n",
      "     BatchNorm2d-100           [-1, 80, 15, 15]             160\n",
      "     MBConvBlock-101           [-1, 80, 15, 15]               0\n",
      "        Identity-102           [-1, 80, 15, 15]               0\n",
      "Conv2dStaticSamePadding-103          [-1, 480, 15, 15]          38,400\n",
      "     BatchNorm2d-104          [-1, 480, 15, 15]             960\n",
      "MemoryEfficientSwish-105          [-1, 480, 15, 15]               0\n",
      "       ZeroPad2d-106          [-1, 480, 17, 17]               0\n",
      "Conv2dStaticSamePadding-107          [-1, 480, 15, 15]           4,320\n",
      "     BatchNorm2d-108          [-1, 480, 15, 15]             960\n",
      "MemoryEfficientSwish-109          [-1, 480, 15, 15]               0\n",
      "        Identity-110            [-1, 480, 1, 1]               0\n",
      "Conv2dStaticSamePadding-111             [-1, 20, 1, 1]           9,620\n",
      "MemoryEfficientSwish-112             [-1, 20, 1, 1]               0\n",
      "        Identity-113             [-1, 20, 1, 1]               0\n",
      "Conv2dStaticSamePadding-114            [-1, 480, 1, 1]          10,080\n",
      "        Identity-115          [-1, 480, 15, 15]               0\n",
      "Conv2dStaticSamePadding-116           [-1, 80, 15, 15]          38,400\n",
      "     BatchNorm2d-117           [-1, 80, 15, 15]             160\n",
      "     MBConvBlock-118           [-1, 80, 15, 15]               0\n",
      "        Identity-119           [-1, 80, 15, 15]               0\n",
      "Conv2dStaticSamePadding-120          [-1, 480, 15, 15]          38,400\n",
      "     BatchNorm2d-121          [-1, 480, 15, 15]             960\n",
      "MemoryEfficientSwish-122          [-1, 480, 15, 15]               0\n",
      "       ZeroPad2d-123          [-1, 480, 17, 17]               0\n",
      "Conv2dStaticSamePadding-124          [-1, 480, 15, 15]           4,320\n",
      "     BatchNorm2d-125          [-1, 480, 15, 15]             960\n",
      "MemoryEfficientSwish-126          [-1, 480, 15, 15]               0\n",
      "        Identity-127            [-1, 480, 1, 1]               0\n",
      "Conv2dStaticSamePadding-128             [-1, 20, 1, 1]           9,620\n",
      "MemoryEfficientSwish-129             [-1, 20, 1, 1]               0\n",
      "        Identity-130             [-1, 20, 1, 1]               0\n",
      "Conv2dStaticSamePadding-131            [-1, 480, 1, 1]          10,080\n",
      "        Identity-132          [-1, 480, 15, 15]               0\n",
      "Conv2dStaticSamePadding-133           [-1, 80, 15, 15]          38,400\n",
      "     BatchNorm2d-134           [-1, 80, 15, 15]             160\n",
      "     MBConvBlock-135           [-1, 80, 15, 15]               0\n",
      "        Identity-136           [-1, 80, 15, 15]               0\n",
      "Conv2dStaticSamePadding-137          [-1, 480, 15, 15]          38,400\n",
      "     BatchNorm2d-138          [-1, 480, 15, 15]             960\n",
      "MemoryEfficientSwish-139          [-1, 480, 15, 15]               0\n",
      "       ZeroPad2d-140          [-1, 480, 19, 19]               0\n",
      "Conv2dStaticSamePadding-141          [-1, 480, 15, 15]          12,000\n",
      "     BatchNorm2d-142          [-1, 480, 15, 15]             960\n",
      "MemoryEfficientSwish-143          [-1, 480, 15, 15]               0\n",
      "        Identity-144            [-1, 480, 1, 1]               0\n",
      "Conv2dStaticSamePadding-145             [-1, 20, 1, 1]           9,620\n",
      "MemoryEfficientSwish-146             [-1, 20, 1, 1]               0\n",
      "        Identity-147             [-1, 20, 1, 1]               0\n",
      "Conv2dStaticSamePadding-148            [-1, 480, 1, 1]          10,080\n",
      "        Identity-149          [-1, 480, 15, 15]               0\n",
      "Conv2dStaticSamePadding-150          [-1, 112, 15, 15]          53,760\n",
      "     BatchNorm2d-151          [-1, 112, 15, 15]             224\n",
      "     MBConvBlock-152          [-1, 112, 15, 15]               0\n",
      "        Identity-153          [-1, 112, 15, 15]               0\n",
      "Conv2dStaticSamePadding-154          [-1, 672, 15, 15]          75,264\n",
      "     BatchNorm2d-155          [-1, 672, 15, 15]           1,344\n",
      "MemoryEfficientSwish-156          [-1, 672, 15, 15]               0\n",
      "       ZeroPad2d-157          [-1, 672, 19, 19]               0\n",
      "Conv2dStaticSamePadding-158          [-1, 672, 15, 15]          16,800\n",
      "     BatchNorm2d-159          [-1, 672, 15, 15]           1,344\n",
      "MemoryEfficientSwish-160          [-1, 672, 15, 15]               0\n",
      "        Identity-161            [-1, 672, 1, 1]               0\n",
      "Conv2dStaticSamePadding-162             [-1, 28, 1, 1]          18,844\n",
      "MemoryEfficientSwish-163             [-1, 28, 1, 1]               0\n",
      "        Identity-164             [-1, 28, 1, 1]               0\n",
      "Conv2dStaticSamePadding-165            [-1, 672, 1, 1]          19,488\n",
      "        Identity-166          [-1, 672, 15, 15]               0\n",
      "Conv2dStaticSamePadding-167          [-1, 112, 15, 15]          75,264\n",
      "     BatchNorm2d-168          [-1, 112, 15, 15]             224\n",
      "     MBConvBlock-169          [-1, 112, 15, 15]               0\n",
      "        Identity-170          [-1, 112, 15, 15]               0\n",
      "Conv2dStaticSamePadding-171          [-1, 672, 15, 15]          75,264\n",
      "     BatchNorm2d-172          [-1, 672, 15, 15]           1,344\n",
      "MemoryEfficientSwish-173          [-1, 672, 15, 15]               0\n",
      "       ZeroPad2d-174          [-1, 672, 19, 19]               0\n",
      "Conv2dStaticSamePadding-175          [-1, 672, 15, 15]          16,800\n",
      "     BatchNorm2d-176          [-1, 672, 15, 15]           1,344\n",
      "MemoryEfficientSwish-177          [-1, 672, 15, 15]               0\n",
      "        Identity-178            [-1, 672, 1, 1]               0\n",
      "Conv2dStaticSamePadding-179             [-1, 28, 1, 1]          18,844\n",
      "MemoryEfficientSwish-180             [-1, 28, 1, 1]               0\n",
      "        Identity-181             [-1, 28, 1, 1]               0\n",
      "Conv2dStaticSamePadding-182            [-1, 672, 1, 1]          19,488\n",
      "        Identity-183          [-1, 672, 15, 15]               0\n",
      "Conv2dStaticSamePadding-184          [-1, 112, 15, 15]          75,264\n",
      "     BatchNorm2d-185          [-1, 112, 15, 15]             224\n",
      "     MBConvBlock-186          [-1, 112, 15, 15]               0\n",
      "        Identity-187          [-1, 112, 15, 15]               0\n",
      "Conv2dStaticSamePadding-188          [-1, 672, 15, 15]          75,264\n",
      "     BatchNorm2d-189          [-1, 672, 15, 15]           1,344\n",
      "MemoryEfficientSwish-190          [-1, 672, 15, 15]               0\n",
      "       ZeroPad2d-191          [-1, 672, 18, 18]               0\n",
      "Conv2dStaticSamePadding-192            [-1, 672, 7, 7]          16,800\n",
      "     BatchNorm2d-193            [-1, 672, 7, 7]           1,344\n",
      "MemoryEfficientSwish-194            [-1, 672, 7, 7]               0\n",
      "        Identity-195            [-1, 672, 1, 1]               0\n",
      "Conv2dStaticSamePadding-196             [-1, 28, 1, 1]          18,844\n",
      "MemoryEfficientSwish-197             [-1, 28, 1, 1]               0\n",
      "        Identity-198             [-1, 28, 1, 1]               0\n",
      "Conv2dStaticSamePadding-199            [-1, 672, 1, 1]          19,488\n",
      "        Identity-200            [-1, 672, 7, 7]               0\n",
      "Conv2dStaticSamePadding-201            [-1, 192, 7, 7]         129,024\n",
      "     BatchNorm2d-202            [-1, 192, 7, 7]             384\n",
      "     MBConvBlock-203            [-1, 192, 7, 7]               0\n",
      "        Identity-204            [-1, 192, 7, 7]               0\n",
      "Conv2dStaticSamePadding-205           [-1, 1152, 7, 7]         221,184\n",
      "     BatchNorm2d-206           [-1, 1152, 7, 7]           2,304\n",
      "MemoryEfficientSwish-207           [-1, 1152, 7, 7]               0\n",
      "       ZeroPad2d-208         [-1, 1152, 11, 11]               0\n",
      "Conv2dStaticSamePadding-209           [-1, 1152, 7, 7]          28,800\n",
      "     BatchNorm2d-210           [-1, 1152, 7, 7]           2,304\n",
      "MemoryEfficientSwish-211           [-1, 1152, 7, 7]               0\n",
      "        Identity-212           [-1, 1152, 1, 1]               0\n",
      "Conv2dStaticSamePadding-213             [-1, 48, 1, 1]          55,344\n",
      "MemoryEfficientSwish-214             [-1, 48, 1, 1]               0\n",
      "        Identity-215             [-1, 48, 1, 1]               0\n",
      "Conv2dStaticSamePadding-216           [-1, 1152, 1, 1]          56,448\n",
      "        Identity-217           [-1, 1152, 7, 7]               0\n",
      "Conv2dStaticSamePadding-218            [-1, 192, 7, 7]         221,184\n",
      "     BatchNorm2d-219            [-1, 192, 7, 7]             384\n",
      "     MBConvBlock-220            [-1, 192, 7, 7]               0\n",
      "        Identity-221            [-1, 192, 7, 7]               0\n",
      "Conv2dStaticSamePadding-222           [-1, 1152, 7, 7]         221,184\n",
      "     BatchNorm2d-223           [-1, 1152, 7, 7]           2,304\n",
      "MemoryEfficientSwish-224           [-1, 1152, 7, 7]               0\n",
      "       ZeroPad2d-225         [-1, 1152, 11, 11]               0\n",
      "Conv2dStaticSamePadding-226           [-1, 1152, 7, 7]          28,800\n",
      "     BatchNorm2d-227           [-1, 1152, 7, 7]           2,304\n",
      "MemoryEfficientSwish-228           [-1, 1152, 7, 7]               0\n",
      "        Identity-229           [-1, 1152, 1, 1]               0\n",
      "Conv2dStaticSamePadding-230             [-1, 48, 1, 1]          55,344\n",
      "MemoryEfficientSwish-231             [-1, 48, 1, 1]               0\n",
      "        Identity-232             [-1, 48, 1, 1]               0\n",
      "Conv2dStaticSamePadding-233           [-1, 1152, 1, 1]          56,448\n",
      "        Identity-234           [-1, 1152, 7, 7]               0\n",
      "Conv2dStaticSamePadding-235            [-1, 192, 7, 7]         221,184\n",
      "     BatchNorm2d-236            [-1, 192, 7, 7]             384\n",
      "     MBConvBlock-237            [-1, 192, 7, 7]               0\n",
      "        Identity-238            [-1, 192, 7, 7]               0\n",
      "Conv2dStaticSamePadding-239           [-1, 1152, 7, 7]         221,184\n",
      "     BatchNorm2d-240           [-1, 1152, 7, 7]           2,304\n",
      "MemoryEfficientSwish-241           [-1, 1152, 7, 7]               0\n",
      "       ZeroPad2d-242         [-1, 1152, 11, 11]               0\n",
      "Conv2dStaticSamePadding-243           [-1, 1152, 7, 7]          28,800\n",
      "     BatchNorm2d-244           [-1, 1152, 7, 7]           2,304\n",
      "MemoryEfficientSwish-245           [-1, 1152, 7, 7]               0\n",
      "        Identity-246           [-1, 1152, 1, 1]               0\n",
      "Conv2dStaticSamePadding-247             [-1, 48, 1, 1]          55,344\n",
      "MemoryEfficientSwish-248             [-1, 48, 1, 1]               0\n",
      "        Identity-249             [-1, 48, 1, 1]               0\n",
      "Conv2dStaticSamePadding-250           [-1, 1152, 1, 1]          56,448\n",
      "        Identity-251           [-1, 1152, 7, 7]               0\n",
      "Conv2dStaticSamePadding-252            [-1, 192, 7, 7]         221,184\n",
      "     BatchNorm2d-253            [-1, 192, 7, 7]             384\n",
      "     MBConvBlock-254            [-1, 192, 7, 7]               0\n",
      "        Identity-255            [-1, 192, 7, 7]               0\n",
      "Conv2dStaticSamePadding-256           [-1, 1152, 7, 7]         221,184\n",
      "     BatchNorm2d-257           [-1, 1152, 7, 7]           2,304\n",
      "MemoryEfficientSwish-258           [-1, 1152, 7, 7]               0\n",
      "       ZeroPad2d-259           [-1, 1152, 9, 9]               0\n",
      "Conv2dStaticSamePadding-260           [-1, 1152, 7, 7]          10,368\n",
      "     BatchNorm2d-261           [-1, 1152, 7, 7]           2,304\n",
      "MemoryEfficientSwish-262           [-1, 1152, 7, 7]               0\n",
      "        Identity-263           [-1, 1152, 1, 1]               0\n",
      "Conv2dStaticSamePadding-264             [-1, 48, 1, 1]          55,344\n",
      "MemoryEfficientSwish-265             [-1, 48, 1, 1]               0\n",
      "        Identity-266             [-1, 48, 1, 1]               0\n",
      "Conv2dStaticSamePadding-267           [-1, 1152, 1, 1]          56,448\n",
      "        Identity-268           [-1, 1152, 7, 7]               0\n",
      "Conv2dStaticSamePadding-269            [-1, 320, 7, 7]         368,640\n",
      "     BatchNorm2d-270            [-1, 320, 7, 7]             640\n",
      "     MBConvBlock-271            [-1, 320, 7, 7]               0\n",
      "        Identity-272            [-1, 320, 7, 7]               0\n",
      "Conv2dStaticSamePadding-273           [-1, 1280, 7, 7]         409,600\n",
      "     BatchNorm2d-274           [-1, 1280, 7, 7]           2,560\n",
      "MemoryEfficientSwish-275           [-1, 1280, 7, 7]               0\n",
      "AdaptiveAvgPool2d-276           [-1, 1280, 1, 1]               0\n",
      "         Dropout-277                 [-1, 1280]               0\n",
      "          Linear-278                    [-1, 3]           3,843\n",
      "================================================================\n",
      "Total params: 4,010,815\n",
      "Trainable params: 4,010,815\n",
      "Non-trainable params: 0\n",
      "----------------------------------------------------------------\n",
      "Input size (MB): 0.25\n",
      "Forward/backward pass size (MB): 257.21\n",
      "Params size (MB): 15.30\n",
      "Estimated Total Size (MB): 272.76\n",
      "----------------------------------------------------------------\n"
     ]
    }
   ],
   "source": [
    "model = EfficientNet.from_pretrained('efficientnet-b0')\n",
    "\n",
    "# Adjust the first convolutional layer to accept 1-channel input\n",
    "# EfficientNet's first conv layer is `_conv_stem`\n",
    "# Create a new conv layer with 1 input channel, same output channels, kernel size, etc.\n",
    "conv_stem = model._conv_stem\n",
    "new_conv_stem = nn.Conv2d(\n",
    "    in_channels=1,  # Change to 1 channel for grayscale\n",
    "    out_channels=conv_stem.out_channels,\n",
    "    kernel_size=conv_stem.kernel_size,\n",
    "    stride=conv_stem.stride,\n",
    "    padding=conv_stem.padding,\n",
    "    bias=conv_stem.bias is not None,\n",
    "    groups=conv_stem.groups,\n",
    "    dilation=conv_stem.dilation,\n",
    ")\n",
    "# Copy weights from the original conv layer (average them for the grayscale case)\n",
    "with torch.no_grad():\n",
    "    new_conv_stem.weight[:, 0, :, :] = conv_stem.weight.mean(dim=1)\n",
    "model._conv_stem = new_conv_stem\n",
    "num_features = model._fc.in_features\n",
    "model._fc = nn.Linear(num_features, 3)\n",
    "\n",
    "\n",
    "device = torch.device(\"cuda\" if torch.cuda.is_available() else \"cpu\")\n",
    "model = model.to(device)\n",
    "summary(model, (1, 256, 256))"
   ]
  },
  {
   "cell_type": "code",
   "execution_count": 6,
   "metadata": {},
   "outputs": [
    {
     "name": "stdout",
     "output_type": "stream",
     "text": [
      "Total Accuracy: 33.3333 %\n",
      "Classification Report:\n",
      "              precision    recall  f1-score   support\n",
      "\n",
      "       angry       0.00      0.00      0.00       396\n",
      "       happy       0.00      0.00      0.00       396\n",
      "     neutral       0.33      1.00      0.50       396\n",
      "\n",
      "    accuracy                           0.33      1188\n",
      "   macro avg       0.11      0.33      0.17      1188\n",
      "weighted avg       0.11      0.33      0.17      1188\n",
      "\n"
     ]
    },
    {
     "name": "stderr",
     "output_type": "stream",
     "text": [
      "c:\\ProgramData\\anaconda3\\Lib\\site-packages\\sklearn\\metrics\\_classification.py:1531: UndefinedMetricWarning: Precision is ill-defined and being set to 0.0 in labels with no predicted samples. Use `zero_division` parameter to control this behavior.\n",
      "  _warn_prf(average, modifier, f\"{metric.capitalize()} is\", len(result))\n",
      "c:\\ProgramData\\anaconda3\\Lib\\site-packages\\sklearn\\metrics\\_classification.py:1531: UndefinedMetricWarning: Precision is ill-defined and being set to 0.0 in labels with no predicted samples. Use `zero_division` parameter to control this behavior.\n",
      "  _warn_prf(average, modifier, f\"{metric.capitalize()} is\", len(result))\n",
      "c:\\ProgramData\\anaconda3\\Lib\\site-packages\\sklearn\\metrics\\_classification.py:1531: UndefinedMetricWarning: Precision is ill-defined and being set to 0.0 in labels with no predicted samples. Use `zero_division` parameter to control this behavior.\n",
      "  _warn_prf(average, modifier, f\"{metric.capitalize()} is\", len(result))\n"
     ]
    },
    {
     "data": {
      "image/png": "[encoded data removed]",
      "text/plain": [
       "<Figure size 800x600 with 2 Axes>"
      ]
     },
     "metadata": {},
     "output_type": "display_data"
    }
   ],
   "source": [
    "model_driving_test = model\n",
    "model_driving_test.load_state_dict(torch.load('EfficientNet_best_model.pt', weights_only=True))\n",
    "model_driving_test.to(device)\n",
    "class_names = ['angry', 'happy', 'neutral']\n",
    "\n",
    "test_dataset = FerDrivingTest()\n",
    "test_loader = DataLoader(test_dataset, batch_size=16, shuffle=False)\n",
    "\n",
    "all_labels = []\n",
    "all_preds = []\n",
    "correct_predictions = 0\n",
    "total_samples = 0\n",
    "model_driving_test.eval()\n",
    "\n",
    "with torch.no_grad():\n",
    "    for images, labels in test_loader:\n",
    "        images = images.to(device)\n",
    "        labels = labels.argmax(dim=1).to(device)\n",
    "        outputs = model_driving_test(images)\n",
    "        _, preds = torch.max(outputs, 1)\n",
    "        all_labels.extend(labels.cpu().numpy())\n",
    "        all_preds.extend(preds.cpu().numpy())\n",
    "        correct_predictions += (preds == labels).sum().item()\n",
    "        total_samples += labels.size(0)\n",
    "\n",
    "total_accuracy = (correct_predictions / total_samples)*100\n",
    "print(f\"Total Accuracy: {total_accuracy:.4f} %\")\n",
    "\n",
    "report = classification_report(all_labels, all_preds, target_names=class_names)\n",
    "print(\"Classification Report:\")\n",
    "print(report)\n",
    "\n",
    "conf_matrix = confusion_matrix(all_labels, all_preds)\n",
    "plt.figure(figsize=(8, 6))\n",
    "sns.heatmap(conf_matrix, annot=True, fmt=\"d\", cmap=\"Blues\", xticklabels=class_names, yticklabels=class_names)\n",
    "plt.title('Confusion Matrix')\n",
    "plt.xlabel('Predicted')\n",
    "plt.ylabel('True')\n",
    "plt.show()\n"
   ]
  },
  {
   "cell_type": "markdown",
   "metadata": {},
   "source": [
    "## Fine Tuning"
   ]
  },
  {
   "cell_type": "code",
   "execution_count": 6,
   "metadata": {},
   "outputs": [],
   "source": [
    "class DrivingFineTune(Dataset):\n",
    "    def __init__(self, samples=100): # add additional parameters needed to load the dataset e.g dataset path\n",
    "        self.train_images  = np.load('train_images_fine_tune.npy')\n",
    "        random_samples = np.random.randint(self.train_images.shape[0], size=samples)\n",
    "        self.train_images = self.train_images[random_samples, :]\n",
    "        self.train_labels = np.load('train_labels_fine_tune.npy')\n",
    "        self.train_labels = self.train_labels[random_samples,:]\n",
    "        len(self.train_images.shape)\n",
    "\n",
    "    def __len__(self):\n",
    "        return len(self.train_images)\n",
    "\n",
    "    def __getitem__(self, idx):\n",
    "        img = self.train_images[idx]\n",
    "        # img = cv2.resize(img, (256, 256), interpolation = cv2.INTER_LINEAR)\n",
    "        # img= img.reshape(256,256,1)\n",
    "        img=img.astype(np.float32)\n",
    "        img=img.T\n",
    "        img_tensor = torch.from_numpy(img)\n",
    "\n",
    "        label= torch.from_numpy(self.train_labels[idx]).to(torch.float32)\n",
    "\n",
    "        return img_tensor, label"
   ]
  },
  {
   "cell_type": "code",
   "execution_count": 74,
   "metadata": {},
   "outputs": [],
   "source": [
    "# A = np.load('train_images_fine_tune.npy')\n",
    "# np.random.randint(A.shape[0], size=100)"
   ]
  },
  {
   "cell_type": "code",
   "execution_count": 7,
   "metadata": {},
   "outputs": [
    {
     "name": "stdout",
     "output_type": "stream",
     "text": [
      "tensor([1., 0., 0.])\n",
      "tensor([0., 0., 1.])\n",
      "tensor([0., 1., 0.])\n"
     ]
    }
   ],
   "source": [
    "t = DrivingFineTune()\n",
    "print(t.__getitem__(0)[1])\n",
    "print(t.__getitem__(30)[1])\n",
    "print(t.__getitem__(99)[1])\n"
   ]
  },
  {
   "cell_type": "code",
   "execution_count": 8,
   "metadata": {},
   "outputs": [
    {
     "name": "stdout",
     "output_type": "stream",
     "text": [
      "Loaded pretrained weights for efficientnet-b0\n",
      "----------------------------------------------------------------\n",
      "        Layer (type)               Output Shape         Param #\n",
      "================================================================\n",
      "            Conv2d-1         [-1, 32, 127, 127]             288\n",
      "       BatchNorm2d-2         [-1, 32, 127, 127]              64\n",
      "MemoryEfficientSwish-3         [-1, 32, 127, 127]               0\n",
      "         ZeroPad2d-4         [-1, 32, 129, 129]               0\n",
      "Conv2dStaticSamePadding-5         [-1, 32, 127, 127]             288\n",
      "       BatchNorm2d-6         [-1, 32, 127, 127]              64\n",
      "MemoryEfficientSwish-7         [-1, 32, 127, 127]               0\n",
      "          Identity-8             [-1, 32, 1, 1]               0\n",
      "Conv2dStaticSamePadding-9              [-1, 8, 1, 1]             264\n",
      "MemoryEfficientSwish-10              [-1, 8, 1, 1]               0\n",
      "         Identity-11              [-1, 8, 1, 1]               0\n",
      "Conv2dStaticSamePadding-12             [-1, 32, 1, 1]             288\n",
      "         Identity-13         [-1, 32, 127, 127]               0\n",
      "Conv2dStaticSamePadding-14         [-1, 16, 127, 127]             512\n",
      "      BatchNorm2d-15         [-1, 16, 127, 127]              32\n",
      "      MBConvBlock-16         [-1, 16, 127, 127]               0\n",
      "         Identity-17         [-1, 16, 127, 127]               0\n",
      "Conv2dStaticSamePadding-18         [-1, 96, 127, 127]           1,536\n",
      "      BatchNorm2d-19         [-1, 96, 127, 127]             192\n",
      "MemoryEfficientSwish-20         [-1, 96, 127, 127]               0\n",
      "        ZeroPad2d-21         [-1, 96, 128, 128]               0\n",
      "Conv2dStaticSamePadding-22           [-1, 96, 63, 63]             864\n",
      "      BatchNorm2d-23           [-1, 96, 63, 63]             192\n",
      "MemoryEfficientSwish-24           [-1, 96, 63, 63]               0\n",
      "         Identity-25             [-1, 96, 1, 1]               0\n",
      "Conv2dStaticSamePadding-26              [-1, 4, 1, 1]             388\n",
      "MemoryEfficientSwish-27              [-1, 4, 1, 1]               0\n",
      "         Identity-28              [-1, 4, 1, 1]               0\n",
      "Conv2dStaticSamePadding-29             [-1, 96, 1, 1]             480\n",
      "         Identity-30           [-1, 96, 63, 63]               0\n",
      "Conv2dStaticSamePadding-31           [-1, 24, 63, 63]           2,304\n",
      "      BatchNorm2d-32           [-1, 24, 63, 63]              48\n",
      "      MBConvBlock-33           [-1, 24, 63, 63]               0\n",
      "         Identity-34           [-1, 24, 63, 63]               0\n",
      "Conv2dStaticSamePadding-35          [-1, 144, 63, 63]           3,456\n",
      "      BatchNorm2d-36          [-1, 144, 63, 63]             288\n",
      "MemoryEfficientSwish-37          [-1, 144, 63, 63]               0\n",
      "        ZeroPad2d-38          [-1, 144, 65, 65]               0\n",
      "Conv2dStaticSamePadding-39          [-1, 144, 63, 63]           1,296\n",
      "      BatchNorm2d-40          [-1, 144, 63, 63]             288\n",
      "MemoryEfficientSwish-41          [-1, 144, 63, 63]               0\n",
      "         Identity-42            [-1, 144, 1, 1]               0\n",
      "Conv2dStaticSamePadding-43              [-1, 6, 1, 1]             870\n",
      "MemoryEfficientSwish-44              [-1, 6, 1, 1]               0\n",
      "         Identity-45              [-1, 6, 1, 1]               0\n",
      "Conv2dStaticSamePadding-46            [-1, 144, 1, 1]           1,008\n",
      "         Identity-47          [-1, 144, 63, 63]               0\n",
      "Conv2dStaticSamePadding-48           [-1, 24, 63, 63]           3,456\n",
      "      BatchNorm2d-49           [-1, 24, 63, 63]              48\n",
      "      MBConvBlock-50           [-1, 24, 63, 63]               0\n",
      "         Identity-51           [-1, 24, 63, 63]               0\n",
      "Conv2dStaticSamePadding-52          [-1, 144, 63, 63]           3,456\n",
      "      BatchNorm2d-53          [-1, 144, 63, 63]             288\n",
      "MemoryEfficientSwish-54          [-1, 144, 63, 63]               0\n",
      "        ZeroPad2d-55          [-1, 144, 66, 66]               0\n",
      "Conv2dStaticSamePadding-56          [-1, 144, 31, 31]           3,600\n",
      "      BatchNorm2d-57          [-1, 144, 31, 31]             288\n",
      "MemoryEfficientSwish-58          [-1, 144, 31, 31]               0\n",
      "         Identity-59            [-1, 144, 1, 1]               0\n",
      "Conv2dStaticSamePadding-60              [-1, 6, 1, 1]             870\n",
      "MemoryEfficientSwish-61              [-1, 6, 1, 1]               0\n",
      "         Identity-62              [-1, 6, 1, 1]               0\n",
      "Conv2dStaticSamePadding-63            [-1, 144, 1, 1]           1,008\n",
      "         Identity-64          [-1, 144, 31, 31]               0\n",
      "Conv2dStaticSamePadding-65           [-1, 40, 31, 31]           5,760\n",
      "      BatchNorm2d-66           [-1, 40, 31, 31]              80\n",
      "      MBConvBlock-67           [-1, 40, 31, 31]               0\n",
      "         Identity-68           [-1, 40, 31, 31]               0\n",
      "Conv2dStaticSamePadding-69          [-1, 240, 31, 31]           9,600\n",
      "      BatchNorm2d-70          [-1, 240, 31, 31]             480\n",
      "MemoryEfficientSwish-71          [-1, 240, 31, 31]               0\n",
      "        ZeroPad2d-72          [-1, 240, 35, 35]               0\n",
      "Conv2dStaticSamePadding-73          [-1, 240, 31, 31]           6,000\n",
      "      BatchNorm2d-74          [-1, 240, 31, 31]             480\n",
      "MemoryEfficientSwish-75          [-1, 240, 31, 31]               0\n",
      "         Identity-76            [-1, 240, 1, 1]               0\n",
      "Conv2dStaticSamePadding-77             [-1, 10, 1, 1]           2,410\n",
      "MemoryEfficientSwish-78             [-1, 10, 1, 1]               0\n",
      "         Identity-79             [-1, 10, 1, 1]               0\n",
      "Conv2dStaticSamePadding-80            [-1, 240, 1, 1]           2,640\n",
      "         Identity-81          [-1, 240, 31, 31]               0\n",
      "Conv2dStaticSamePadding-82           [-1, 40, 31, 31]           9,600\n",
      "      BatchNorm2d-83           [-1, 40, 31, 31]              80\n",
      "      MBConvBlock-84           [-1, 40, 31, 31]               0\n",
      "         Identity-85           [-1, 40, 31, 31]               0\n",
      "Conv2dStaticSamePadding-86          [-1, 240, 31, 31]           9,600\n",
      "      BatchNorm2d-87          [-1, 240, 31, 31]             480\n",
      "MemoryEfficientSwish-88          [-1, 240, 31, 31]               0\n",
      "        ZeroPad2d-89          [-1, 240, 32, 32]               0\n",
      "Conv2dStaticSamePadding-90          [-1, 240, 15, 15]           2,160\n",
      "      BatchNorm2d-91          [-1, 240, 15, 15]             480\n",
      "MemoryEfficientSwish-92          [-1, 240, 15, 15]               0\n",
      "         Identity-93            [-1, 240, 1, 1]               0\n",
      "Conv2dStaticSamePadding-94             [-1, 10, 1, 1]           2,410\n",
      "MemoryEfficientSwish-95             [-1, 10, 1, 1]               0\n",
      "         Identity-96             [-1, 10, 1, 1]               0\n",
      "Conv2dStaticSamePadding-97            [-1, 240, 1, 1]           2,640\n",
      "         Identity-98          [-1, 240, 15, 15]               0\n",
      "Conv2dStaticSamePadding-99           [-1, 80, 15, 15]          19,200\n",
      "     BatchNorm2d-100           [-1, 80, 15, 15]             160\n",
      "     MBConvBlock-101           [-1, 80, 15, 15]               0\n",
      "        Identity-102           [-1, 80, 15, 15]               0\n",
      "Conv2dStaticSamePadding-103          [-1, 480, 15, 15]          38,400\n",
      "     BatchNorm2d-104          [-1, 480, 15, 15]             960\n",
      "MemoryEfficientSwish-105          [-1, 480, 15, 15]               0\n",
      "       ZeroPad2d-106          [-1, 480, 17, 17]               0\n",
      "Conv2dStaticSamePadding-107          [-1, 480, 15, 15]           4,320\n",
      "     BatchNorm2d-108          [-1, 480, 15, 15]             960\n",
      "MemoryEfficientSwish-109          [-1, 480, 15, 15]               0\n",
      "        Identity-110            [-1, 480, 1, 1]               0\n",
      "Conv2dStaticSamePadding-111             [-1, 20, 1, 1]           9,620\n",
      "MemoryEfficientSwish-112             [-1, 20, 1, 1]               0\n",
      "        Identity-113             [-1, 20, 1, 1]               0\n",
      "Conv2dStaticSamePadding-114            [-1, 480, 1, 1]          10,080\n",
      "        Identity-115          [-1, 480, 15, 15]               0\n",
      "Conv2dStaticSamePadding-116           [-1, 80, 15, 15]          38,400\n",
      "     BatchNorm2d-117           [-1, 80, 15, 15]             160\n",
      "     MBConvBlock-118           [-1, 80, 15, 15]               0\n",
      "        Identity-119           [-1, 80, 15, 15]               0\n",
      "Conv2dStaticSamePadding-120          [-1, 480, 15, 15]          38,400\n",
      "     BatchNorm2d-121          [-1, 480, 15, 15]             960\n",
      "MemoryEfficientSwish-122          [-1, 480, 15, 15]               0\n",
      "       ZeroPad2d-123          [-1, 480, 17, 17]               0\n",
      "Conv2dStaticSamePadding-124          [-1, 480, 15, 15]           4,320\n",
      "     BatchNorm2d-125          [-1, 480, 15, 15]             960\n",
      "MemoryEfficientSwish-126          [-1, 480, 15, 15]               0\n",
      "        Identity-127            [-1, 480, 1, 1]               0\n",
      "Conv2dStaticSamePadding-128             [-1, 20, 1, 1]           9,620\n",
      "MemoryEfficientSwish-129             [-1, 20, 1, 1]               0\n",
      "        Identity-130             [-1, 20, 1, 1]               0\n",
      "Conv2dStaticSamePadding-131            [-1, 480, 1, 1]          10,080\n",
      "        Identity-132          [-1, 480, 15, 15]               0\n",
      "Conv2dStaticSamePadding-133           [-1, 80, 15, 15]          38,400\n",
      "     BatchNorm2d-134           [-1, 80, 15, 15]             160\n",
      "     MBConvBlock-135           [-1, 80, 15, 15]               0\n",
      "        Identity-136           [-1, 80, 15, 15]               0\n",
      "Conv2dStaticSamePadding-137          [-1, 480, 15, 15]          38,400\n",
      "     BatchNorm2d-138          [-1, 480, 15, 15]             960\n",
      "MemoryEfficientSwish-139          [-1, 480, 15, 15]               0\n",
      "       ZeroPad2d-140          [-1, 480, 19, 19]               0\n",
      "Conv2dStaticSamePadding-141          [-1, 480, 15, 15]          12,000\n",
      "     BatchNorm2d-142          [-1, 480, 15, 15]             960\n",
      "MemoryEfficientSwish-143          [-1, 480, 15, 15]               0\n",
      "        Identity-144            [-1, 480, 1, 1]               0\n",
      "Conv2dStaticSamePadding-145             [-1, 20, 1, 1]           9,620\n",
      "MemoryEfficientSwish-146             [-1, 20, 1, 1]               0\n",
      "        Identity-147             [-1, 20, 1, 1]               0\n",
      "Conv2dStaticSamePadding-148            [-1, 480, 1, 1]          10,080\n",
      "        Identity-149          [-1, 480, 15, 15]               0\n",
      "Conv2dStaticSamePadding-150          [-1, 112, 15, 15]          53,760\n",
      "     BatchNorm2d-151          [-1, 112, 15, 15]             224\n",
      "     MBConvBlock-152          [-1, 112, 15, 15]               0\n",
      "        Identity-153          [-1, 112, 15, 15]               0\n",
      "Conv2dStaticSamePadding-154          [-1, 672, 15, 15]          75,264\n",
      "     BatchNorm2d-155          [-1, 672, 15, 15]           1,344\n",
      "MemoryEfficientSwish-156          [-1, 672, 15, 15]               0\n",
      "       ZeroPad2d-157          [-1, 672, 19, 19]               0\n",
      "Conv2dStaticSamePadding-158          [-1, 672, 15, 15]          16,800\n",
      "     BatchNorm2d-159          [-1, 672, 15, 15]           1,344\n",
      "MemoryEfficientSwish-160          [-1, 672, 15, 15]               0\n",
      "        Identity-161            [-1, 672, 1, 1]               0\n",
      "Conv2dStaticSamePadding-162             [-1, 28, 1, 1]          18,844\n",
      "MemoryEfficientSwish-163             [-1, 28, 1, 1]               0\n",
      "        Identity-164             [-1, 28, 1, 1]               0\n",
      "Conv2dStaticSamePadding-165            [-1, 672, 1, 1]          19,488\n",
      "        Identity-166          [-1, 672, 15, 15]               0\n",
      "Conv2dStaticSamePadding-167          [-1, 112, 15, 15]          75,264\n",
      "     BatchNorm2d-168          [-1, 112, 15, 15]             224\n",
      "     MBConvBlock-169          [-1, 112, 15, 15]               0\n",
      "        Identity-170          [-1, 112, 15, 15]               0\n",
      "Conv2dStaticSamePadding-171          [-1, 672, 15, 15]          75,264\n",
      "     BatchNorm2d-172          [-1, 672, 15, 15]           1,344\n",
      "MemoryEfficientSwish-173          [-1, 672, 15, 15]               0\n",
      "       ZeroPad2d-174          [-1, 672, 19, 19]               0\n",
      "Conv2dStaticSamePadding-175          [-1, 672, 15, 15]          16,800\n",
      "     BatchNorm2d-176          [-1, 672, 15, 15]           1,344\n",
      "MemoryEfficientSwish-177          [-1, 672, 15, 15]               0\n",
      "        Identity-178            [-1, 672, 1, 1]               0\n",
      "Conv2dStaticSamePadding-179             [-1, 28, 1, 1]          18,844\n",
      "MemoryEfficientSwish-180             [-1, 28, 1, 1]               0\n",
      "        Identity-181             [-1, 28, 1, 1]               0\n",
      "Conv2dStaticSamePadding-182            [-1, 672, 1, 1]          19,488\n",
      "        Identity-183          [-1, 672, 15, 15]               0\n",
      "Conv2dStaticSamePadding-184          [-1, 112, 15, 15]          75,264\n",
      "     BatchNorm2d-185          [-1, 112, 15, 15]             224\n",
      "     MBConvBlock-186          [-1, 112, 15, 15]               0\n",
      "        Identity-187          [-1, 112, 15, 15]               0\n",
      "Conv2dStaticSamePadding-188          [-1, 672, 15, 15]          75,264\n",
      "     BatchNorm2d-189          [-1, 672, 15, 15]           1,344\n",
      "MemoryEfficientSwish-190          [-1, 672, 15, 15]               0\n",
      "       ZeroPad2d-191          [-1, 672, 18, 18]               0\n",
      "Conv2dStaticSamePadding-192            [-1, 672, 7, 7]          16,800\n",
      "     BatchNorm2d-193            [-1, 672, 7, 7]           1,344\n",
      "MemoryEfficientSwish-194            [-1, 672, 7, 7]               0\n",
      "        Identity-195            [-1, 672, 1, 1]               0\n",
      "Conv2dStaticSamePadding-196             [-1, 28, 1, 1]          18,844\n",
      "MemoryEfficientSwish-197             [-1, 28, 1, 1]               0\n",
      "        Identity-198             [-1, 28, 1, 1]               0\n",
      "Conv2dStaticSamePadding-199            [-1, 672, 1, 1]          19,488\n",
      "        Identity-200            [-1, 672, 7, 7]               0\n",
      "Conv2dStaticSamePadding-201            [-1, 192, 7, 7]         129,024\n",
      "     BatchNorm2d-202            [-1, 192, 7, 7]             384\n",
      "     MBConvBlock-203            [-1, 192, 7, 7]               0\n",
      "        Identity-204            [-1, 192, 7, 7]               0\n",
      "Conv2dStaticSamePadding-205           [-1, 1152, 7, 7]         221,184\n",
      "     BatchNorm2d-206           [-1, 1152, 7, 7]           2,304\n",
      "MemoryEfficientSwish-207           [-1, 1152, 7, 7]               0\n",
      "       ZeroPad2d-208         [-1, 1152, 11, 11]               0\n",
      "Conv2dStaticSamePadding-209           [-1, 1152, 7, 7]          28,800\n",
      "     BatchNorm2d-210           [-1, 1152, 7, 7]           2,304\n",
      "MemoryEfficientSwish-211           [-1, 1152, 7, 7]               0\n",
      "        Identity-212           [-1, 1152, 1, 1]               0\n",
      "Conv2dStaticSamePadding-213             [-1, 48, 1, 1]          55,344\n",
      "MemoryEfficientSwish-214             [-1, 48, 1, 1]               0\n",
      "        Identity-215             [-1, 48, 1, 1]               0\n",
      "Conv2dStaticSamePadding-216           [-1, 1152, 1, 1]          56,448\n",
      "        Identity-217           [-1, 1152, 7, 7]               0\n",
      "Conv2dStaticSamePadding-218            [-1, 192, 7, 7]         221,184\n",
      "     BatchNorm2d-219            [-1, 192, 7, 7]             384\n",
      "     MBConvBlock-220            [-1, 192, 7, 7]               0\n",
      "        Identity-221            [-1, 192, 7, 7]               0\n",
      "Conv2dStaticSamePadding-222           [-1, 1152, 7, 7]         221,184\n",
      "     BatchNorm2d-223           [-1, 1152, 7, 7]           2,304\n",
      "MemoryEfficientSwish-224           [-1, 1152, 7, 7]               0\n",
      "       ZeroPad2d-225         [-1, 1152, 11, 11]               0\n",
      "Conv2dStaticSamePadding-226           [-1, 1152, 7, 7]          28,800\n",
      "     BatchNorm2d-227           [-1, 1152, 7, 7]           2,304\n",
      "MemoryEfficientSwish-228           [-1, 1152, 7, 7]               0\n",
      "        Identity-229           [-1, 1152, 1, 1]               0\n",
      "Conv2dStaticSamePadding-230             [-1, 48, 1, 1]          55,344\n",
      "MemoryEfficientSwish-231             [-1, 48, 1, 1]               0\n",
      "        Identity-232             [-1, 48, 1, 1]               0\n",
      "Conv2dStaticSamePadding-233           [-1, 1152, 1, 1]          56,448\n",
      "        Identity-234           [-1, 1152, 7, 7]               0\n",
      "Conv2dStaticSamePadding-235            [-1, 192, 7, 7]         221,184\n",
      "     BatchNorm2d-236            [-1, 192, 7, 7]             384\n",
      "     MBConvBlock-237            [-1, 192, 7, 7]               0\n",
      "        Identity-238            [-1, 192, 7, 7]               0\n",
      "Conv2dStaticSamePadding-239           [-1, 1152, 7, 7]         221,184\n",
      "     BatchNorm2d-240           [-1, 1152, 7, 7]           2,304\n",
      "MemoryEfficientSwish-241           [-1, 1152, 7, 7]               0\n",
      "       ZeroPad2d-242         [-1, 1152, 11, 11]               0\n",
      "Conv2dStaticSamePadding-243           [-1, 1152, 7, 7]          28,800\n",
      "     BatchNorm2d-244           [-1, 1152, 7, 7]           2,304\n",
      "MemoryEfficientSwish-245           [-1, 1152, 7, 7]               0\n",
      "        Identity-246           [-1, 1152, 1, 1]               0\n",
      "Conv2dStaticSamePadding-247             [-1, 48, 1, 1]          55,344\n",
      "MemoryEfficientSwish-248             [-1, 48, 1, 1]               0\n",
      "        Identity-249             [-1, 48, 1, 1]               0\n",
      "Conv2dStaticSamePadding-250           [-1, 1152, 1, 1]          56,448\n",
      "        Identity-251           [-1, 1152, 7, 7]               0\n",
      "Conv2dStaticSamePadding-252            [-1, 192, 7, 7]         221,184\n",
      "     BatchNorm2d-253            [-1, 192, 7, 7]             384\n",
      "     MBConvBlock-254            [-1, 192, 7, 7]               0\n",
      "        Identity-255            [-1, 192, 7, 7]               0\n",
      "Conv2dStaticSamePadding-256           [-1, 1152, 7, 7]         221,184\n",
      "     BatchNorm2d-257           [-1, 1152, 7, 7]           2,304\n",
      "MemoryEfficientSwish-258           [-1, 1152, 7, 7]               0\n",
      "       ZeroPad2d-259           [-1, 1152, 9, 9]               0\n",
      "Conv2dStaticSamePadding-260           [-1, 1152, 7, 7]          10,368\n",
      "     BatchNorm2d-261           [-1, 1152, 7, 7]           2,304\n",
      "MemoryEfficientSwish-262           [-1, 1152, 7, 7]               0\n",
      "        Identity-263           [-1, 1152, 1, 1]               0\n",
      "Conv2dStaticSamePadding-264             [-1, 48, 1, 1]          55,344\n",
      "MemoryEfficientSwish-265             [-1, 48, 1, 1]               0\n",
      "        Identity-266             [-1, 48, 1, 1]               0\n",
      "Conv2dStaticSamePadding-267           [-1, 1152, 1, 1]          56,448\n",
      "        Identity-268           [-1, 1152, 7, 7]               0\n",
      "Conv2dStaticSamePadding-269            [-1, 320, 7, 7]         368,640\n",
      "     BatchNorm2d-270            [-1, 320, 7, 7]             640\n",
      "     MBConvBlock-271            [-1, 320, 7, 7]               0\n",
      "        Identity-272            [-1, 320, 7, 7]               0\n",
      "Conv2dStaticSamePadding-273           [-1, 1280, 7, 7]         409,600\n",
      "     BatchNorm2d-274           [-1, 1280, 7, 7]           2,560\n",
      "MemoryEfficientSwish-275           [-1, 1280, 7, 7]               0\n",
      "AdaptiveAvgPool2d-276           [-1, 1280, 1, 1]               0\n",
      "         Dropout-277                 [-1, 1280]               0\n",
      "          Linear-278                    [-1, 3]           3,843\n",
      "================================================================\n",
      "Total params: 4,010,815\n",
      "Trainable params: 4,010,815\n",
      "Non-trainable params: 0\n",
      "----------------------------------------------------------------\n",
      "Input size (MB): 0.25\n",
      "Forward/backward pass size (MB): 257.21\n",
      "Params size (MB): 15.30\n",
      "Estimated Total Size (MB): 272.76\n",
      "----------------------------------------------------------------\n"
     ]
    }
   ],
   "source": [
    "model = EfficientNet.from_pretrained('efficientnet-b0')\n",
    "\n",
    "# Adjust the first convolutional layer to accept 1-channel input\n",
    "# EfficientNet's first conv layer is `_conv_stem`\n",
    "# Create a new conv layer with 1 input channel, same output channels, kernel size, etc.\n",
    "conv_stem = model._conv_stem\n",
    "new_conv_stem = nn.Conv2d(\n",
    "    in_channels=1,  # Change to 1 channel for grayscale\n",
    "    out_channels=conv_stem.out_channels,\n",
    "    kernel_size=conv_stem.kernel_size,\n",
    "    stride=conv_stem.stride,\n",
    "    padding=conv_stem.padding,\n",
    "    bias=conv_stem.bias is not None,\n",
    "    groups=conv_stem.groups,\n",
    "    dilation=conv_stem.dilation,\n",
    ")\n",
    "# Copy weights from the original conv layer (average them for the grayscale case)\n",
    "with torch.no_grad():\n",
    "    new_conv_stem.weight[:, 0, :, :] = conv_stem.weight.mean(dim=1)\n",
    "model._conv_stem = new_conv_stem\n",
    "num_features = model._fc.in_features\n",
    "model._fc = nn.Linear(num_features, 3)\n",
    "\n",
    "\n",
    "device = torch.device(\"cuda\" if torch.cuda.is_available() else \"cpu\")\n",
    "model = model.to(device)\n",
    "summary(model, (1, 256, 256))"
   ]
  },
  {
   "cell_type": "code",
   "execution_count": 9,
   "metadata": {},
   "outputs": [
    {
     "name": "stdout",
     "output_type": "stream",
     "text": [
      "Image batch shape: torch.Size([16, 1, 256, 256])\n",
      "Label batch shape: torch.Size([16, 3])\n"
     ]
    }
   ],
   "source": [
    "# split_size_train = int(len(train_fine_tune_dataset) * 0.75)\n",
    "# split_size_val = len(train_fine_tune_dataset) - split_size_train\n",
    "# train, valid = random_split(train_fine_tune_dataset, lengths=[split_size_train, split_size_val])\n",
    "train_fine_tune_dataset = DrivingFineTune()\n",
    "batch_size = 16\n",
    "train_loader = DataLoader(train_fine_tune_dataset, batch_size=batch_size, shuffle=True)\n",
    "# valid_loader = DataLoader(valid, batch_size=batch_size, shuffle=True)\n",
    "\n",
    "for images, labels in train_loader:\n",
    "    print(f\"Image batch shape: {images.shape}\")\n",
    "    print(f\"Label batch shape: {labels.shape}\")\n",
    "    break"
   ]
  },
  {
   "cell_type": "code",
   "execution_count": 15,
   "metadata": {},
   "outputs": [
    {
     "data": {
      "application/vnd.jupyter.widget-view+json": {
       "model_id": "76ef09e5ffb5450db3314de564099c9f",
       "version_major": 2,
       "version_minor": 0
      },
      "text/plain": [
       "Training Progress:   0%|          | 0/50 [00:00<?, ?it/s]"
      ]
     },
     "metadata": {},
     "output_type": "display_data"
    },
    {
     "name": "stdout",
     "output_type": "stream",
     "text": [
      "Samples: 100 Epoch [50/50], Train Loss: 0.0008, Train Acc: 1.0000 \n"
     ]
    },
    {
     "data": {
      "application/vnd.jupyter.widget-view+json": {
       "model_id": "927a0a6615f44cba9f63dfa7d07c092e",
       "version_major": 2,
       "version_minor": 0
      },
      "text/plain": [
       "Training Progress:   0%|          | 0/50 [00:00<?, ?it/s]"
      ]
     },
     "metadata": {},
     "output_type": "display_data"
    },
    {
     "name": "stdout",
     "output_type": "stream",
     "text": [
      "Samples: 200 Epoch [50/50], Train Loss: 0.0022, Train Acc: 1.0000 \n"
     ]
    },
    {
     "data": {
      "application/vnd.jupyter.widget-view+json": {
       "model_id": "2bd3cc358f2745b881fc6c177c56c91e",
       "version_major": 2,
       "version_minor": 0
      },
      "text/plain": [
       "Training Progress:   0%|          | 0/50 [00:00<?, ?it/s]"
      ]
     },
     "metadata": {},
     "output_type": "display_data"
    },
    {
     "name": "stdout",
     "output_type": "stream",
     "text": [
      "Samples: 300 Epoch [50/50], Train Loss: 0.0585, Train Acc: 0.9901 \n"
     ]
    },
    {
     "data": {
      "application/vnd.jupyter.widget-view+json": {
       "model_id": "23e9a3c07a234670a465a98de8839ab9",
       "version_major": 2,
       "version_minor": 0
      },
      "text/plain": [
       "Training Progress:   0%|          | 0/50 [00:00<?, ?it/s]"
      ]
     },
     "metadata": {},
     "output_type": "display_data"
    },
    {
     "name": "stdout",
     "output_type": "stream",
     "text": [
      "Samples: 400 Epoch [50/50], Train Loss: 0.0044, Train Acc: 1.0000 \n"
     ]
    },
    {
     "data": {
      "application/vnd.jupyter.widget-view+json": {
       "model_id": "2c8770d5b3c54db28d4edffa564d545f",
       "version_major": 2,
       "version_minor": 0
      },
      "text/plain": [
       "Training Progress:   0%|          | 0/50 [00:00<?, ?it/s]"
      ]
     },
     "metadata": {},
     "output_type": "display_data"
    },
    {
     "name": "stdout",
     "output_type": "stream",
     "text": [
      "Samples: 500 Epoch [50/50], Train Loss: 0.0017, Train Acc: 1.0000 \n"
     ]
    },
    {
     "data": {
      "application/vnd.jupyter.widget-view+json": {
       "model_id": "0129b62ed4d54ca5926951949d46cca2",
       "version_major": 2,
       "version_minor": 0
      },
      "text/plain": [
       "Training Progress:   0%|          | 0/50 [00:00<?, ?it/s]"
      ]
     },
     "metadata": {},
     "output_type": "display_data"
    },
    {
     "name": "stdout",
     "output_type": "stream",
     "text": [
      "Samples: 600 Epoch [50/50], Train Loss: 0.0033, Train Acc: 1.0000 \n"
     ]
    },
    {
     "data": {
      "application/vnd.jupyter.widget-view+json": {
       "model_id": "26d1ff0ae1cc40bdbbc8eae6c3c48a84",
       "version_major": 2,
       "version_minor": 0
      },
      "text/plain": [
       "Training Progress:   0%|          | 0/50 [00:00<?, ?it/s]"
      ]
     },
     "metadata": {},
     "output_type": "display_data"
    },
    {
     "name": "stdout",
     "output_type": "stream",
     "text": [
      "Samples: 700 Epoch [50/50], Train Loss: 0.0011, Train Acc: 1.0000 \n"
     ]
    },
    {
     "data": {
      "application/vnd.jupyter.widget-view+json": {
       "model_id": "ae9705755cda4cf4af0427fa844f2126",
       "version_major": 2,
       "version_minor": 0
      },
      "text/plain": [
       "Training Progress:   0%|          | 0/50 [00:00<?, ?it/s]"
      ]
     },
     "metadata": {},
     "output_type": "display_data"
    },
    {
     "name": "stdout",
     "output_type": "stream",
     "text": [
      "Samples: 800 Epoch [50/50], Train Loss: 0.0126, Train Acc: 0.9975 \n"
     ]
    }
   ],
   "source": [
    "# Maybe we could change here to fix the shape of the graphs below\n",
    "best_val_acc = 0.0\n",
    "epochs = 50\n",
    "train_losses = []\n",
    "train_accuracies = []\n",
    "val_losses = []\n",
    "val_accuracies = []\n",
    "\n",
    "for samples in range(100,801, 100):\n",
    "    model.load_state_dict(torch.load('EfficientNet_best_model.pt', weights_only=True))\n",
    "    criterion = nn.CrossEntropyLoss()\n",
    "    optimizer = optim.Adam(model.parameters(), lr=0.001)\n",
    "    train_fine_tune_dataset = DrivingFineTune(samples=samples)\n",
    "    batch_size = 16\n",
    "    train_loader = DataLoader(train_fine_tune_dataset, batch_size=batch_size, shuffle=True)\n",
    "\n",
    "    for epoch in tqdm(range(epochs), desc=\"Training Progress\"):\n",
    "        model.train()\n",
    "        running_loss = 0.0\n",
    "        train_accuracy = 0.0\n",
    "\n",
    "        for images, labels in train_loader:\n",
    "            images = images.to(device)\n",
    "            labels = labels.argmax(dim=1).to(device)\n",
    "            optimizer.zero_grad()\n",
    "            outputs = model(images)\n",
    "\n",
    "            loss = criterion(outputs, labels)\n",
    "            loss.backward()\n",
    "            optimizer.step()\n",
    "\n",
    "            running_loss += loss.item()\n",
    "            train_accuracy += calculate_accuracy(outputs, labels)\n",
    "\n",
    "        avg_train_loss = running_loss / len(train_loader)\n",
    "        avg_train_accuracy = train_accuracy / len(train_loader)\n",
    "        train_losses.append(avg_train_loss)\n",
    "        train_accuracies.append(avg_train_accuracy)\n",
    "    torch.save(model.state_dict(), f'Effecient Net Weights\\\\run2\\\\EfficientNet_{samples}.pt')\n",
    "    \n",
    "    print(f\"Samples: {samples} Epoch [{epoch+1}/{epochs}], \"\n",
    "            f\"Train Loss: {avg_train_loss:.4f}, Train Acc: {avg_train_accuracy:.4f} \")\n",
    "\n"
   ]
  },
  {
   "cell_type": "code",
   "execution_count": 33,
   "metadata": {},
   "outputs": [
    {
     "name": "stdout",
     "output_type": "stream",
     "text": [
      "(938, 256, 256, 1)\n",
      "Training Samples: 100\n",
      "Total Accuracy: 37.6333 %\n",
      "F1 Score: 0.3736\n",
      "(938, 256, 256, 1)\n",
      "Training Samples: 200\n",
      "Total Accuracy: 51.7058 %\n",
      "F1 Score: 0.5177\n",
      "(938, 256, 256, 1)\n",
      "Training Samples: 300\n",
      "Total Accuracy: 56.3966 %\n",
      "F1 Score: 0.5589\n",
      "(938, 256, 256, 1)\n",
      "Training Samples: 400\n",
      "Total Accuracy: 61.5139 %\n",
      "F1 Score: 0.6173\n",
      "(938, 256, 256, 1)\n",
      "Training Samples: 500\n",
      "Total Accuracy: 66.7377 %\n",
      "F1 Score: 0.6690\n",
      "(938, 256, 256, 1)\n",
      "Training Samples: 600\n",
      "Total Accuracy: 74.4136 %\n",
      "F1 Score: 0.7411\n",
      "(938, 256, 256, 1)\n",
      "Training Samples: 700\n",
      "Total Accuracy: 78.7846 %\n",
      "F1 Score: 0.7873\n",
      "(938, 256, 256, 1)\n",
      "Training Samples: 800\n",
      "Total Accuracy: 82.4094 %\n",
      "F1 Score: 0.8237\n"
     ]
    }
   ],
   "source": [
    "from sklearn.metrics import f1_score\n",
    "\n",
    "def calculate_accuracy(outputs, labels):\n",
    "    _, preds = torch.max(outputs, 1)\n",
    "    correct = (preds == labels).sum().item()\n",
    "    accuracy = correct / labels.size(0)\n",
    "    return accuracy\n",
    "\n",
    "model_driving_test = model\n",
    "\n",
    "for models in glob.glob('Effecient Net Weights\\\\run2\\\\*.pt'):\n",
    "    num_samples = models.split('_')[-1][:3]\n",
    "\n",
    "    model_driving_test.load_state_dict(torch.load(models, weights_only=True))\n",
    "    model_driving_test.to(device)\n",
    "    class_names = ['angry', 'happy', 'neutral']\n",
    "    test_dataset = FerDrivingTest()\n",
    "    test_loader = DataLoader(test_dataset, batch_size=1, shuffle=False)\n",
    "\n",
    "    all_labels = []\n",
    "    all_preds = []\n",
    "    correct_predictions = 0\n",
    "    total_samples = 0\n",
    "    model_driving_test.eval()\n",
    "\n",
    "    with torch.no_grad():\n",
    "        for images, labels in test_loader:\n",
    "            images = images.to(device)\n",
    "            labels = labels.argmax(dim=1).to(device)  # Convert one-hot labels to class indices\n",
    "            outputs = model_driving_test(images)\n",
    "            _, preds = torch.max(outputs, 1)  # Get the predicted class indices\n",
    "            all_labels.extend(labels.cpu().numpy())  # Collect true labels\n",
    "            all_preds.extend(preds.cpu().numpy())    # Collect predictions\n",
    "            correct_predictions += (preds == labels).sum().item()\n",
    "            total_samples += labels.size(0)\n",
    "\n",
    "    # Calculate Accuracy\n",
    "    total_accuracy = (correct_predictions / total_samples) * 100\n",
    "\n",
    "    # Calculate F1 Score\n",
    "    f1 = f1_score(all_labels, all_preds, average='weighted')  # Use weighted average for label imbalance\n",
    "\n",
    "    print(f\"Training Samples: {num_samples}\")\n",
    "    print(f\"Total Accuracy: {total_accuracy:.4f} %\")\n",
    "    print(f\"F1 Score: {f1:.4f}\")\n",
    "\n",
    "    # report = classification_report(all_labels, all_preds, target_names=class_names)\n",
    "    # print(\"Classification Report:\")\n",
    "    # print(report)\n",
    "\n",
    "    # conf_matrix = confusion_matrix(all_labels, all_preds)\n",
    "    # plt.figure(figsize=(8, 6))\n",
    "    # sns.heatmap(conf_matrix, annot=True, fmt=\"d\", cmap=\"Blues\", xticklabels=class_names, yticklabels=class_names)\n",
    "    # plt.title('Confusion Matrix')\n",
    "    # plt.xlabel('Predicted')\n",
    "    # plt.ylabel('True')\n",
    "    # plt.show()\n"
   ]
  },
  {
   "cell_type": "code",
   "execution_count": 20,
   "metadata": {},
   "outputs": [
    {
     "name": "stdout",
     "output_type": "stream",
     "text": [
      "Total Accuracy: 72.1564 %\n",
      "Classification Report:\n",
      "              precision    recall  f1-score   support\n",
      "\n",
      "       angry       0.63      0.65      0.64       958\n",
      "       happy       0.76      0.88      0.82      1774\n",
      "     neutral       0.74      0.55      0.63      1233\n",
      "\n",
      "    accuracy                           0.72      3965\n",
      "   macro avg       0.71      0.69      0.69      3965\n",
      "weighted avg       0.72      0.72      0.71      3965\n",
      "\n"
     ]
    },
    {
     "data": {
      "image/png": "[encoded data removed]",
      "text/plain": [
       "<Figure size 800x600 with 2 Axes>"
      ]
     },
     "metadata": {},
     "output_type": "display_data"
    }
   ],
   "source": [
    "model_test = model\n",
    "model_test.load_state_dict(torch.load('Effecient Net Weights\\\\run2\\\\EfficientNet_100.pt', weights_only=True))\n",
    "model_test.to(device)\n",
    "class_names = ['angry', 'happy', 'neutral']\n",
    "\n",
    "test_dataset = FerTest()\n",
    "test_loader = DataLoader(test_dataset, batch_size=16, shuffle=False)\n",
    "\n",
    "all_labels = []\n",
    "all_preds = []\n",
    "correct_predictions = 0\n",
    "total_samples = 0\n",
    "model_test.eval()\n",
    "\n",
    "with torch.no_grad():\n",
    "    for images, labels in test_loader:\n",
    "        images = images.to(device)\n",
    "        labels = labels.argmax(dim=1).to(device)\n",
    "        outputs = model_test(images)\n",
    "        _, preds = torch.max(outputs, 1)\n",
    "        all_labels.extend(labels.cpu().numpy())\n",
    "        all_preds.extend(preds.cpu().numpy())\n",
    "        correct_predictions += (preds == labels).sum().item()\n",
    "        total_samples += labels.size(0)\n",
    "\n",
    "total_accuracy = (correct_predictions / total_samples)*100\n",
    "print(f\"Total Accuracy: {total_accuracy:.4f} %\")\n",
    "\n",
    "report = classification_report(all_labels, all_preds, target_names=class_names)\n",
    "print(\"Classification Report:\")\n",
    "print(report)\n",
    "\n",
    "conf_matrix = confusion_matrix(all_labels, all_preds)\n",
    "plt.figure(figsize=(8, 6))\n",
    "sns.heatmap(conf_matrix, annot=True, fmt=\"d\", cmap=\"Blues\", xticklabels=class_names, yticklabels=class_names)\n",
    "plt.title('Confusion Matrix')\n",
    "plt.xlabel('Predicted')\n",
    "plt.ylabel('True')\n",
    "plt.show()\n"
   ]
  },
  {
   "cell_type": "code",
   "execution_count": null,
   "metadata": {},
   "outputs": [],
   "source": []
  }
 ],
 "metadata": {
  "colab": {
   "provenance": []
  },
  "kaggle": {
   "accelerator": "none",
   "dataSources": [
    {
     "datasetId": 6215401,
     "sourceId": 10081693,
     "sourceType": "datasetVersion"
    }
   ],
   "dockerImageVersionId": 30804,
   "isGpuEnabled": false,
   "isInternetEnabled": true,
   "language": "python",
   "sourceType": "notebook"
  },
  "kernelspec": {
   "display_name": "base",
   "language": "python",
   "name": "python3"
  },
  "language_info": {
   "codemirror_mode": {
    "name": "ipython",
    "version": 3
   },
   "file_extension": ".py",
   "mimetype": "text/x-python",
   "name": "python",
   "nbconvert_exporter": "python",
   "pygments_lexer": "ipython3",
   "version": "3.12.3"
  },
  "widgets": {
   "application/vnd.jupyter.widget-state+json": {
    "0061f677e1904dec953ef3445bb8f451": {
     "model_module": "@jupyter-widgets/controls",
     "model_module_version": "1.5.0",
     "model_name": "FloatProgressModel",
     "state": {
      "_dom_classes": [],
      "_model_module": "@jupyter-widgets/controls",
      "_model_module_version": "1.5.0",
      "_model_name": "FloatProgressModel",
      "_view_count": null,
      "_view_module": "@jupyter-widgets/controls",
      "_view_module_version": "1.5.0",
      "_view_name": "ProgressView",
      "bar_style": "success",
      "description": "",
      "description_tooltip": null,
      "layout": "IPY_MODEL_6419d9517fef4a9cb24c36fdcb177902",
      "max": 5,
      "min": 0,
      "orientation": "horizontal",
      "style": "IPY_MODEL_8df740b7a5d4496f8c9304598ff53eab",
      "value": 5
     }
    },
    "0a2c7ad263a14b22a23bd311ec3a0d3d": {
     "model_module": "@jupyter-widgets/controls",
     "model_module_version": "1.5.0",
     "model_name": "DescriptionStyleModel",
     "state": {
      "_model_module": "@jupyter-widgets/controls",
      "_model_module_version": "1.5.0",
      "_model_name": "DescriptionStyleModel",
      "_view_count": null,
      "_view_module": "@jupyter-widgets/base",
      "_view_module_version": "1.2.0",
      "_view_name": "StyleView",
      "description_width": ""
     }
    },
    "0e3e69bf0f204b7687fc1235ad491322": {
     "model_module": "@jupyter-widgets/base",
     "model_module_version": "1.2.0",
     "model_name": "LayoutModel",
     "state": {
      "_model_module": "@jupyter-widgets/base",
      "_model_module_version": "1.2.0",
      "_model_name": "LayoutModel",
      "_view_count": null,
      "_view_module": "@jupyter-widgets/base",
      "_view_module_version": "1.2.0",
      "_view_name": "LayoutView",
      "align_content": null,
      "align_items": null,
      "align_self": null,
      "border": null,
      "bottom": null,
      "display": null,
      "flex": null,
      "flex_flow": null,
      "grid_area": null,
      "grid_auto_columns": null,
      "grid_auto_flow": null,
      "grid_auto_rows": null,
      "grid_column": null,
      "grid_gap": null,
      "grid_row": null,
      "grid_template_areas": null,
      "grid_template_columns": null,
      "grid_template_rows": null,
      "height": null,
      "justify_content": null,
      "justify_items": null,
      "left": null,
      "margin": null,
      "max_height": null,
      "max_width": null,
      "min_height": null,
      "min_width": null,
      "object_fit": null,
      "object_position": null,
      "order": null,
      "overflow": null,
      "overflow_x": null,
      "overflow_y": null,
      "padding": null,
      "right": null,
      "top": null,
      "visibility": null,
      "width": null
     }
    },
    "0e5d785e279c4b879f1de7295a821902": {
     "model_module": "@jupyter-widgets/controls",
     "model_module_version": "1.5.0",
     "model_name": "HBoxModel",
     "state": {
      "_dom_classes": [],
      "_model_module": "@jupyter-widgets/controls",
      "_model_module_version": "1.5.0",
      "_model_name": "HBoxModel",
      "_view_count": null,
      "_view_module": "@jupyter-widgets/controls",
      "_view_module_version": "1.5.0",
      "_view_name": "HBoxView",
      "box_style": "",
      "children": [
       "IPY_MODEL_bb4e4061e5f74450befa223facefb9a0",
       "IPY_MODEL_3d6c940a92794c35b38580bb75cfe0b8",
       "IPY_MODEL_87371f71abc245209fccf183112711eb"
      ],
      "layout": "IPY_MODEL_f0e8e74a7f044a77978f873dc2f26ac6"
     }
    },
    "0f887df601cc4f6bab6fcd4b6c63e203": {
     "model_module": "@jupyter-widgets/controls",
     "model_module_version": "1.5.0",
     "model_name": "DescriptionStyleModel",
     "state": {
      "_model_module": "@jupyter-widgets/controls",
      "_model_module_version": "1.5.0",
      "_model_name": "DescriptionStyleModel",
      "_view_count": null,
      "_view_module": "@jupyter-widgets/base",
      "_view_module_version": "1.2.0",
      "_view_name": "StyleView",
      "description_width": ""
     }
    },
    "13ffb408fc604d698823f21b02e48100": {
     "model_module": "@jupyter-widgets/controls",
     "model_module_version": "1.5.0",
     "model_name": "HBoxModel",
     "state": {
      "_dom_classes": [],
      "_model_module": "@jupyter-widgets/controls",
      "_model_module_version": "1.5.0",
      "_model_name": "HBoxModel",
      "_view_count": null,
      "_view_module": "@jupyter-widgets/controls",
      "_view_module_version": "1.5.0",
      "_view_name": "HBoxView",
      "box_style": "",
      "children": [
       "IPY_MODEL_25a4c3cf3f6e452bb35e8eb14033977d",
       "IPY_MODEL_32fdc927cbbc4796ae264545f7dcac18",
       "IPY_MODEL_80bd469d739e4b56aa5237f5e7bac674"
      ],
      "layout": "IPY_MODEL_e459dc6f53df46a9ac17b3e3878ce33a"
     }
    },
    "17daa5f96a7842ca8433aa440c778d8a": {
     "model_module": "@jupyter-widgets/controls",
     "model_module_version": "1.5.0",
     "model_name": "HTMLModel",
     "state": {
      "_dom_classes": [],
      "_model_module": "@jupyter-widgets/controls",
      "_model_module_version": "1.5.0",
      "_model_name": "HTMLModel",
      "_view_count": null,
      "_view_module": "@jupyter-widgets/controls",
      "_view_module_version": "1.5.0",
      "_view_name": "HTMLView",
      "description": "",
      "description_tooltip": null,
      "layout": "IPY_MODEL_932ef3768939493093ad1525b45a1c88",
      "placeholder": "​",
      "style": "IPY_MODEL_6f902fb077c84b26a9a88c85daae9367",
      "value": "Training Progress: 100%"
     }
    },
    "1aeaa655e9984d1c8433c335545df070": {
     "model_module": "@jupyter-widgets/controls",
     "model_module_version": "1.5.0",
     "model_name": "ProgressStyleModel",
     "state": {
      "_model_module": "@jupyter-widgets/controls",
      "_model_module_version": "1.5.0",
      "_model_name": "ProgressStyleModel",
      "_view_count": null,
      "_view_module": "@jupyter-widgets/base",
      "_view_module_version": "1.2.0",
      "_view_name": "StyleView",
      "bar_color": null,
      "description_width": ""
     }
    },
    "1f73c69c1fc74e5a883ccc797b821359": {
     "model_module": "@jupyter-widgets/base",
     "model_module_version": "1.2.0",
     "model_name": "LayoutModel",
     "state": {
      "_model_module": "@jupyter-widgets/base",
      "_model_module_version": "1.2.0",
      "_model_name": "LayoutModel",
      "_view_count": null,
      "_view_module": "@jupyter-widgets/base",
      "_view_module_version": "1.2.0",
      "_view_name": "LayoutView",
      "align_content": null,
      "align_items": null,
      "align_self": null,
      "border": null,
      "bottom": null,
      "display": null,
      "flex": null,
      "flex_flow": null,
      "grid_area": null,
      "grid_auto_columns": null,
      "grid_auto_flow": null,
      "grid_auto_rows": null,
      "grid_column": null,
      "grid_gap": null,
      "grid_row": null,
      "grid_template_areas": null,
      "grid_template_columns": null,
      "grid_template_rows": null,
      "height": null,
      "justify_content": null,
      "justify_items": null,
      "left": null,
      "margin": null,
      "max_height": null,
      "max_width": null,
      "min_height": null,
      "min_width": null,
      "object_fit": null,
      "object_position": null,
      "order": null,
      "overflow": null,
      "overflow_x": null,
      "overflow_y": null,
      "padding": null,
      "right": null,
      "top": null,
      "visibility": null,
      "width": null
     }
    },
    "25826f07c3c74d79bb04e9422558a28c": {
     "model_module": "@jupyter-widgets/base",
     "model_module_version": "1.2.0",
     "model_name": "LayoutModel",
     "state": {
      "_model_module": "@jupyter-widgets/base",
      "_model_module_version": "1.2.0",
      "_model_name": "LayoutModel",
      "_view_count": null,
      "_view_module": "@jupyter-widgets/base",
      "_view_module_version": "1.2.0",
      "_view_name": "LayoutView",
      "align_content": null,
      "align_items": null,
      "align_self": null,
      "border": null,
      "bottom": null,
      "display": null,
      "flex": null,
      "flex_flow": null,
      "grid_area": null,
      "grid_auto_columns": null,
      "grid_auto_flow": null,
      "grid_auto_rows": null,
      "grid_column": null,
      "grid_gap": null,
      "grid_row": null,
      "grid_template_areas": null,
      "grid_template_columns": null,
      "grid_template_rows": null,
      "height": null,
      "justify_content": null,
      "justify_items": null,
      "left": null,
      "margin": null,
      "max_height": null,
      "max_width": null,
      "min_height": null,
      "min_width": null,
      "object_fit": null,
      "object_position": null,
      "order": null,
      "overflow": null,
      "overflow_x": null,
      "overflow_y": null,
      "padding": null,
      "right": null,
      "top": null,
      "visibility": null,
      "width": null
     }
    },
    "25a4c3cf3f6e452bb35e8eb14033977d": {
     "model_module": "@jupyter-widgets/controls",
     "model_module_version": "1.5.0",
     "model_name": "HTMLModel",
     "state": {
      "_dom_classes": [],
      "_model_module": "@jupyter-widgets/controls",
      "_model_module_version": "1.5.0",
      "_model_name": "HTMLModel",
      "_view_count": null,
      "_view_module": "@jupyter-widgets/controls",
      "_view_module_version": "1.5.0",
      "_view_name": "HTMLView",
      "description": "",
      "description_tooltip": null,
      "layout": "IPY_MODEL_535b869c86404f8b8e295aa1023d4802",
      "placeholder": "​",
      "style": "IPY_MODEL_0a2c7ad263a14b22a23bd311ec3a0d3d",
      "value": "Epoch 4/5 - Training: 100%"
     }
    },
    "27a1ca01f4b241949a5a80328fceb01a": {
     "model_module": "@jupyter-widgets/base",
     "model_module_version": "1.2.0",
     "model_name": "LayoutModel",
     "state": {
      "_model_module": "@jupyter-widgets/base",
      "_model_module_version": "1.2.0",
      "_model_name": "LayoutModel",
      "_view_count": null,
      "_view_module": "@jupyter-widgets/base",
      "_view_module_version": "1.2.0",
      "_view_name": "LayoutView",
      "align_content": null,
      "align_items": null,
      "align_self": null,
      "border": null,
      "bottom": null,
      "display": null,
      "flex": null,
      "flex_flow": null,
      "grid_area": null,
      "grid_auto_columns": null,
      "grid_auto_flow": null,
      "grid_auto_rows": null,
      "grid_column": null,
      "grid_gap": null,
      "grid_row": null,
      "grid_template_areas": null,
      "grid_template_columns": null,
      "grid_template_rows": null,
      "height": null,
      "justify_content": null,
      "justify_items": null,
      "left": null,
      "margin": null,
      "max_height": null,
      "max_width": null,
      "min_height": null,
      "min_width": null,
      "object_fit": null,
      "object_position": null,
      "order": null,
      "overflow": null,
      "overflow_x": null,
      "overflow_y": null,
      "padding": null,
      "right": null,
      "top": null,
      "visibility": "hidden",
      "width": null
     }
    },
    "28bfc86aedf1439d9ea05d89bbb82623": {
     "model_module": "@jupyter-widgets/controls",
     "model_module_version": "1.5.0",
     "model_name": "ProgressStyleModel",
     "state": {
      "_model_module": "@jupyter-widgets/controls",
      "_model_module_version": "1.5.0",
      "_model_name": "ProgressStyleModel",
      "_view_count": null,
      "_view_module": "@jupyter-widgets/base",
      "_view_module_version": "1.2.0",
      "_view_name": "StyleView",
      "bar_color": null,
      "description_width": ""
     }
    },
    "32fdc927cbbc4796ae264545f7dcac18": {
     "model_module": "@jupyter-widgets/controls",
     "model_module_version": "1.5.0",
     "model_name": "FloatProgressModel",
     "state": {
      "_dom_classes": [],
      "_model_module": "@jupyter-widgets/controls",
      "_model_module_version": "1.5.0",
      "_model_name": "FloatProgressModel",
      "_view_count": null,
      "_view_module": "@jupyter-widgets/controls",
      "_view_module_version": "1.5.0",
      "_view_name": "ProgressView",
      "bar_style": "",
      "description": "",
      "description_tooltip": null,
      "layout": "IPY_MODEL_521ff93b6cf342f2a1bb99d4a41a1e76",
      "max": 759,
      "min": 0,
      "orientation": "horizontal",
      "style": "IPY_MODEL_60d39d0b09704a4fa240b5789a386558",
      "value": 759
     }
    },
    "38b1dc192b1c4dd19accb108b3810188": {
     "model_module": "@jupyter-widgets/controls",
     "model_module_version": "1.5.0",
     "model_name": "HTMLModel",
     "state": {
      "_dom_classes": [],
      "_model_module": "@jupyter-widgets/controls",
      "_model_module_version": "1.5.0",
      "_model_name": "HTMLModel",
      "_view_count": null,
      "_view_module": "@jupyter-widgets/controls",
      "_view_module_version": "1.5.0",
      "_view_name": "HTMLView",
      "description": "",
      "description_tooltip": null,
      "layout": "IPY_MODEL_b1cd356ea1654b11a149365b1e1c1d61",
      "placeholder": "​",
      "style": "IPY_MODEL_815e251b209b420593e9581e08ea698d",
      "value": "Epoch 5/5 - Training: 100%"
     }
    },
    "3ba1e319756d4a1f8c71747d95006ecb": {
     "model_module": "@jupyter-widgets/controls",
     "model_module_version": "1.5.0",
     "model_name": "DescriptionStyleModel",
     "state": {
      "_model_module": "@jupyter-widgets/controls",
      "_model_module_version": "1.5.0",
      "_model_name": "DescriptionStyleModel",
      "_view_count": null,
      "_view_module": "@jupyter-widgets/base",
      "_view_module_version": "1.2.0",
      "_view_name": "StyleView",
      "description_width": ""
     }
    },
    "3d6c940a92794c35b38580bb75cfe0b8": {
     "model_module": "@jupyter-widgets/controls",
     "model_module_version": "1.5.0",
     "model_name": "FloatProgressModel",
     "state": {
      "_dom_classes": [],
      "_model_module": "@jupyter-widgets/controls",
      "_model_module_version": "1.5.0",
      "_model_name": "FloatProgressModel",
      "_view_count": null,
      "_view_module": "@jupyter-widgets/controls",
      "_view_module_version": "1.5.0",
      "_view_name": "ProgressView",
      "bar_style": "",
      "description": "",
      "description_tooltip": null,
      "layout": "IPY_MODEL_7c056927fbc04d23a0565799216854fd",
      "max": 759,
      "min": 0,
      "orientation": "horizontal",
      "style": "IPY_MODEL_28bfc86aedf1439d9ea05d89bbb82623",
      "value": 759
     }
    },
    "4343add41de8413e8afc2ec17fea3bfb": {
     "model_module": "@jupyter-widgets/controls",
     "model_module_version": "1.5.0",
     "model_name": "FloatProgressModel",
     "state": {
      "_dom_classes": [],
      "_model_module": "@jupyter-widgets/controls",
      "_model_module_version": "1.5.0",
      "_model_name": "FloatProgressModel",
      "_view_count": null,
      "_view_module": "@jupyter-widgets/controls",
      "_view_module_version": "1.5.0",
      "_view_name": "ProgressView",
      "bar_style": "",
      "description": "",
      "description_tooltip": null,
      "layout": "IPY_MODEL_521505af67c547c0833697caf204b743",
      "max": 759,
      "min": 0,
      "orientation": "horizontal",
      "style": "IPY_MODEL_9878d366b50b45c7babef8fba1e599c7",
      "value": 759
     }
    },
    "48afc815127d4031b97533447156829c": {
     "model_module": "@jupyter-widgets/base",
     "model_module_version": "1.2.0",
     "model_name": "LayoutModel",
     "state": {
      "_model_module": "@jupyter-widgets/base",
      "_model_module_version": "1.2.0",
      "_model_name": "LayoutModel",
      "_view_count": null,
      "_view_module": "@jupyter-widgets/base",
      "_view_module_version": "1.2.0",
      "_view_name": "LayoutView",
      "align_content": null,
      "align_items": null,
      "align_self": null,
      "border": null,
      "bottom": null,
      "display": null,
      "flex": null,
      "flex_flow": null,
      "grid_area": null,
      "grid_auto_columns": null,
      "grid_auto_flow": null,
      "grid_auto_rows": null,
      "grid_column": null,
      "grid_gap": null,
      "grid_row": null,
      "grid_template_areas": null,
      "grid_template_columns": null,
      "grid_template_rows": null,
      "height": null,
      "justify_content": null,
      "justify_items": null,
      "left": null,
      "margin": null,
      "max_height": null,
      "max_width": null,
      "min_height": null,
      "min_width": null,
      "object_fit": null,
      "object_position": null,
      "order": null,
      "overflow": null,
      "overflow_x": null,
      "overflow_y": null,
      "padding": null,
      "right": null,
      "top": null,
      "visibility": null,
      "width": null
     }
    },
    "48f5b7b8eb2f4edab959b9bbd898d346": {
     "model_module": "@jupyter-widgets/controls",
     "model_module_version": "1.5.0",
     "model_name": "DescriptionStyleModel",
     "state": {
      "_model_module": "@jupyter-widgets/controls",
      "_model_module_version": "1.5.0",
      "_model_name": "DescriptionStyleModel",
      "_view_count": null,
      "_view_module": "@jupyter-widgets/base",
      "_view_module_version": "1.2.0",
      "_view_name": "StyleView",
      "description_width": ""
     }
    },
    "4b3f5b13a75540aa8dc1c884826c4ef4": {
     "model_module": "@jupyter-widgets/controls",
     "model_module_version": "1.5.0",
     "model_name": "HTMLModel",
     "state": {
      "_dom_classes": [],
      "_model_module": "@jupyter-widgets/controls",
      "_model_module_version": "1.5.0",
      "_model_name": "HTMLModel",
      "_view_count": null,
      "_view_module": "@jupyter-widgets/controls",
      "_view_module_version": "1.5.0",
      "_view_name": "HTMLView",
      "description": "",
      "description_tooltip": null,
      "layout": "IPY_MODEL_25826f07c3c74d79bb04e9422558a28c",
      "placeholder": "​",
      "style": "IPY_MODEL_0f887df601cc4f6bab6fcd4b6c63e203",
      "value": "Epoch 2/5 - Training: 100%"
     }
    },
    "4cf63ee7eee24415a14329ecaef331e6": {
     "model_module": "@jupyter-widgets/controls",
     "model_module_version": "1.5.0",
     "model_name": "HBoxModel",
     "state": {
      "_dom_classes": [],
      "_model_module": "@jupyter-widgets/controls",
      "_model_module_version": "1.5.0",
      "_model_name": "HBoxModel",
      "_view_count": null,
      "_view_module": "@jupyter-widgets/controls",
      "_view_module_version": "1.5.0",
      "_view_name": "HBoxView",
      "box_style": "",
      "children": [
       "IPY_MODEL_4b3f5b13a75540aa8dc1c884826c4ef4",
       "IPY_MODEL_4343add41de8413e8afc2ec17fea3bfb",
       "IPY_MODEL_d1480ebd7e36448cb84134032b9e6ec9"
      ],
      "layout": "IPY_MODEL_fee6d41ebe7d48e59799ac47412491d5"
     }
    },
    "4d2e7264031d463ab194e4de3686a069": {
     "model_module": "@jupyter-widgets/controls",
     "model_module_version": "1.5.0",
     "model_name": "ProgressStyleModel",
     "state": {
      "_model_module": "@jupyter-widgets/controls",
      "_model_module_version": "1.5.0",
      "_model_name": "ProgressStyleModel",
      "_view_count": null,
      "_view_module": "@jupyter-widgets/base",
      "_view_module_version": "1.2.0",
      "_view_name": "StyleView",
      "bar_color": null,
      "description_width": ""
     }
    },
    "521505af67c547c0833697caf204b743": {
     "model_module": "@jupyter-widgets/base",
     "model_module_version": "1.2.0",
     "model_name": "LayoutModel",
     "state": {
      "_model_module": "@jupyter-widgets/base",
      "_model_module_version": "1.2.0",
      "_model_name": "LayoutModel",
      "_view_count": null,
      "_view_module": "@jupyter-widgets/base",
      "_view_module_version": "1.2.0",
      "_view_name": "LayoutView",
      "align_content": null,
      "align_items": null,
      "align_self": null,
      "border": null,
      "bottom": null,
      "display": null,
      "flex": null,
      "flex_flow": null,
      "grid_area": null,
      "grid_auto_columns": null,
      "grid_auto_flow": null,
      "grid_auto_rows": null,
      "grid_column": null,
      "grid_gap": null,
      "grid_row": null,
      "grid_template_areas": null,
      "grid_template_columns": null,
      "grid_template_rows": null,
      "height": null,
      "justify_content": null,
      "justify_items": null,
      "left": null,
      "margin": null,
      "max_height": null,
      "max_width": null,
      "min_height": null,
      "min_width": null,
      "object_fit": null,
      "object_position": null,
      "order": null,
      "overflow": null,
      "overflow_x": null,
      "overflow_y": null,
      "padding": null,
      "right": null,
      "top": null,
      "visibility": null,
      "width": null
     }
    },
    "521ff93b6cf342f2a1bb99d4a41a1e76": {
     "model_module": "@jupyter-widgets/base",
     "model_module_version": "1.2.0",
     "model_name": "LayoutModel",
     "state": {
      "_model_module": "@jupyter-widgets/base",
      "_model_module_version": "1.2.0",
      "_model_name": "LayoutModel",
      "_view_count": null,
      "_view_module": "@jupyter-widgets/base",
      "_view_module_version": "1.2.0",
      "_view_name": "LayoutView",
      "align_content": null,
      "align_items": null,
      "align_self": null,
      "border": null,
      "bottom": null,
      "display": null,
      "flex": null,
      "flex_flow": null,
      "grid_area": null,
      "grid_auto_columns": null,
      "grid_auto_flow": null,
      "grid_auto_rows": null,
      "grid_column": null,
      "grid_gap": null,
      "grid_row": null,
      "grid_template_areas": null,
      "grid_template_columns": null,
      "grid_template_rows": null,
      "height": null,
      "justify_content": null,
      "justify_items": null,
      "left": null,
      "margin": null,
      "max_height": null,
      "max_width": null,
      "min_height": null,
      "min_width": null,
      "object_fit": null,
      "object_position": null,
      "order": null,
      "overflow": null,
      "overflow_x": null,
      "overflow_y": null,
      "padding": null,
      "right": null,
      "top": null,
      "visibility": null,
      "width": null
     }
    },
    "5276b92d51b6456ab84acc73c957047b": {
     "model_module": "@jupyter-widgets/base",
     "model_module_version": "1.2.0",
     "model_name": "LayoutModel",
     "state": {
      "_model_module": "@jupyter-widgets/base",
      "_model_module_version": "1.2.0",
      "_model_name": "LayoutModel",
      "_view_count": null,
      "_view_module": "@jupyter-widgets/base",
      "_view_module_version": "1.2.0",
      "_view_name": "LayoutView",
      "align_content": null,
      "align_items": null,
      "align_self": null,
      "border": null,
      "bottom": null,
      "display": null,
      "flex": null,
      "flex_flow": null,
      "grid_area": null,
      "grid_auto_columns": null,
      "grid_auto_flow": null,
      "grid_auto_rows": null,
      "grid_column": null,
      "grid_gap": null,
      "grid_row": null,
      "grid_template_areas": null,
      "grid_template_columns": null,
      "grid_template_rows": null,
      "height": null,
      "justify_content": null,
      "justify_items": null,
      "left": null,
      "margin": null,
      "max_height": null,
      "max_width": null,
      "min_height": null,
      "min_width": null,
      "object_fit": null,
      "object_position": null,
      "order": null,
      "overflow": null,
      "overflow_x": null,
      "overflow_y": null,
      "padding": null,
      "right": null,
      "top": null,
      "visibility": null,
      "width": null
     }
    },
    "535b869c86404f8b8e295aa1023d4802": {
     "model_module": "@jupyter-widgets/base",
     "model_module_version": "1.2.0",
     "model_name": "LayoutModel",
     "state": {
      "_model_module": "@jupyter-widgets/base",
      "_model_module_version": "1.2.0",
      "_model_name": "LayoutModel",
      "_view_count": null,
      "_view_module": "@jupyter-widgets/base",
      "_view_module_version": "1.2.0",
      "_view_name": "LayoutView",
      "align_content": null,
      "align_items": null,
      "align_self": null,
      "border": null,
      "bottom": null,
      "display": null,
      "flex": null,
      "flex_flow": null,
      "grid_area": null,
      "grid_auto_columns": null,
      "grid_auto_flow": null,
      "grid_auto_rows": null,
      "grid_column": null,
      "grid_gap": null,
      "grid_row": null,
      "grid_template_areas": null,
      "grid_template_columns": null,
      "grid_template_rows": null,
      "height": null,
      "justify_content": null,
      "justify_items": null,
      "left": null,
      "margin": null,
      "max_height": null,
      "max_width": null,
      "min_height": null,
      "min_width": null,
      "object_fit": null,
      "object_position": null,
      "order": null,
      "overflow": null,
      "overflow_x": null,
      "overflow_y": null,
      "padding": null,
      "right": null,
      "top": null,
      "visibility": null,
      "width": null
     }
    },
    "552d7933ea4941d58a751b335da69aa4": {
     "model_module": "@jupyter-widgets/controls",
     "model_module_version": "1.5.0",
     "model_name": "DescriptionStyleModel",
     "state": {
      "_model_module": "@jupyter-widgets/controls",
      "_model_module_version": "1.5.0",
      "_model_name": "DescriptionStyleModel",
      "_view_count": null,
      "_view_module": "@jupyter-widgets/base",
      "_view_module_version": "1.2.0",
      "_view_name": "StyleView",
      "description_width": ""
     }
    },
    "60d39d0b09704a4fa240b5789a386558": {
     "model_module": "@jupyter-widgets/controls",
     "model_module_version": "1.5.0",
     "model_name": "ProgressStyleModel",
     "state": {
      "_model_module": "@jupyter-widgets/controls",
      "_model_module_version": "1.5.0",
      "_model_name": "ProgressStyleModel",
      "_view_count": null,
      "_view_module": "@jupyter-widgets/base",
      "_view_module_version": "1.2.0",
      "_view_name": "StyleView",
      "bar_color": null,
      "description_width": ""
     }
    },
    "6419d9517fef4a9cb24c36fdcb177902": {
     "model_module": "@jupyter-widgets/base",
     "model_module_version": "1.2.0",
     "model_name": "LayoutModel",
     "state": {
      "_model_module": "@jupyter-widgets/base",
      "_model_module_version": "1.2.0",
      "_model_name": "LayoutModel",
      "_view_count": null,
      "_view_module": "@jupyter-widgets/base",
      "_view_module_version": "1.2.0",
      "_view_name": "LayoutView",
      "align_content": null,
      "align_items": null,
      "align_self": null,
      "border": null,
      "bottom": null,
      "display": null,
      "flex": null,
      "flex_flow": null,
      "grid_area": null,
      "grid_auto_columns": null,
      "grid_auto_flow": null,
      "grid_auto_rows": null,
      "grid_column": null,
      "grid_gap": null,
      "grid_row": null,
      "grid_template_areas": null,
      "grid_template_columns": null,
      "grid_template_rows": null,
      "height": null,
      "justify_content": null,
      "justify_items": null,
      "left": null,
      "margin": null,
      "max_height": null,
      "max_width": null,
      "min_height": null,
      "min_width": null,
      "object_fit": null,
      "object_position": null,
      "order": null,
      "overflow": null,
      "overflow_x": null,
      "overflow_y": null,
      "padding": null,
      "right": null,
      "top": null,
      "visibility": null,
      "width": null
     }
    },
    "649951716ad54fe0bf89d20bc6816e3c": {
     "model_module": "@jupyter-widgets/base",
     "model_module_version": "1.2.0",
     "model_name": "LayoutModel",
     "state": {
      "_model_module": "@jupyter-widgets/base",
      "_model_module_version": "1.2.0",
      "_model_name": "LayoutModel",
      "_view_count": null,
      "_view_module": "@jupyter-widgets/base",
      "_view_module_version": "1.2.0",
      "_view_name": "LayoutView",
      "align_content": null,
      "align_items": null,
      "align_self": null,
      "border": null,
      "bottom": null,
      "display": null,
      "flex": null,
      "flex_flow": null,
      "grid_area": null,
      "grid_auto_columns": null,
      "grid_auto_flow": null,
      "grid_auto_rows": null,
      "grid_column": null,
      "grid_gap": null,
      "grid_row": null,
      "grid_template_areas": null,
      "grid_template_columns": null,
      "grid_template_rows": null,
      "height": null,
      "justify_content": null,
      "justify_items": null,
      "left": null,
      "margin": null,
      "max_height": null,
      "max_width": null,
      "min_height": null,
      "min_width": null,
      "object_fit": null,
      "object_position": null,
      "order": null,
      "overflow": null,
      "overflow_x": null,
      "overflow_y": null,
      "padding": null,
      "right": null,
      "top": null,
      "visibility": null,
      "width": null
     }
    },
    "6cbdf0d3f09242b79e965802cf05f7cc": {
     "model_module": "@jupyter-widgets/controls",
     "model_module_version": "1.5.0",
     "model_name": "HTMLModel",
     "state": {
      "_dom_classes": [],
      "_model_module": "@jupyter-widgets/controls",
      "_model_module_version": "1.5.0",
      "_model_name": "HTMLModel",
      "_view_count": null,
      "_view_module": "@jupyter-widgets/controls",
      "_view_module_version": "1.5.0",
      "_view_name": "HTMLView",
      "description": "",
      "description_tooltip": null,
      "layout": "IPY_MODEL_711e9902d1ff4de7b006f80d22394d2e",
      "placeholder": "​",
      "style": "IPY_MODEL_95ac84c9af874cd191b012f769b3556e",
      "value": " 758/759 [01:46&lt;00:00,  7.20it/s]"
     }
    },
    "6f902fb077c84b26a9a88c85daae9367": {
     "model_module": "@jupyter-widgets/controls",
     "model_module_version": "1.5.0",
     "model_name": "DescriptionStyleModel",
     "state": {
      "_model_module": "@jupyter-widgets/controls",
      "_model_module_version": "1.5.0",
      "_model_name": "DescriptionStyleModel",
      "_view_count": null,
      "_view_module": "@jupyter-widgets/base",
      "_view_module_version": "1.2.0",
      "_view_name": "StyleView",
      "description_width": ""
     }
    },
    "711e9902d1ff4de7b006f80d22394d2e": {
     "model_module": "@jupyter-widgets/base",
     "model_module_version": "1.2.0",
     "model_name": "LayoutModel",
     "state": {
      "_model_module": "@jupyter-widgets/base",
      "_model_module_version": "1.2.0",
      "_model_name": "LayoutModel",
      "_view_count": null,
      "_view_module": "@jupyter-widgets/base",
      "_view_module_version": "1.2.0",
      "_view_name": "LayoutView",
      "align_content": null,
      "align_items": null,
      "align_self": null,
      "border": null,
      "bottom": null,
      "display": null,
      "flex": null,
      "flex_flow": null,
      "grid_area": null,
      "grid_auto_columns": null,
      "grid_auto_flow": null,
      "grid_auto_rows": null,
      "grid_column": null,
      "grid_gap": null,
      "grid_row": null,
      "grid_template_areas": null,
      "grid_template_columns": null,
      "grid_template_rows": null,
      "height": null,
      "justify_content": null,
      "justify_items": null,
      "left": null,
      "margin": null,
      "max_height": null,
      "max_width": null,
      "min_height": null,
      "min_width": null,
      "object_fit": null,
      "object_position": null,
      "order": null,
      "overflow": null,
      "overflow_x": null,
      "overflow_y": null,
      "padding": null,
      "right": null,
      "top": null,
      "visibility": null,
      "width": null
     }
    },
    "7c056927fbc04d23a0565799216854fd": {
     "model_module": "@jupyter-widgets/base",
     "model_module_version": "1.2.0",
     "model_name": "LayoutModel",
     "state": {
      "_model_module": "@jupyter-widgets/base",
      "_model_module_version": "1.2.0",
      "_model_name": "LayoutModel",
      "_view_count": null,
      "_view_module": "@jupyter-widgets/base",
      "_view_module_version": "1.2.0",
      "_view_name": "LayoutView",
      "align_content": null,
      "align_items": null,
      "align_self": null,
      "border": null,
      "bottom": null,
      "display": null,
      "flex": null,
      "flex_flow": null,
      "grid_area": null,
      "grid_auto_columns": null,
      "grid_auto_flow": null,
      "grid_auto_rows": null,
      "grid_column": null,
      "grid_gap": null,
      "grid_row": null,
      "grid_template_areas": null,
      "grid_template_columns": null,
      "grid_template_rows": null,
      "height": null,
      "justify_content": null,
      "justify_items": null,
      "left": null,
      "margin": null,
      "max_height": null,
      "max_width": null,
      "min_height": null,
      "min_width": null,
      "object_fit": null,
      "object_position": null,
      "order": null,
      "overflow": null,
      "overflow_x": null,
      "overflow_y": null,
      "padding": null,
      "right": null,
      "top": null,
      "visibility": null,
      "width": null
     }
    },
    "7ca535d328a244b4af68adaae7174fa6": {
     "model_module": "@jupyter-widgets/base",
     "model_module_version": "1.2.0",
     "model_name": "LayoutModel",
     "state": {
      "_model_module": "@jupyter-widgets/base",
      "_model_module_version": "1.2.0",
      "_model_name": "LayoutModel",
      "_view_count": null,
      "_view_module": "@jupyter-widgets/base",
      "_view_module_version": "1.2.0",
      "_view_name": "LayoutView",
      "align_content": null,
      "align_items": null,
      "align_self": null,
      "border": null,
      "bottom": null,
      "display": null,
      "flex": null,
      "flex_flow": null,
      "grid_area": null,
      "grid_auto_columns": null,
      "grid_auto_flow": null,
      "grid_auto_rows": null,
      "grid_column": null,
      "grid_gap": null,
      "grid_row": null,
      "grid_template_areas": null,
      "grid_template_columns": null,
      "grid_template_rows": null,
      "height": null,
      "justify_content": null,
      "justify_items": null,
      "left": null,
      "margin": null,
      "max_height": null,
      "max_width": null,
      "min_height": null,
      "min_width": null,
      "object_fit": null,
      "object_position": null,
      "order": null,
      "overflow": null,
      "overflow_x": null,
      "overflow_y": null,
      "padding": null,
      "right": null,
      "top": null,
      "visibility": null,
      "width": null
     }
    },
    "80bd469d739e4b56aa5237f5e7bac674": {
     "model_module": "@jupyter-widgets/controls",
     "model_module_version": "1.5.0",
     "model_name": "HTMLModel",
     "state": {
      "_dom_classes": [],
      "_model_module": "@jupyter-widgets/controls",
      "_model_module_version": "1.5.0",
      "_model_name": "HTMLModel",
      "_view_count": null,
      "_view_module": "@jupyter-widgets/controls",
      "_view_module_version": "1.5.0",
      "_view_name": "HTMLView",
      "description": "",
      "description_tooltip": null,
      "layout": "IPY_MODEL_48afc815127d4031b97533447156829c",
      "placeholder": "​",
      "style": "IPY_MODEL_552d7933ea4941d58a751b335da69aa4",
      "value": " 758/759 [01:46&lt;00:00,  7.16it/s]"
     }
    },
    "815e251b209b420593e9581e08ea698d": {
     "model_module": "@jupyter-widgets/controls",
     "model_module_version": "1.5.0",
     "model_name": "DescriptionStyleModel",
     "state": {
      "_model_module": "@jupyter-widgets/controls",
      "_model_module_version": "1.5.0",
      "_model_name": "DescriptionStyleModel",
      "_view_count": null,
      "_view_module": "@jupyter-widgets/base",
      "_view_module_version": "1.2.0",
      "_view_name": "StyleView",
      "description_width": ""
     }
    },
    "87371f71abc245209fccf183112711eb": {
     "model_module": "@jupyter-widgets/controls",
     "model_module_version": "1.5.0",
     "model_name": "HTMLModel",
     "state": {
      "_dom_classes": [],
      "_model_module": "@jupyter-widgets/controls",
      "_model_module_version": "1.5.0",
      "_model_name": "HTMLModel",
      "_view_count": null,
      "_view_module": "@jupyter-widgets/controls",
      "_view_module_version": "1.5.0",
      "_view_name": "HTMLView",
      "description": "",
      "description_tooltip": null,
      "layout": "IPY_MODEL_0e3e69bf0f204b7687fc1235ad491322",
      "placeholder": "​",
      "style": "IPY_MODEL_bfeb32ae52fc4401bf86a10b5f022a40",
      "value": " 758/759 [01:46&lt;00:00,  7.18it/s]"
     }
    },
    "8df740b7a5d4496f8c9304598ff53eab": {
     "model_module": "@jupyter-widgets/controls",
     "model_module_version": "1.5.0",
     "model_name": "ProgressStyleModel",
     "state": {
      "_model_module": "@jupyter-widgets/controls",
      "_model_module_version": "1.5.0",
      "_model_name": "ProgressStyleModel",
      "_view_count": null,
      "_view_module": "@jupyter-widgets/base",
      "_view_module_version": "1.2.0",
      "_view_name": "StyleView",
      "bar_color": null,
      "description_width": ""
     }
    },
    "932ef3768939493093ad1525b45a1c88": {
     "model_module": "@jupyter-widgets/base",
     "model_module_version": "1.2.0",
     "model_name": "LayoutModel",
     "state": {
      "_model_module": "@jupyter-widgets/base",
      "_model_module_version": "1.2.0",
      "_model_name": "LayoutModel",
      "_view_count": null,
      "_view_module": "@jupyter-widgets/base",
      "_view_module_version": "1.2.0",
      "_view_name": "LayoutView",
      "align_content": null,
      "align_items": null,
      "align_self": null,
      "border": null,
      "bottom": null,
      "display": null,
      "flex": null,
      "flex_flow": null,
      "grid_area": null,
      "grid_auto_columns": null,
      "grid_auto_flow": null,
      "grid_auto_rows": null,
      "grid_column": null,
      "grid_gap": null,
      "grid_row": null,
      "grid_template_areas": null,
      "grid_template_columns": null,
      "grid_template_rows": null,
      "height": null,
      "justify_content": null,
      "justify_items": null,
      "left": null,
      "margin": null,
      "max_height": null,
      "max_width": null,
      "min_height": null,
      "min_width": null,
      "object_fit": null,
      "object_position": null,
      "order": null,
      "overflow": null,
      "overflow_x": null,
      "overflow_y": null,
      "padding": null,
      "right": null,
      "top": null,
      "visibility": null,
      "width": null
     }
    },
    "95ac84c9af874cd191b012f769b3556e": {
     "model_module": "@jupyter-widgets/controls",
     "model_module_version": "1.5.0",
     "model_name": "DescriptionStyleModel",
     "state": {
      "_model_module": "@jupyter-widgets/controls",
      "_model_module_version": "1.5.0",
      "_model_name": "DescriptionStyleModel",
      "_view_count": null,
      "_view_module": "@jupyter-widgets/base",
      "_view_module_version": "1.2.0",
      "_view_name": "StyleView",
      "description_width": ""
     }
    },
    "968fdfae0621434e8f71275a5c4bfdd0": {
     "model_module": "@jupyter-widgets/controls",
     "model_module_version": "1.5.0",
     "model_name": "HBoxModel",
     "state": {
      "_dom_classes": [],
      "_model_module": "@jupyter-widgets/controls",
      "_model_module_version": "1.5.0",
      "_model_name": "HBoxModel",
      "_view_count": null,
      "_view_module": "@jupyter-widgets/controls",
      "_view_module_version": "1.5.0",
      "_view_name": "HBoxView",
      "box_style": "",
      "children": [
       "IPY_MODEL_38b1dc192b1c4dd19accb108b3810188",
       "IPY_MODEL_e95dd0fe74f742b7858cfdc5c1991fbf",
       "IPY_MODEL_dd525fa948b54064a50d8fda08d3c9fe"
      ],
      "layout": "IPY_MODEL_a6473977514749d08545f91a01bc209c"
     }
    },
    "9878d366b50b45c7babef8fba1e599c7": {
     "model_module": "@jupyter-widgets/controls",
     "model_module_version": "1.5.0",
     "model_name": "ProgressStyleModel",
     "state": {
      "_model_module": "@jupyter-widgets/controls",
      "_model_module_version": "1.5.0",
      "_model_name": "ProgressStyleModel",
      "_view_count": null,
      "_view_module": "@jupyter-widgets/base",
      "_view_module_version": "1.2.0",
      "_view_name": "StyleView",
      "bar_color": null,
      "description_width": ""
     }
    },
    "9e0e6384aff64e92a0068d4530541bf2": {
     "model_module": "@jupyter-widgets/controls",
     "model_module_version": "1.5.0",
     "model_name": "DescriptionStyleModel",
     "state": {
      "_model_module": "@jupyter-widgets/controls",
      "_model_module_version": "1.5.0",
      "_model_name": "DescriptionStyleModel",
      "_view_count": null,
      "_view_module": "@jupyter-widgets/base",
      "_view_module_version": "1.2.0",
      "_view_name": "StyleView",
      "description_width": ""
     }
    },
    "a3c99c2172c7457dab65d6ffbce123a3": {
     "model_module": "@jupyter-widgets/controls",
     "model_module_version": "1.5.0",
     "model_name": "DescriptionStyleModel",
     "state": {
      "_model_module": "@jupyter-widgets/controls",
      "_model_module_version": "1.5.0",
      "_model_name": "DescriptionStyleModel",
      "_view_count": null,
      "_view_module": "@jupyter-widgets/base",
      "_view_module_version": "1.2.0",
      "_view_name": "StyleView",
      "description_width": ""
     }
    },
    "a6473977514749d08545f91a01bc209c": {
     "model_module": "@jupyter-widgets/base",
     "model_module_version": "1.2.0",
     "model_name": "LayoutModel",
     "state": {
      "_model_module": "@jupyter-widgets/base",
      "_model_module_version": "1.2.0",
      "_model_name": "LayoutModel",
      "_view_count": null,
      "_view_module": "@jupyter-widgets/base",
      "_view_module_version": "1.2.0",
      "_view_name": "LayoutView",
      "align_content": null,
      "align_items": null,
      "align_self": null,
      "border": null,
      "bottom": null,
      "display": null,
      "flex": null,
      "flex_flow": null,
      "grid_area": null,
      "grid_auto_columns": null,
      "grid_auto_flow": null,
      "grid_auto_rows": null,
      "grid_column": null,
      "grid_gap": null,
      "grid_row": null,
      "grid_template_areas": null,
      "grid_template_columns": null,
      "grid_template_rows": null,
      "height": null,
      "justify_content": null,
      "justify_items": null,
      "left": null,
      "margin": null,
      "max_height": null,
      "max_width": null,
      "min_height": null,
      "min_width": null,
      "object_fit": null,
      "object_position": null,
      "order": null,
      "overflow": null,
      "overflow_x": null,
      "overflow_y": null,
      "padding": null,
      "right": null,
      "top": null,
      "visibility": "hidden",
      "width": null
     }
    },
    "abdefc263eae4fbfa0973b838bed2b39": {
     "model_module": "@jupyter-widgets/base",
     "model_module_version": "1.2.0",
     "model_name": "LayoutModel",
     "state": {
      "_model_module": "@jupyter-widgets/base",
      "_model_module_version": "1.2.0",
      "_model_name": "LayoutModel",
      "_view_count": null,
      "_view_module": "@jupyter-widgets/base",
      "_view_module_version": "1.2.0",
      "_view_name": "LayoutView",
      "align_content": null,
      "align_items": null,
      "align_self": null,
      "border": null,
      "bottom": null,
      "display": null,
      "flex": null,
      "flex_flow": null,
      "grid_area": null,
      "grid_auto_columns": null,
      "grid_auto_flow": null,
      "grid_auto_rows": null,
      "grid_column": null,
      "grid_gap": null,
      "grid_row": null,
      "grid_template_areas": null,
      "grid_template_columns": null,
      "grid_template_rows": null,
      "height": null,
      "justify_content": null,
      "justify_items": null,
      "left": null,
      "margin": null,
      "max_height": null,
      "max_width": null,
      "min_height": null,
      "min_width": null,
      "object_fit": null,
      "object_position": null,
      "order": null,
      "overflow": null,
      "overflow_x": null,
      "overflow_y": null,
      "padding": null,
      "right": null,
      "top": null,
      "visibility": null,
      "width": null
     }
    },
    "b1cd356ea1654b11a149365b1e1c1d61": {
     "model_module": "@jupyter-widgets/base",
     "model_module_version": "1.2.0",
     "model_name": "LayoutModel",
     "state": {
      "_model_module": "@jupyter-widgets/base",
      "_model_module_version": "1.2.0",
      "_model_name": "LayoutModel",
      "_view_count": null,
      "_view_module": "@jupyter-widgets/base",
      "_view_module_version": "1.2.0",
      "_view_name": "LayoutView",
      "align_content": null,
      "align_items": null,
      "align_self": null,
      "border": null,
      "bottom": null,
      "display": null,
      "flex": null,
      "flex_flow": null,
      "grid_area": null,
      "grid_auto_columns": null,
      "grid_auto_flow": null,
      "grid_auto_rows": null,
      "grid_column": null,
      "grid_gap": null,
      "grid_row": null,
      "grid_template_areas": null,
      "grid_template_columns": null,
      "grid_template_rows": null,
      "height": null,
      "justify_content": null,
      "justify_items": null,
      "left": null,
      "margin": null,
      "max_height": null,
      "max_width": null,
      "min_height": null,
      "min_width": null,
      "object_fit": null,
      "object_position": null,
      "order": null,
      "overflow": null,
      "overflow_x": null,
      "overflow_y": null,
      "padding": null,
      "right": null,
      "top": null,
      "visibility": null,
      "width": null
     }
    },
    "b5342ab560014ee1a921af0c5a7b2891": {
     "model_module": "@jupyter-widgets/base",
     "model_module_version": "1.2.0",
     "model_name": "LayoutModel",
     "state": {
      "_model_module": "@jupyter-widgets/base",
      "_model_module_version": "1.2.0",
      "_model_name": "LayoutModel",
      "_view_count": null,
      "_view_module": "@jupyter-widgets/base",
      "_view_module_version": "1.2.0",
      "_view_name": "LayoutView",
      "align_content": null,
      "align_items": null,
      "align_self": null,
      "border": null,
      "bottom": null,
      "display": null,
      "flex": null,
      "flex_flow": null,
      "grid_area": null,
      "grid_auto_columns": null,
      "grid_auto_flow": null,
      "grid_auto_rows": null,
      "grid_column": null,
      "grid_gap": null,
      "grid_row": null,
      "grid_template_areas": null,
      "grid_template_columns": null,
      "grid_template_rows": null,
      "height": null,
      "justify_content": null,
      "justify_items": null,
      "left": null,
      "margin": null,
      "max_height": null,
      "max_width": null,
      "min_height": null,
      "min_width": null,
      "object_fit": null,
      "object_position": null,
      "order": null,
      "overflow": null,
      "overflow_x": null,
      "overflow_y": null,
      "padding": null,
      "right": null,
      "top": null,
      "visibility": null,
      "width": null
     }
    },
    "bb4e4061e5f74450befa223facefb9a0": {
     "model_module": "@jupyter-widgets/controls",
     "model_module_version": "1.5.0",
     "model_name": "HTMLModel",
     "state": {
      "_dom_classes": [],
      "_model_module": "@jupyter-widgets/controls",
      "_model_module_version": "1.5.0",
      "_model_name": "HTMLModel",
      "_view_count": null,
      "_view_module": "@jupyter-widgets/controls",
      "_view_module_version": "1.5.0",
      "_view_name": "HTMLView",
      "description": "",
      "description_tooltip": null,
      "layout": "IPY_MODEL_7ca535d328a244b4af68adaae7174fa6",
      "placeholder": "​",
      "style": "IPY_MODEL_3ba1e319756d4a1f8c71747d95006ecb",
      "value": "Epoch 3/5 - Training: 100%"
     }
    },
    "bd62f3c7331748b8811993d4a28e569f": {
     "model_module": "@jupyter-widgets/base",
     "model_module_version": "1.2.0",
     "model_name": "LayoutModel",
     "state": {
      "_model_module": "@jupyter-widgets/base",
      "_model_module_version": "1.2.0",
      "_model_name": "LayoutModel",
      "_view_count": null,
      "_view_module": "@jupyter-widgets/base",
      "_view_module_version": "1.2.0",
      "_view_name": "LayoutView",
      "align_content": null,
      "align_items": null,
      "align_self": null,
      "border": null,
      "bottom": null,
      "display": null,
      "flex": null,
      "flex_flow": null,
      "grid_area": null,
      "grid_auto_columns": null,
      "grid_auto_flow": null,
      "grid_auto_rows": null,
      "grid_column": null,
      "grid_gap": null,
      "grid_row": null,
      "grid_template_areas": null,
      "grid_template_columns": null,
      "grid_template_rows": null,
      "height": null,
      "justify_content": null,
      "justify_items": null,
      "left": null,
      "margin": null,
      "max_height": null,
      "max_width": null,
      "min_height": null,
      "min_width": null,
      "object_fit": null,
      "object_position": null,
      "order": null,
      "overflow": null,
      "overflow_x": null,
      "overflow_y": null,
      "padding": null,
      "right": null,
      "top": null,
      "visibility": null,
      "width": null
     }
    },
    "bfeb32ae52fc4401bf86a10b5f022a40": {
     "model_module": "@jupyter-widgets/controls",
     "model_module_version": "1.5.0",
     "model_name": "DescriptionStyleModel",
     "state": {
      "_model_module": "@jupyter-widgets/controls",
      "_model_module_version": "1.5.0",
      "_model_name": "DescriptionStyleModel",
      "_view_count": null,
      "_view_module": "@jupyter-widgets/base",
      "_view_module_version": "1.2.0",
      "_view_name": "StyleView",
      "description_width": ""
     }
    },
    "c815d33300884d5b83094830d357fed4": {
     "model_module": "@jupyter-widgets/base",
     "model_module_version": "1.2.0",
     "model_name": "LayoutModel",
     "state": {
      "_model_module": "@jupyter-widgets/base",
      "_model_module_version": "1.2.0",
      "_model_name": "LayoutModel",
      "_view_count": null,
      "_view_module": "@jupyter-widgets/base",
      "_view_module_version": "1.2.0",
      "_view_name": "LayoutView",
      "align_content": null,
      "align_items": null,
      "align_self": null,
      "border": null,
      "bottom": null,
      "display": null,
      "flex": null,
      "flex_flow": null,
      "grid_area": null,
      "grid_auto_columns": null,
      "grid_auto_flow": null,
      "grid_auto_rows": null,
      "grid_column": null,
      "grid_gap": null,
      "grid_row": null,
      "grid_template_areas": null,
      "grid_template_columns": null,
      "grid_template_rows": null,
      "height": null,
      "justify_content": null,
      "justify_items": null,
      "left": null,
      "margin": null,
      "max_height": null,
      "max_width": null,
      "min_height": null,
      "min_width": null,
      "object_fit": null,
      "object_position": null,
      "order": null,
      "overflow": null,
      "overflow_x": null,
      "overflow_y": null,
      "padding": null,
      "right": null,
      "top": null,
      "visibility": null,
      "width": null
     }
    },
    "cec1a83b8dec4e90b81ad9f5efeb0a47": {
     "model_module": "@jupyter-widgets/controls",
     "model_module_version": "1.5.0",
     "model_name": "HBoxModel",
     "state": {
      "_dom_classes": [],
      "_model_module": "@jupyter-widgets/controls",
      "_model_module_version": "1.5.0",
      "_model_name": "HBoxModel",
      "_view_count": null,
      "_view_module": "@jupyter-widgets/controls",
      "_view_module_version": "1.5.0",
      "_view_name": "HBoxView",
      "box_style": "",
      "children": [
       "IPY_MODEL_e4d656c4f3784230bf3e54ed86b11cfd",
       "IPY_MODEL_d9e8523b9b77462390a49b7db4e294c2",
       "IPY_MODEL_6cbdf0d3f09242b79e965802cf05f7cc"
      ],
      "layout": "IPY_MODEL_27a1ca01f4b241949a5a80328fceb01a"
     }
    },
    "d1480ebd7e36448cb84134032b9e6ec9": {
     "model_module": "@jupyter-widgets/controls",
     "model_module_version": "1.5.0",
     "model_name": "HTMLModel",
     "state": {
      "_dom_classes": [],
      "_model_module": "@jupyter-widgets/controls",
      "_model_module_version": "1.5.0",
      "_model_name": "HTMLModel",
      "_view_count": null,
      "_view_module": "@jupyter-widgets/controls",
      "_view_module_version": "1.5.0",
      "_view_name": "HTMLView",
      "description": "",
      "description_tooltip": null,
      "layout": "IPY_MODEL_c815d33300884d5b83094830d357fed4",
      "placeholder": "​",
      "style": "IPY_MODEL_9e0e6384aff64e92a0068d4530541bf2",
      "value": " 758/759 [01:45&lt;00:00,  7.13it/s]"
     }
    },
    "d58ec795e35349cfaa7fdb356fb55209": {
     "model_module": "@jupyter-widgets/controls",
     "model_module_version": "1.5.0",
     "model_name": "DescriptionStyleModel",
     "state": {
      "_model_module": "@jupyter-widgets/controls",
      "_model_module_version": "1.5.0",
      "_model_name": "DescriptionStyleModel",
      "_view_count": null,
      "_view_module": "@jupyter-widgets/base",
      "_view_module_version": "1.2.0",
      "_view_name": "StyleView",
      "description_width": ""
     }
    },
    "d9e8523b9b77462390a49b7db4e294c2": {
     "model_module": "@jupyter-widgets/controls",
     "model_module_version": "1.5.0",
     "model_name": "FloatProgressModel",
     "state": {
      "_dom_classes": [],
      "_model_module": "@jupyter-widgets/controls",
      "_model_module_version": "1.5.0",
      "_model_name": "FloatProgressModel",
      "_view_count": null,
      "_view_module": "@jupyter-widgets/controls",
      "_view_module_version": "1.5.0",
      "_view_name": "ProgressView",
      "bar_style": "",
      "description": "",
      "description_tooltip": null,
      "layout": "IPY_MODEL_1f73c69c1fc74e5a883ccc797b821359",
      "max": 759,
      "min": 0,
      "orientation": "horizontal",
      "style": "IPY_MODEL_4d2e7264031d463ab194e4de3686a069",
      "value": 759
     }
    },
    "dd525fa948b54064a50d8fda08d3c9fe": {
     "model_module": "@jupyter-widgets/controls",
     "model_module_version": "1.5.0",
     "model_name": "HTMLModel",
     "state": {
      "_dom_classes": [],
      "_model_module": "@jupyter-widgets/controls",
      "_model_module_version": "1.5.0",
      "_model_name": "HTMLModel",
      "_view_count": null,
      "_view_module": "@jupyter-widgets/controls",
      "_view_module_version": "1.5.0",
      "_view_name": "HTMLView",
      "description": "",
      "description_tooltip": null,
      "layout": "IPY_MODEL_b5342ab560014ee1a921af0c5a7b2891",
      "placeholder": "​",
      "style": "IPY_MODEL_d58ec795e35349cfaa7fdb356fb55209",
      "value": " 758/759 [01:49&lt;00:00,  7.10it/s]"
     }
    },
    "e459dc6f53df46a9ac17b3e3878ce33a": {
     "model_module": "@jupyter-widgets/base",
     "model_module_version": "1.2.0",
     "model_name": "LayoutModel",
     "state": {
      "_model_module": "@jupyter-widgets/base",
      "_model_module_version": "1.2.0",
      "_model_name": "LayoutModel",
      "_view_count": null,
      "_view_module": "@jupyter-widgets/base",
      "_view_module_version": "1.2.0",
      "_view_name": "LayoutView",
      "align_content": null,
      "align_items": null,
      "align_self": null,
      "border": null,
      "bottom": null,
      "display": null,
      "flex": null,
      "flex_flow": null,
      "grid_area": null,
      "grid_auto_columns": null,
      "grid_auto_flow": null,
      "grid_auto_rows": null,
      "grid_column": null,
      "grid_gap": null,
      "grid_row": null,
      "grid_template_areas": null,
      "grid_template_columns": null,
      "grid_template_rows": null,
      "height": null,
      "justify_content": null,
      "justify_items": null,
      "left": null,
      "margin": null,
      "max_height": null,
      "max_width": null,
      "min_height": null,
      "min_width": null,
      "object_fit": null,
      "object_position": null,
      "order": null,
      "overflow": null,
      "overflow_x": null,
      "overflow_y": null,
      "padding": null,
      "right": null,
      "top": null,
      "visibility": "hidden",
      "width": null
     }
    },
    "e4d656c4f3784230bf3e54ed86b11cfd": {
     "model_module": "@jupyter-widgets/controls",
     "model_module_version": "1.5.0",
     "model_name": "HTMLModel",
     "state": {
      "_dom_classes": [],
      "_model_module": "@jupyter-widgets/controls",
      "_model_module_version": "1.5.0",
      "_model_name": "HTMLModel",
      "_view_count": null,
      "_view_module": "@jupyter-widgets/controls",
      "_view_module_version": "1.5.0",
      "_view_name": "HTMLView",
      "description": "",
      "description_tooltip": null,
      "layout": "IPY_MODEL_5276b92d51b6456ab84acc73c957047b",
      "placeholder": "​",
      "style": "IPY_MODEL_a3c99c2172c7457dab65d6ffbce123a3",
      "value": "Epoch 1/5 - Training: 100%"
     }
    },
    "e95dd0fe74f742b7858cfdc5c1991fbf": {
     "model_module": "@jupyter-widgets/controls",
     "model_module_version": "1.5.0",
     "model_name": "FloatProgressModel",
     "state": {
      "_dom_classes": [],
      "_model_module": "@jupyter-widgets/controls",
      "_model_module_version": "1.5.0",
      "_model_name": "FloatProgressModel",
      "_view_count": null,
      "_view_module": "@jupyter-widgets/controls",
      "_view_module_version": "1.5.0",
      "_view_name": "ProgressView",
      "bar_style": "",
      "description": "",
      "description_tooltip": null,
      "layout": "IPY_MODEL_bd62f3c7331748b8811993d4a28e569f",
      "max": 759,
      "min": 0,
      "orientation": "horizontal",
      "style": "IPY_MODEL_1aeaa655e9984d1c8433c335545df070",
      "value": 759
     }
    },
    "ee4044c5c2864a72ac24fb6bf2091bb0": {
     "model_module": "@jupyter-widgets/controls",
     "model_module_version": "1.5.0",
     "model_name": "HTMLModel",
     "state": {
      "_dom_classes": [],
      "_model_module": "@jupyter-widgets/controls",
      "_model_module_version": "1.5.0",
      "_model_name": "HTMLModel",
      "_view_count": null,
      "_view_module": "@jupyter-widgets/controls",
      "_view_module_version": "1.5.0",
      "_view_name": "HTMLView",
      "description": "",
      "description_tooltip": null,
      "layout": "IPY_MODEL_abdefc263eae4fbfa0973b838bed2b39",
      "placeholder": "​",
      "style": "IPY_MODEL_48f5b7b8eb2f4edab959b9bbd898d346",
      "value": " 5/5 [09:44&lt;00:00, 117.64s/it]"
     }
    },
    "f0e8e74a7f044a77978f873dc2f26ac6": {
     "model_module": "@jupyter-widgets/base",
     "model_module_version": "1.2.0",
     "model_name": "LayoutModel",
     "state": {
      "_model_module": "@jupyter-widgets/base",
      "_model_module_version": "1.2.0",
      "_model_name": "LayoutModel",
      "_view_count": null,
      "_view_module": "@jupyter-widgets/base",
      "_view_module_version": "1.2.0",
      "_view_name": "LayoutView",
      "align_content": null,
      "align_items": null,
      "align_self": null,
      "border": null,
      "bottom": null,
      "display": null,
      "flex": null,
      "flex_flow": null,
      "grid_area": null,
      "grid_auto_columns": null,
      "grid_auto_flow": null,
      "grid_auto_rows": null,
      "grid_column": null,
      "grid_gap": null,
      "grid_row": null,
      "grid_template_areas": null,
      "grid_template_columns": null,
      "grid_template_rows": null,
      "height": null,
      "justify_content": null,
      "justify_items": null,
      "left": null,
      "margin": null,
      "max_height": null,
      "max_width": null,
      "min_height": null,
      "min_width": null,
      "object_fit": null,
      "object_position": null,
      "order": null,
      "overflow": null,
      "overflow_x": null,
      "overflow_y": null,
      "padding": null,
      "right": null,
      "top": null,
      "visibility": "hidden",
      "width": null
     }
    },
    "f6af7987fb8a4ed3afca0df97f4c8028": {
     "model_module": "@jupyter-widgets/controls",
     "model_module_version": "1.5.0",
     "model_name": "HBoxModel",
     "state": {
      "_dom_classes": [],
      "_model_module": "@jupyter-widgets/controls",
      "_model_module_version": "1.5.0",
      "_model_name": "HBoxModel",
      "_view_count": null,
      "_view_module": "@jupyter-widgets/controls",
      "_view_module_version": "1.5.0",
      "_view_name": "HBoxView",
      "box_style": "",
      "children": [
       "IPY_MODEL_17daa5f96a7842ca8433aa440c778d8a",
       "IPY_MODEL_0061f677e1904dec953ef3445bb8f451",
       "IPY_MODEL_ee4044c5c2864a72ac24fb6bf2091bb0"
      ],
      "layout": "IPY_MODEL_649951716ad54fe0bf89d20bc6816e3c"
     }
    },
    "fee6d41ebe7d48e59799ac47412491d5": {
     "model_module": "@jupyter-widgets/base",
     "model_module_version": "1.2.0",
     "model_name": "LayoutModel",
     "state": {
      "_model_module": "@jupyter-widgets/base",
      "_model_module_version": "1.2.0",
      "_model_name": "LayoutModel",
      "_view_count": null,
      "_view_module": "@jupyter-widgets/base",
      "_view_module_version": "1.2.0",
      "_view_name": "LayoutView",
      "align_content": null,
      "align_items": null,
      "align_self": null,
      "border": null,
      "bottom": null,
      "display": null,
      "flex": null,
      "flex_flow": null,
      "grid_area": null,
      "grid_auto_columns": null,
      "grid_auto_flow": null,
      "grid_auto_rows": null,
      "grid_column": null,
      "grid_gap": null,
      "grid_row": null,
      "grid_template_areas": null,
      "grid_template_columns": null,
      "grid_template_rows": null,
      "height": null,
      "justify_content": null,
      "justify_items": null,
      "left": null,
      "margin": null,
      "max_height": null,
      "max_width": null,
      "min_height": null,
      "min_width": null,
      "object_fit": null,
      "object_position": null,
      "order": null,
      "overflow": null,
      "overflow_x": null,
      "overflow_y": null,
      "padding": null,
      "right": null,
      "top": null,
      "visibility": "hidden",
      "width": null
     }
    }
   }
  }
 },
 "nbformat": 4,
 "nbformat_minor": 0
}
